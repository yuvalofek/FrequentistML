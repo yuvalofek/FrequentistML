{
  "nbformat": 4,
  "nbformat_minor": 0,
  "metadata": {
    "colab": {
      "name": "NonNegativeMatrixFactorizationFreqML.ipynb",
      "provenance": [],
      "collapsed_sections": [],
      "toc_visible": true,
      "include_colab_link": true
    },
    "kernelspec": {
      "name": "python3",
      "display_name": "Python 3"
    }
  },
  "cells": [
    {
      "cell_type": "markdown",
      "metadata": {
        "id": "view-in-github",
        "colab_type": "text"
      },
      "source": [
        "<a href=\"https://colab.research.google.com/github/yuvalofek/FrequentistML/blob/master/NonNegativeMatrixFactorizationFreqML.ipynb\" target=\"_parent\"><img src=\"https://colab.research.google.com/assets/colab-badge.svg\" alt=\"Open In Colab\"/></a>"
      ]
    },
    {
      "cell_type": "markdown",
      "metadata": {
        "id": "Z2wFY53qtCPj"
      },
      "source": [
        "# Non-Negative Matrix Factorization \n",
        "\n",
        "\n",
        "---\n",
        "\n",
        "Yuval Epstain Ofek and Theo Jaquenoud"
      ]
    },
    {
      "cell_type": "markdown",
      "metadata": {
        "id": "aR_nWGZCs023"
      },
      "source": [
        "**The Prompt:**\n",
        "\n",
        "\n",
        "Select a basic, explicit feedback dataset, many examples here: \n",
        "\n",
        "https://gist.github.com/entaroadun/1653794\n",
        "\n",
        "And use the Surpise library:\n",
        "\n",
        "http://surpriselib.com/\n",
        "\n",
        "To implement a basic recommendation system. Many of those datasets are already loaded into the Surpise package to make this easy. You should tune and cross validate your system to select the best values for the # of latent dimensions, the regularization parameter, and any other hyperparameters.\n",
        "\n",
        "Stretch Goal #1 (3 points)\n",
        "\n",
        "Using an explicit feedback dataset, implement the NMF algorithm by hand, tune it via cross validation to select the # of latent dims and regularzation parameter\n",
        "\n",
        "Stretch goal #2 (3 points)\n",
        "\n",
        "Using an implicit feedback dataset, some can be found here:\n",
        "\n",
        "https://cseweb.ucsd.edu/~jmcauley/datasets.html\n",
        "\n",
        "And implement the implicit feedback version of NMF. Evaluating performance will be harder however, so instead of doing a grid seach and tuning, try to output the ratings explanations (i.e. use eqn 7 of the implicit feedback dataset). Warning: I've never assigned this particular stretch goal before so I dont know how hard this one will be."
      ]
    },
    {
      "cell_type": "markdown",
      "metadata": {
        "id": "5QtLFEpPtM0Z"
      },
      "source": [
        "**TLDR:**\n",
        "\n",
        "\n",
        "*   Select basic explicit feedback dataset\n",
        "*   Import Suprise\n",
        "*   Implement a basic recommendation system\n",
        "*   Cross validate\n",
        "*   Tune # of latent dims, regularization, & other hyperparams\n",
        "\n",
        "Stretch Goals:\n",
        "*   Implement NMF by hand \n",
        "*   Cross validate\n",
        "*   Tune # of latent dims, regularization, & other hyperparams\n",
        "\n",
        "\n",
        "2nd Stretch Goal:\n",
        "* Repeat stretch goal 1 with an IMPLICIT feedback dataset\n",
        "\n",
        "\n"
      ]
    },
    {
      "cell_type": "markdown",
      "metadata": {
        "id": "YyUA1Tc-tg6G"
      },
      "source": [
        "## Main Project"
      ]
    },
    {
      "cell_type": "code",
      "metadata": {
        "colab": {
          "base_uri": "https://localhost:8080/"
        },
        "id": "VEnvffecuZGx",
        "outputId": "619b805d-24ec-429a-fd55-43776b9dd7b7"
      },
      "source": [
        "#install \n",
        "!pip install scikit-surprise"
      ],
      "execution_count": null,
      "outputs": [
        {
          "output_type": "stream",
          "text": [
            "Requirement already satisfied: scikit-surprise in /usr/local/lib/python3.6/dist-packages (1.1.1)\n",
            "Requirement already satisfied: scipy>=1.0.0 in /usr/local/lib/python3.6/dist-packages (from scikit-surprise) (1.4.1)\n",
            "Requirement already satisfied: six>=1.10.0 in /usr/local/lib/python3.6/dist-packages (from scikit-surprise) (1.15.0)\n",
            "Requirement already satisfied: numpy>=1.11.2 in /usr/local/lib/python3.6/dist-packages (from scikit-surprise) (1.18.5)\n",
            "Requirement already satisfied: joblib>=0.11 in /usr/local/lib/python3.6/dist-packages (from scikit-surprise) (0.17.0)\n"
          ],
          "name": "stdout"
        }
      ]
    },
    {
      "cell_type": "code",
      "metadata": {
        "id": "NlUuglpgs0Bj"
      },
      "source": [
        "#import stuff\n",
        "import numpy as np\n",
        "import pandas as pd\n",
        "\n",
        "from surprise import Dataset, Reader, NMF, accuracy\n",
        "from surprise.model_selection import cross_validate, GridSearchCV\n",
        "#from surprise.model_selection import train_test_split\n",
        "from sklearn.model_selection import train_test_split \n",
        "import matplotlib.pyplot as plt\n",
        "\n",
        "from sklearn.metrics import mean_squared_error\n",
        "import sys"
      ],
      "execution_count": null,
      "outputs": []
    },
    {
      "cell_type": "code",
      "metadata": {
        "colab": {
          "base_uri": "https://localhost:8080/",
          "height": 198
        },
        "id": "FdXAvrqmu7pM",
        "outputId": "656e6ec4-a9a8-4744-ee3c-45335feb79e6"
      },
      "source": [
        "#Get dataset:\n",
        "data = Dataset.load_builtin('ml-100k', prompt = False)\n",
        "\n",
        "header = ['user_id', 'item_id', 'rating', 'timestamp']\n",
        "df_data = pd.DataFrame(data.raw_ratings, columns=header)\n",
        "df_data.head()"
      ],
      "execution_count": null,
      "outputs": [
        {
          "output_type": "execute_result",
          "data": {
            "text/html": [
              "<div>\n",
              "<style scoped>\n",
              "    .dataframe tbody tr th:only-of-type {\n",
              "        vertical-align: middle;\n",
              "    }\n",
              "\n",
              "    .dataframe tbody tr th {\n",
              "        vertical-align: top;\n",
              "    }\n",
              "\n",
              "    .dataframe thead th {\n",
              "        text-align: right;\n",
              "    }\n",
              "</style>\n",
              "<table border=\"1\" class=\"dataframe\">\n",
              "  <thead>\n",
              "    <tr style=\"text-align: right;\">\n",
              "      <th></th>\n",
              "      <th>user_id</th>\n",
              "      <th>item_id</th>\n",
              "      <th>rating</th>\n",
              "      <th>timestamp</th>\n",
              "    </tr>\n",
              "  </thead>\n",
              "  <tbody>\n",
              "    <tr>\n",
              "      <th>0</th>\n",
              "      <td>196</td>\n",
              "      <td>242</td>\n",
              "      <td>3.0</td>\n",
              "      <td>881250949</td>\n",
              "    </tr>\n",
              "    <tr>\n",
              "      <th>1</th>\n",
              "      <td>186</td>\n",
              "      <td>302</td>\n",
              "      <td>3.0</td>\n",
              "      <td>891717742</td>\n",
              "    </tr>\n",
              "    <tr>\n",
              "      <th>2</th>\n",
              "      <td>22</td>\n",
              "      <td>377</td>\n",
              "      <td>1.0</td>\n",
              "      <td>878887116</td>\n",
              "    </tr>\n",
              "    <tr>\n",
              "      <th>3</th>\n",
              "      <td>244</td>\n",
              "      <td>51</td>\n",
              "      <td>2.0</td>\n",
              "      <td>880606923</td>\n",
              "    </tr>\n",
              "    <tr>\n",
              "      <th>4</th>\n",
              "      <td>166</td>\n",
              "      <td>346</td>\n",
              "      <td>1.0</td>\n",
              "      <td>886397596</td>\n",
              "    </tr>\n",
              "  </tbody>\n",
              "</table>\n",
              "</div>"
            ],
            "text/plain": [
              "  user_id item_id  rating  timestamp\n",
              "0     196     242     3.0  881250949\n",
              "1     186     302     3.0  891717742\n",
              "2      22     377     1.0  878887116\n",
              "3     244      51     2.0  880606923\n",
              "4     166     346     1.0  886397596"
            ]
          },
          "metadata": {
            "tags": []
          },
          "execution_count": 15
        }
      ]
    },
    {
      "cell_type": "code",
      "metadata": {
        "id": "5-Ct-Fr0xs1c"
      },
      "source": [
        "#Getting movie names\n",
        "itemurl = 'http://files.grouplens.org/datasets/movielens/ml-100k/u.item'\n",
        "item_names = [\"iid\", \"movie title\", \"release date\", \"video release date\",\n",
        "\"IMDb URL\", \"unknown\", \"Action\", \"Adventure\", \"Animation\",\n",
        "\"Children's\", \"Comedy\", \"Crime\", \"Documentary\", \"Drama\", \"Fantasy\",\n",
        "\"Film-Noir\", \"Horror\", \"Musical\", \"Mystery\", \"Romance\", \"Sci-Fi\",\n",
        "\"Thriller\", \"War\", \"Western\"]\n",
        "items = pd.read_csv(itemurl,\n",
        "                    encoding='cp1250',\n",
        "                    header = None,\n",
        "                    delimiter='|')\n",
        "items.columns = item_names\n",
        "\n"
      ],
      "execution_count": null,
      "outputs": []
    },
    {
      "cell_type": "code",
      "metadata": {
        "id": "0JsSOvUF0Uw9",
        "colab": {
          "base_uri": "https://localhost:8080/"
        },
        "outputId": "55bdf22e-92f7-4691-9edb-3629dc92cd9d"
      },
      "source": [
        "params = {\n",
        "    \"n_factors\": np.linspace(1, 10, num=3, dtype=int),\n",
        "    \"n_epochs\": [5,10],\n",
        "    \"reg_pu\": np.logspace(-2, 0, num=3, dtype=float),\n",
        "    \"reg_qi\": np.logspace(-2, 0, num=3, dtype=float)\n",
        "}\n",
        "grid = GridSearchCV(NMF, params, measures=['rmse'], cv=3, n_jobs=-1, joblib_verbose = 1)\n",
        "\n",
        "\n",
        "grid.fit(data)\n",
        "print('Best score: {}'.format(grid.best_score['rmse']))\n",
        "print('Parameters:')\n",
        "print(grid.best_params['rmse'])\n",
        "algo = grid.best_estimator['rmse']\n"
      ],
      "execution_count": null,
      "outputs": [
        {
          "output_type": "stream",
          "text": [
            "[Parallel(n_jobs=-1)]: Using backend LokyBackend with 2 concurrent workers.\n",
            "[Parallel(n_jobs=-1)]: Done  46 tasks      | elapsed:  1.4min\n"
          ],
          "name": "stderr"
        },
        {
          "output_type": "stream",
          "text": [
            "Best score: 0.9764917010202256\n",
            "Parameters:\n",
            "{'n_factors': 5, 'n_epochs': 5, 'reg_pu': 0.1, 'reg_qi': 1.0}\n"
          ],
          "name": "stdout"
        },
        {
          "output_type": "stream",
          "text": [
            "[Parallel(n_jobs=-1)]: Done 162 out of 162 | elapsed:  5.2min finished\n"
          ],
          "name": "stderr"
        }
      ]
    },
    {
      "cell_type": "code",
      "metadata": {
        "id": "If8r__j4gLWI"
      },
      "source": [
        "trainset = data.build_full_trainset()\n",
        "\n",
        "algo.fit(trainset)\n",
        "testset = trainset.build_anti_testset()\n",
        "predictions = algo.test(testset)\n"
      ],
      "execution_count": null,
      "outputs": []
    },
    {
      "cell_type": "code",
      "metadata": {
        "id": "GeVG0IjxpNE2",
        "colab": {
          "base_uri": "https://localhost:8080/",
          "height": 407
        },
        "outputId": "0a634c73-c232-4de4-9976-2b3dfe3cb353"
      },
      "source": [
        "pred = pd.DataFrame(predictions)\n",
        "pred['iid'] = pred['iid'].astype('int')\n",
        "merged = pd.merge(pred, items[['iid', 'movie title']], on= 'iid')\n",
        "merged.drop(['iid', 'details'], axis = 1, inplace=True)\n",
        "\n",
        "names = ['UserID', 'Rating', 'Estimated Rating', 'Movie Title']\n",
        "merged.columns = names\n",
        "merged.sort_values('UserID', inplace=True)\n",
        "merged"
      ],
      "execution_count": null,
      "outputs": [
        {
          "output_type": "execute_result",
          "data": {
            "text/html": [
              "<div>\n",
              "<style scoped>\n",
              "    .dataframe tbody tr th:only-of-type {\n",
              "        vertical-align: middle;\n",
              "    }\n",
              "\n",
              "    .dataframe tbody tr th {\n",
              "        vertical-align: top;\n",
              "    }\n",
              "\n",
              "    .dataframe thead th {\n",
              "        text-align: right;\n",
              "    }\n",
              "</style>\n",
              "<table border=\"1\" class=\"dataframe\">\n",
              "  <thead>\n",
              "    <tr style=\"text-align: right;\">\n",
              "      <th></th>\n",
              "      <th>UserID</th>\n",
              "      <th>Rating</th>\n",
              "      <th>Estimated Rating</th>\n",
              "      <th>Movie Title</th>\n",
              "    </tr>\n",
              "  </thead>\n",
              "  <tbody>\n",
              "    <tr>\n",
              "      <th>694556</th>\n",
              "      <td>1</td>\n",
              "      <td>3.52986</td>\n",
              "      <td>2.548265</td>\n",
              "      <td>Tales from the Crypt Presents: Bordello of Blo...</td>\n",
              "    </tr>\n",
              "    <tr>\n",
              "      <th>810066</th>\n",
              "      <td>1</td>\n",
              "      <td>3.52986</td>\n",
              "      <td>3.334686</td>\n",
              "      <td>Mrs. Parker and the Vicious Circle (1994)</td>\n",
              "    </tr>\n",
              "    <tr>\n",
              "      <th>1433246</th>\n",
              "      <td>1</td>\n",
              "      <td>3.52986</td>\n",
              "      <td>4.239117</td>\n",
              "      <td>My Favorite Season (1993)</td>\n",
              "    </tr>\n",
              "    <tr>\n",
              "      <th>1292198</th>\n",
              "      <td>1</td>\n",
              "      <td>3.52986</td>\n",
              "      <td>1.919555</td>\n",
              "      <td>Here Comes Cookie (1935)</td>\n",
              "    </tr>\n",
              "    <tr>\n",
              "      <th>1315684</th>\n",
              "      <td>1</td>\n",
              "      <td>3.52986</td>\n",
              "      <td>1.558703</td>\n",
              "      <td>Naked in New York (1994)</td>\n",
              "    </tr>\n",
              "    <tr>\n",
              "      <th>...</th>\n",
              "      <td>...</td>\n",
              "      <td>...</td>\n",
              "      <td>...</td>\n",
              "      <td>...</td>\n",
              "    </tr>\n",
              "    <tr>\n",
              "      <th>1078426</th>\n",
              "      <td>99</td>\n",
              "      <td>3.52986</td>\n",
              "      <td>2.318623</td>\n",
              "      <td>Senseless (1998)</td>\n",
              "    </tr>\n",
              "    <tr>\n",
              "      <th>559719</th>\n",
              "      <td>99</td>\n",
              "      <td>3.52986</td>\n",
              "      <td>2.609442</td>\n",
              "      <td>Batman &amp; Robin (1997)</td>\n",
              "    </tr>\n",
              "    <tr>\n",
              "      <th>1450128</th>\n",
              "      <td>99</td>\n",
              "      <td>3.52986</td>\n",
              "      <td>3.101678</td>\n",
              "      <td>Scream of Stone (Schrei aus Stein) (1991)</td>\n",
              "    </tr>\n",
              "    <tr>\n",
              "      <th>581901</th>\n",
              "      <td>99</td>\n",
              "      <td>3.52986</td>\n",
              "      <td>2.317030</td>\n",
              "      <td>McHale's Navy (1997)</td>\n",
              "    </tr>\n",
              "    <tr>\n",
              "      <th>774516</th>\n",
              "      <td>99</td>\n",
              "      <td>3.52986</td>\n",
              "      <td>3.766321</td>\n",
              "      <td>Fly Away Home (1996)</td>\n",
              "    </tr>\n",
              "  </tbody>\n",
              "</table>\n",
              "<p>1486126 rows × 4 columns</p>\n",
              "</div>"
            ],
            "text/plain": [
              "        UserID  ...                                        Movie Title\n",
              "694556       1  ...  Tales from the Crypt Presents: Bordello of Blo...\n",
              "810066       1  ...          Mrs. Parker and the Vicious Circle (1994)\n",
              "1433246      1  ...                          My Favorite Season (1993)\n",
              "1292198      1  ...                           Here Comes Cookie (1935)\n",
              "1315684      1  ...                           Naked in New York (1994)\n",
              "...        ...  ...                                                ...\n",
              "1078426     99  ...                                   Senseless (1998)\n",
              "559719      99  ...                              Batman & Robin (1997)\n",
              "1450128     99  ...          Scream of Stone (Schrei aus Stein) (1991)\n",
              "581901      99  ...                               McHale's Navy (1997)\n",
              "774516      99  ...                               Fly Away Home (1996)\n",
              "\n",
              "[1486126 rows x 4 columns]"
            ]
          },
          "metadata": {
            "tags": []
          },
          "execution_count": 19
        }
      ]
    },
    {
      "cell_type": "markdown",
      "metadata": {
        "id": "lwGnTH14td6M"
      },
      "source": [
        "## Implementing SGD NMF"
      ]
    },
    {
      "cell_type": "code",
      "metadata": {
        "id": "hcALDz4lr_tC"
      },
      "source": [
        "class sgd_nmf:\n",
        "  \n",
        "  def __init__(self, n_latent_dims=3, lmbda=0.1, learning_rate=0.001, n_epochs=200):\n",
        "    self.n_epochs = n_epochs\n",
        "    self.n_latent_dims = n_latent_dims\n",
        "    self.lmbda = lmbda\n",
        "    self.learning_rate = learning_rate\n",
        "  \n",
        "  def N(self, P, Q):\n",
        "    return np.dot(P.T, Q)\n",
        "  \n",
        "  def fit(self, X_train, X_val):\n",
        "    m, n = X_train.shape\n",
        "\n",
        "    #center gaussian about average rating for a 1-5 scale (1+2+3+4+5)/5 = 3\n",
        "    self.Q = 3 * np.random.rand(self.n_latent_dims, n) \n",
        "    self.P = 3 * np.random.rand(self.n_latent_dims, m)\n",
        "    \n",
        "    self.train_error = []\n",
        "    self.val_error = []\n",
        "\n",
        "    users, items = X_train.nonzero()\n",
        "    \n",
        "    for epoch in range(self.n_epochs):\n",
        "        for u, i in zip(users, items):\n",
        "            error = X_train[u, i] - self.N(self.P[:,u], self.Q[:,i])\n",
        "            self.Q[:, i] += self.learning_rate * (error * self.P[:,u] - self.lmbda * self.Q[:,i])\n",
        "            self.P[:, u] += self.learning_rate * (error * self.Q[:,i] - self.lmbda * self.P[:,u])\n",
        "\n",
        "        train_rmse = rmse(self.N(self.P, self.Q), X_train)\n",
        "        val_rmse = rmse(self.N(self.P, self.Q), X_val)\n",
        "        self.train_error.append(train_rmse)\n",
        "        self.val_error.append(val_rmse)\n",
        "        \n",
        "    return self\n",
        "  \n",
        "  def predict(self, X_train, user_index):\n",
        "    y_hat = self.N(self.P, self.Q)\n",
        "    predictions_index = np.where(X_train[user_index, :] == 0)[0]\n",
        "\n",
        "    return y_hat[user_index, predictions_index].flatten()"
      ],
      "execution_count": null,
      "outputs": []
    },
    {
      "cell_type": "code",
      "metadata": {
        "id": "P0nTjeZDtSjk"
      },
      "source": [
        "def rmse(prediction, ground_truth):\n",
        "    prediction = prediction[ground_truth.nonzero()].flatten()\n",
        "    ground_truth = ground_truth[ground_truth.nonzero()].flatten()\n",
        "    return np.sqrt(mean_squared_error(prediction, ground_truth))"
      ],
      "execution_count": null,
      "outputs": []
    },
    {
      "cell_type": "markdown",
      "metadata": {
        "id": "_nN3WCCkbSQz"
      },
      "source": [
        "This train_test_split function removes certain user ratings from the data in order to create a sparser matrix and basically simulate the \"cold start\" problem or deal with missing ratings"
      ]
    },
    {
      "cell_type": "code",
      "metadata": {
        "id": "xdSaarFYsPNf"
      },
      "source": [
        "# train - test split\n",
        "def train_test_split(ratings, percs = [0.8, 0.2]):\n",
        "    \n",
        "    validation = np.zeros(ratings.shape)\n",
        "    train = ratings.copy()\n",
        "    \n",
        "    for user in np.arange(ratings.shape[0]):\n",
        "        val_ratings = np.random.choice(ratings[user,:].nonzero()[0],\n",
        "                                        size = round(len(ratings[user,:].nonzero()[0]) * percs[1]),\n",
        "                                        replace=False\n",
        "                                        )\n",
        "        train[user, val_ratings] = 0\n",
        "        validation[user, val_ratings] = ratings[user, val_ratings]\n",
        "    \n",
        "    return train, validation"
      ],
      "execution_count": null,
      "outputs": []
    },
    {
      "cell_type": "markdown",
      "metadata": {
        "id": "neh_SyEqbdMJ"
      },
      "source": [
        "We can interpret this sample matrix (small to make it readable) as the ratings a given user (rows) gives to a particular movie (columns)"
      ]
    },
    {
      "cell_type": "code",
      "metadata": {
        "id": "ChQKuaxObWlf"
      },
      "source": [
        "R = np.array([\n",
        "    [5, 3, 0, 1, 5],\n",
        "    [4, 0, 0, 1, 4],\n",
        "    [1, 1, 0, 5, 2],\n",
        "    [1, 0, 0, 4, 0],\n",
        "    [0, 1, 5, 4, 0],\n",
        "    ])"
      ],
      "execution_count": null,
      "outputs": []
    },
    {
      "cell_type": "code",
      "metadata": {
        "id": "89yVtI2WbgYI",
        "colab": {
          "base_uri": "https://localhost:8080/"
        },
        "outputId": "5a9623f5-a90f-4cd6-94ac-11710a80e5e2"
      },
      "source": [
        "X_train, X_val = train_test_split(R)\n",
        "print(R)\n",
        "print(X_train)\n",
        "print(X_val)"
      ],
      "execution_count": null,
      "outputs": [
        {
          "output_type": "stream",
          "text": [
            "[[5 3 0 1 5]\n",
            " [4 0 0 1 4]\n",
            " [1 1 0 5 2]\n",
            " [1 0 0 4 0]\n",
            " [0 1 5 4 0]]\n",
            "[[5 3 0 1 0]\n",
            " [4 0 0 0 4]\n",
            " [0 1 0 5 2]\n",
            " [1 0 0 4 0]\n",
            " [0 1 0 4 0]]\n",
            "[[0. 0. 0. 0. 5.]\n",
            " [0. 0. 0. 1. 0.]\n",
            " [1. 0. 0. 0. 0.]\n",
            " [0. 0. 0. 0. 0.]\n",
            " [0. 0. 5. 0. 0.]]\n"
          ],
          "name": "stdout"
        }
      ]
    },
    {
      "cell_type": "code",
      "metadata": {
        "id": "RLyd3aQWbl4Z",
        "colab": {
          "base_uri": "https://localhost:8080/",
          "height": 297
        },
        "outputId": "ca148418-a046-48f7-d5c2-0e37054f52a1"
      },
      "source": [
        "# def __init__(self, n_latent_dims=3, lmbda=0.1, learning_rate=0.001, n_epochs=200):\n",
        "\n",
        "dims = [2,3,4]\n",
        "lds = [0.05, 0.1, 0.15, 0.2]\n",
        "lrs = [0.001, 0.002, 0.003, 0.004]\n",
        "\n",
        "best_params = [0,0,0]\n",
        "best_MSE = float(\"inf\")\n",
        "best_model = sgd_nmf()\n",
        "\n",
        "#print(MSE<sys.maxsize)\n",
        "\n",
        "for dim, ld, lr in zip(dims, lds, lrs):\n",
        "  my_nmf = sgd_nmf(n_latent_dims = dim, lmbda=ld, learning_rate=lr)\n",
        "  my_nmf.fit(X_train, X_val)\n",
        "  if my_nmf.val_error[-1] < best_MSE:\n",
        "    best_params = [dim,ld,lr]\n",
        "    best_model = my_nmf\n",
        "    best_MSE = my_nmf.val_error[-1]\n",
        "\n",
        "print(best_params)\n",
        "plt.plot(range(my_nmf.n_epochs), best_model.train_error, label='Training Curve');\n",
        "plt.plot(range(my_nmf.n_epochs), best_model.val_error, label='Validation Curve');\n",
        "plt.xlabel('Epochs');\n",
        "plt.ylabel('Root Mean Squared Error');\n",
        "plt.legend()\n",
        "plt.grid()\n",
        "plt.show()"
      ],
      "execution_count": null,
      "outputs": [
        {
          "output_type": "stream",
          "text": [
            "[4, 0.15, 0.003]\n"
          ],
          "name": "stdout"
        },
        {
          "output_type": "display_data",
          "data": {
            "image/png": "[encoded data removed]",
            "text/plain": [
              "<Figure size 432x288 with 1 Axes>"
            ]
          },
          "metadata": {
            "tags": [],
            "needs_background": "light"
          }
        }
      ]
    }
  ]
}