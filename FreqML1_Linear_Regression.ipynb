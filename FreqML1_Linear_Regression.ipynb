{
  "nbformat": 4,
  "nbformat_minor": 0,
  "metadata": {
    "colab": {
      "name": "FreqML1_Linear_Regression.ipynb",
      "provenance": [],
      "collapsed_sections": [],
      "toc_visible": true,
      "authorship_tag": "ABX9TyNlqp4hfk6uSStCFYNmuB+u",
      "include_colab_link": true
    },
    "kernelspec": {
      "name": "python3",
      "display_name": "Python 3"
    }
  },
  "cells": [
    {
      "cell_type": "markdown",
      "metadata": {
        "id": "view-in-github",
        "colab_type": "text"
      },
      "source": [
        "<a href=\"https://colab.research.google.com/github/yuvalofek/FrequentistML/blob/master/FreqML1_Linear_Regression.ipynb\" target=\"_parent\"><img src=\"https://colab.research.google.com/assets/colab-badge.svg\" alt=\"Open In Colab\"/></a>"
      ]
    },
    {
      "cell_type": "markdown",
      "metadata": {
        "id": "buXNIqVMdYdd",
        "colab_type": "text"
      },
      "source": [
        "\n",
        "# **Frequentist ML Assignment 1 - Linear Regression**\n",
        "Yuval Epstain Ofek\n",
        "---\n",
        "\n",
        "Note: I have been trying to teach myself python, so I would love comments and tips \n",
        "\n",
        "---\n",
        "\n"
      ]
    },
    {
      "cell_type": "markdown",
      "metadata": {
        "id": "zqmMNB7feFtn",
        "colab_type": "text"
      },
      "source": [
        "# **The Prompt:**\n",
        "\n",
        "Download the prostate cancer dataset from the books resources:\n",
        "\n",
        "https://web.stanford.edu/~hastie/ElemStatLearn/data.html\n",
        "\n",
        "Replicate the analysis from chapter 3 of this dataset. Divide your data into roughly 80% train, 10% validation, 10% test. You must keep this split for all 3 parts of this assignment in order to compare the methods fairly. Replicate the textbooks analysis of this dataset. by doing the following\n",
        "\n",
        "**a)** Plain old linear regression, with no regularization. You must code this one by hand (i.e use equation 3.6 to find the betas).  Report the mean squared error on the test dataset. Replicate tables 3.1 and 3.2. You will not need the validation set for this part of the assigment.\n",
        "\n",
        "**b)** Ridge regression. You must also code this one by hand(eq 3.44 to find the betas). Select the optimal value of Lambda by cross-validation using the validation dataset. Report the mean squared error on the test dataset, using the best lambda you found on the validation set. DO NOT USE THE TEST DATASET TO CHOOSE LAMBDA. Plot a ridge plot similar to figure 3.8, but you can just sweep the lambda parameter (you don't have to scale it to degrees of freedom).\n",
        "\n",
        "**c)** Lasso regression: Use  the built in packages in sci-kit learn or MATLAB to do a Lasso regression. Select the optimal value of lambda as in part b) and also display a Lasso plot similar to figure 3.10, but again you can just sweep the lambda parameter. \n",
        "\n",
        "Next, download a dataset suitable for linear regression from UCI or another repository. For now, this should be a dataset that only has numerical features, with no missing values. Repeat the analysis above on this dataset.\n",
        "\n",
        "Which features did the Lasso select for you to include in your model? Do these features make sense?\n",
        "Compute the MSE on the training dataset and the test dataset for all methods and comment on the results.  Compare this MSE to a baseline MSE.\n",
        "\n",
        "**Stretch goal** (2 points): Add nonlinear and interaction terms to your dataset and try to improve the performance. Are you able to do so? \n",
        "\n"
      ]
    },
    {
      "cell_type": "markdown",
      "metadata": {
        "id": "lNixKobnCpqu",
        "colab_type": "text"
      },
      "source": [
        "#Imports & Installs"
      ]
    },
    {
      "cell_type": "code",
      "metadata": {
        "id": "g18FNY_bPSMw",
        "colab_type": "code",
        "colab": {
          "base_uri": "https://localhost:8080/",
          "height": 1000
        },
        "outputId": "aa59461f-41aa-469c-c95e-f28d45da30c1"
      },
      "source": [
        "#Install Pandas profiling\n",
        "!pip install https://github.com/pandas-profiling/pandas-profiling/archive/master.zip"
      ],
      "execution_count": 274,
      "outputs": [
        {
          "output_type": "stream",
          "text": [
            "Collecting https://github.com/pandas-profiling/pandas-profiling/archive/master.zip\n",
            "  Using cached https://github.com/pandas-profiling/pandas-profiling/archive/master.zip\n",
            "Requirement already satisfied (use --upgrade to upgrade): pandas-profiling==2.9.0 from https://github.com/pandas-profiling/pandas-profiling/archive/master.zip in /usr/local/lib/python3.6/dist-packages\n",
            "Requirement already satisfied: joblib in /usr/local/lib/python3.6/dist-packages (from pandas-profiling==2.9.0) (0.16.0)\n",
            "Requirement already satisfied: scipy>=1.4.1 in /usr/local/lib/python3.6/dist-packages (from pandas-profiling==2.9.0) (1.4.1)\n",
            "Requirement already satisfied: pandas!=1.0.0,!=1.0.1,!=1.0.2,!=1.1.0,>=0.25.3 in /usr/local/lib/python3.6/dist-packages (from pandas-profiling==2.9.0) (1.0.5)\n",
            "Requirement already satisfied: matplotlib>=3.2.0 in /usr/local/lib/python3.6/dist-packages (from pandas-profiling==2.9.0) (3.2.2)\n",
            "Requirement already satisfied: confuse>=1.0.0 in /usr/local/lib/python3.6/dist-packages (from pandas-profiling==2.9.0) (1.3.0)\n",
            "Requirement already satisfied: jinja2>=2.11.1 in /usr/local/lib/python3.6/dist-packages (from pandas-profiling==2.9.0) (2.11.2)\n",
            "Requirement already satisfied: visions[type_image_path]==0.5.0 in /usr/local/lib/python3.6/dist-packages (from pandas-profiling==2.9.0) (0.5.0)\n",
            "Requirement already satisfied: numpy>=1.16.0 in /usr/local/lib/python3.6/dist-packages (from pandas-profiling==2.9.0) (1.18.5)\n",
            "Requirement already satisfied: attrs>=19.3.0 in /usr/local/lib/python3.6/dist-packages (from pandas-profiling==2.9.0) (20.1.0)\n",
            "Requirement already satisfied: htmlmin>=0.1.12 in /usr/local/lib/python3.6/dist-packages (from pandas-profiling==2.9.0) (0.1.12)\n",
            "Requirement already satisfied: missingno>=0.4.2 in /usr/local/lib/python3.6/dist-packages (from pandas-profiling==2.9.0) (0.4.2)\n",
            "Requirement already satisfied: phik>=0.9.10 in /usr/local/lib/python3.6/dist-packages (from pandas-profiling==2.9.0) (0.10.0)\n",
            "Requirement already satisfied: tangled-up-in-unicode>=0.0.6 in /usr/local/lib/python3.6/dist-packages (from pandas-profiling==2.9.0) (0.0.6)\n",
            "Requirement already satisfied: requests>=2.23.0 in /usr/local/lib/python3.6/dist-packages (from pandas-profiling==2.9.0) (2.23.0)\n",
            "Requirement already satisfied: tqdm>=4.43.0 in /usr/local/lib/python3.6/dist-packages (from pandas-profiling==2.9.0) (4.48.2)\n",
            "Requirement already satisfied: ipywidgets>=7.5.1 in /usr/local/lib/python3.6/dist-packages (from pandas-profiling==2.9.0) (7.5.1)\n",
            "Requirement already satisfied: seaborn>=0.10.1 in /usr/local/lib/python3.6/dist-packages (from pandas-profiling==2.9.0) (0.10.1)\n",
            "Requirement already satisfied: pytz>=2017.2 in /usr/local/lib/python3.6/dist-packages (from pandas!=1.0.0,!=1.0.1,!=1.0.2,!=1.1.0,>=0.25.3->pandas-profiling==2.9.0) (2018.9)\n",
            "Requirement already satisfied: python-dateutil>=2.6.1 in /usr/local/lib/python3.6/dist-packages (from pandas!=1.0.0,!=1.0.1,!=1.0.2,!=1.1.0,>=0.25.3->pandas-profiling==2.9.0) (2.8.1)\n",
            "Requirement already satisfied: cycler>=0.10 in /usr/local/lib/python3.6/dist-packages (from matplotlib>=3.2.0->pandas-profiling==2.9.0) (0.10.0)\n",
            "Requirement already satisfied: kiwisolver>=1.0.1 in /usr/local/lib/python3.6/dist-packages (from matplotlib>=3.2.0->pandas-profiling==2.9.0) (1.2.0)\n",
            "Requirement already satisfied: pyparsing!=2.0.4,!=2.1.2,!=2.1.6,>=2.0.1 in /usr/local/lib/python3.6/dist-packages (from matplotlib>=3.2.0->pandas-profiling==2.9.0) (2.4.7)\n",
            "Requirement already satisfied: pyyaml in /usr/local/lib/python3.6/dist-packages (from confuse>=1.0.0->pandas-profiling==2.9.0) (3.13)\n",
            "Requirement already satisfied: MarkupSafe>=0.23 in /usr/local/lib/python3.6/dist-packages (from jinja2>=2.11.1->pandas-profiling==2.9.0) (1.1.1)\n",
            "Requirement already satisfied: networkx>=2.4 in /usr/local/lib/python3.6/dist-packages (from visions[type_image_path]==0.5.0->pandas-profiling==2.9.0) (2.5)\n",
            "Requirement already satisfied: imagehash; extra == \"type_image_path\" in /usr/local/lib/python3.6/dist-packages (from visions[type_image_path]==0.5.0->pandas-profiling==2.9.0) (4.1.0)\n",
            "Requirement already satisfied: Pillow; extra == \"type_image_path\" in /usr/local/lib/python3.6/dist-packages (from visions[type_image_path]==0.5.0->pandas-profiling==2.9.0) (7.0.0)\n",
            "Requirement already satisfied: numba>=0.38.1 in /usr/local/lib/python3.6/dist-packages (from phik>=0.9.10->pandas-profiling==2.9.0) (0.48.0)\n",
            "Requirement already satisfied: certifi>=2017.4.17 in /usr/local/lib/python3.6/dist-packages (from requests>=2.23.0->pandas-profiling==2.9.0) (2020.6.20)\n",
            "Requirement already satisfied: urllib3!=1.25.0,!=1.25.1,<1.26,>=1.21.1 in /usr/local/lib/python3.6/dist-packages (from requests>=2.23.0->pandas-profiling==2.9.0) (1.24.3)\n",
            "Requirement already satisfied: chardet<4,>=3.0.2 in /usr/local/lib/python3.6/dist-packages (from requests>=2.23.0->pandas-profiling==2.9.0) (3.0.4)\n",
            "Requirement already satisfied: idna<3,>=2.5 in /usr/local/lib/python3.6/dist-packages (from requests>=2.23.0->pandas-profiling==2.9.0) (2.10)\n",
            "Requirement already satisfied: traitlets>=4.3.1 in /usr/local/lib/python3.6/dist-packages (from ipywidgets>=7.5.1->pandas-profiling==2.9.0) (4.3.3)\n",
            "Requirement already satisfied: ipykernel>=4.5.1 in /usr/local/lib/python3.6/dist-packages (from ipywidgets>=7.5.1->pandas-profiling==2.9.0) (4.10.1)\n",
            "Requirement already satisfied: ipython>=4.0.0; python_version >= \"3.3\" in /usr/local/lib/python3.6/dist-packages (from ipywidgets>=7.5.1->pandas-profiling==2.9.0) (5.5.0)\n",
            "Requirement already satisfied: widgetsnbextension~=3.5.0 in /usr/local/lib/python3.6/dist-packages (from ipywidgets>=7.5.1->pandas-profiling==2.9.0) (3.5.1)\n",
            "Requirement already satisfied: nbformat>=4.2.0 in /usr/local/lib/python3.6/dist-packages (from ipywidgets>=7.5.1->pandas-profiling==2.9.0) (5.0.7)\n",
            "Requirement already satisfied: six>=1.5 in /usr/local/lib/python3.6/dist-packages (from python-dateutil>=2.6.1->pandas!=1.0.0,!=1.0.1,!=1.0.2,!=1.1.0,>=0.25.3->pandas-profiling==2.9.0) (1.15.0)\n",
            "Requirement already satisfied: decorator>=4.3.0 in /usr/local/lib/python3.6/dist-packages (from networkx>=2.4->visions[type_image_path]==0.5.0->pandas-profiling==2.9.0) (4.4.2)\n",
            "Requirement already satisfied: PyWavelets in /usr/local/lib/python3.6/dist-packages (from imagehash; extra == \"type_image_path\"->visions[type_image_path]==0.5.0->pandas-profiling==2.9.0) (1.1.1)\n",
            "Requirement already satisfied: llvmlite<0.32.0,>=0.31.0dev0 in /usr/local/lib/python3.6/dist-packages (from numba>=0.38.1->phik>=0.9.10->pandas-profiling==2.9.0) (0.31.0)\n",
            "Requirement already satisfied: setuptools in /usr/local/lib/python3.6/dist-packages (from numba>=0.38.1->phik>=0.9.10->pandas-profiling==2.9.0) (49.6.0)\n",
            "Requirement already satisfied: ipython-genutils in /usr/local/lib/python3.6/dist-packages (from traitlets>=4.3.1->ipywidgets>=7.5.1->pandas-profiling==2.9.0) (0.2.0)\n",
            "Requirement already satisfied: tornado>=4.0 in /usr/local/lib/python3.6/dist-packages (from ipykernel>=4.5.1->ipywidgets>=7.5.1->pandas-profiling==2.9.0) (5.1.1)\n",
            "Requirement already satisfied: jupyter-client in /usr/local/lib/python3.6/dist-packages (from ipykernel>=4.5.1->ipywidgets>=7.5.1->pandas-profiling==2.9.0) (5.3.5)\n",
            "Requirement already satisfied: simplegeneric>0.8 in /usr/local/lib/python3.6/dist-packages (from ipython>=4.0.0; python_version >= \"3.3\"->ipywidgets>=7.5.1->pandas-profiling==2.9.0) (0.8.1)\n",
            "Requirement already satisfied: pygments in /usr/local/lib/python3.6/dist-packages (from ipython>=4.0.0; python_version >= \"3.3\"->ipywidgets>=7.5.1->pandas-profiling==2.9.0) (2.1.3)\n",
            "Requirement already satisfied: pickleshare in /usr/local/lib/python3.6/dist-packages (from ipython>=4.0.0; python_version >= \"3.3\"->ipywidgets>=7.5.1->pandas-profiling==2.9.0) (0.7.5)\n",
            "Requirement already satisfied: pexpect; sys_platform != \"win32\" in /usr/local/lib/python3.6/dist-packages (from ipython>=4.0.0; python_version >= \"3.3\"->ipywidgets>=7.5.1->pandas-profiling==2.9.0) (4.8.0)\n",
            "Requirement already satisfied: prompt-toolkit<2.0.0,>=1.0.4 in /usr/local/lib/python3.6/dist-packages (from ipython>=4.0.0; python_version >= \"3.3\"->ipywidgets>=7.5.1->pandas-profiling==2.9.0) (1.0.18)\n",
            "Requirement already satisfied: notebook>=4.4.1 in /usr/local/lib/python3.6/dist-packages (from widgetsnbextension~=3.5.0->ipywidgets>=7.5.1->pandas-profiling==2.9.0) (5.3.1)\n",
            "Requirement already satisfied: jsonschema!=2.5.0,>=2.4 in /usr/local/lib/python3.6/dist-packages (from nbformat>=4.2.0->ipywidgets>=7.5.1->pandas-profiling==2.9.0) (2.6.0)\n",
            "Requirement already satisfied: jupyter-core in /usr/local/lib/python3.6/dist-packages (from nbformat>=4.2.0->ipywidgets>=7.5.1->pandas-profiling==2.9.0) (4.6.3)\n",
            "Requirement already satisfied: pyzmq>=13 in /usr/local/lib/python3.6/dist-packages (from jupyter-client->ipykernel>=4.5.1->ipywidgets>=7.5.1->pandas-profiling==2.9.0) (19.0.2)\n",
            "Requirement already satisfied: ptyprocess>=0.5 in /usr/local/lib/python3.6/dist-packages (from pexpect; sys_platform != \"win32\"->ipython>=4.0.0; python_version >= \"3.3\"->ipywidgets>=7.5.1->pandas-profiling==2.9.0) (0.6.0)\n",
            "Requirement already satisfied: wcwidth in /usr/local/lib/python3.6/dist-packages (from prompt-toolkit<2.0.0,>=1.0.4->ipython>=4.0.0; python_version >= \"3.3\"->ipywidgets>=7.5.1->pandas-profiling==2.9.0) (0.2.5)\n",
            "Requirement already satisfied: terminado>=0.8.1 in /usr/local/lib/python3.6/dist-packages (from notebook>=4.4.1->widgetsnbextension~=3.5.0->ipywidgets>=7.5.1->pandas-profiling==2.9.0) (0.8.3)\n",
            "Requirement already satisfied: Send2Trash in /usr/local/lib/python3.6/dist-packages (from notebook>=4.4.1->widgetsnbextension~=3.5.0->ipywidgets>=7.5.1->pandas-profiling==2.9.0) (1.5.0)\n",
            "Requirement already satisfied: nbconvert in /usr/local/lib/python3.6/dist-packages (from notebook>=4.4.1->widgetsnbextension~=3.5.0->ipywidgets>=7.5.1->pandas-profiling==2.9.0) (5.6.1)\n",
            "Requirement already satisfied: defusedxml in /usr/local/lib/python3.6/dist-packages (from nbconvert->notebook>=4.4.1->widgetsnbextension~=3.5.0->ipywidgets>=7.5.1->pandas-profiling==2.9.0) (0.6.0)\n",
            "Requirement already satisfied: bleach in /usr/local/lib/python3.6/dist-packages (from nbconvert->notebook>=4.4.1->widgetsnbextension~=3.5.0->ipywidgets>=7.5.1->pandas-profiling==2.9.0) (3.1.5)\n",
            "Requirement already satisfied: testpath in /usr/local/lib/python3.6/dist-packages (from nbconvert->notebook>=4.4.1->widgetsnbextension~=3.5.0->ipywidgets>=7.5.1->pandas-profiling==2.9.0) (0.4.4)\n",
            "Requirement already satisfied: pandocfilters>=1.4.1 in /usr/local/lib/python3.6/dist-packages (from nbconvert->notebook>=4.4.1->widgetsnbextension~=3.5.0->ipywidgets>=7.5.1->pandas-profiling==2.9.0) (1.4.2)\n",
            "Requirement already satisfied: entrypoints>=0.2.2 in /usr/local/lib/python3.6/dist-packages (from nbconvert->notebook>=4.4.1->widgetsnbextension~=3.5.0->ipywidgets>=7.5.1->pandas-profiling==2.9.0) (0.3)\n",
            "Requirement already satisfied: mistune<2,>=0.8.1 in /usr/local/lib/python3.6/dist-packages (from nbconvert->notebook>=4.4.1->widgetsnbextension~=3.5.0->ipywidgets>=7.5.1->pandas-profiling==2.9.0) (0.8.4)\n",
            "Requirement already satisfied: webencodings in /usr/local/lib/python3.6/dist-packages (from bleach->nbconvert->notebook>=4.4.1->widgetsnbextension~=3.5.0->ipywidgets>=7.5.1->pandas-profiling==2.9.0) (0.5.1)\n",
            "Requirement already satisfied: packaging in /usr/local/lib/python3.6/dist-packages (from bleach->nbconvert->notebook>=4.4.1->widgetsnbextension~=3.5.0->ipywidgets>=7.5.1->pandas-profiling==2.9.0) (20.4)\n",
            "Building wheels for collected packages: pandas-profiling\n",
            "  Building wheel for pandas-profiling (setup.py) ... \u001b[?25l\u001b[?25hdone\n",
            "  Created wheel for pandas-profiling: filename=pandas_profiling-2.9.0-py2.py3-none-any.whl size=258951 sha256=7d4f86be0b6b9e549606699c42f66afadd36863749fcd0bd4e5c684f332661bf\n",
            "  Stored in directory: /tmp/pip-ephem-wheel-cache-ef85zak7/wheels/56/c2/dd/8d945b0443c35df7d5f62fa9e9ae105a2d8b286302b92e0109\n",
            "Successfully built pandas-profiling\n"
          ],
          "name": "stdout"
        }
      ]
    },
    {
      "cell_type": "code",
      "metadata": {
        "id": "XnqxNan_CpL4",
        "colab_type": "code",
        "colab": {}
      },
      "source": [
        "#import stuff\n",
        "from sklearn import linear_model as lm  #linear model for Lasso\n",
        "from sklearn.model_selection import train_test_split  #for spliting data\n",
        "import sklearn.preprocessing as prep    #preprocessing\n",
        "import matplotlib.pyplot as plt #plotting\n",
        "import numpy as np  #lin alg \n",
        "import pandas as pd #data extraction from website\n",
        "\n",
        "from pandas_profiling import ProfileReport  #profiling function\n",
        "from tabulate import tabulate   #tables"
      ],
      "execution_count": 275,
      "outputs": []
    },
    {
      "cell_type": "markdown",
      "metadata": {
        "id": "qMWiSsbx94ds",
        "colab_type": "text"
      },
      "source": [
        "#Prostate Data"
      ]
    },
    {
      "cell_type": "markdown",
      "metadata": {
        "id": "6_kLYd4YB1jB",
        "colab_type": "text"
      },
      "source": [
        "## Importing the Prostate Data "
      ]
    },
    {
      "cell_type": "code",
      "metadata": {
        "id": "UTHWWYqSB8XA",
        "colab_type": "code",
        "colab": {
          "base_uri": "https://localhost:8080/",
          "height": 301
        },
        "outputId": "5c526047-ab65-4571-abde-3b4eaf17800f"
      },
      "source": [
        "#import prostate.data\n",
        "!wget https://web.stanford.edu/~hastie/ElemStatLearn/datasets/prostate.data\n",
        "\n",
        "#looking at prostate.data to verify formatting\n",
        "!cat prostate.data | head -5"
      ],
      "execution_count": 276,
      "outputs": [
        {
          "output_type": "stream",
          "text": [
            "--2020-09-04 01:39:25--  https://web.stanford.edu/~hastie/ElemStatLearn/datasets/prostate.data\n",
            "Resolving web.stanford.edu (web.stanford.edu)... 171.67.215.200\n",
            "Connecting to web.stanford.edu (web.stanford.edu)|171.67.215.200|:443... connected.\n",
            "HTTP request sent, awaiting response... 200 OK\n",
            "Length: 7130 (7.0K)\n",
            "Saving to: ‘prostate.data.44’\n",
            "\n",
            "prostate.data.44    100%[===================>]   6.96K  --.-KB/s    in 0s      \n",
            "\n",
            "2020-09-04 01:39:26 (228 MB/s) - ‘prostate.data.44’ saved [7130/7130]\n",
            "\n",
            "\tlcavol\tlweight\tage\tlbph\tsvi\tlcp\tgleason\tpgg45\tlpsa\ttrain\n",
            "1\t-0.579818495\t2.769459\t50\t-1.38629436\t0\t-1.38629436\t6\t  0\t-0.4307829\tT\n",
            "2\t-0.994252273\t3.319626\t58\t-1.38629436\t0\t-1.38629436\t6\t  0\t-0.1625189\tT\n",
            "3\t-0.510825624\t2.691243\t74\t-1.38629436\t0\t-1.38629436\t7\t 20\t-0.1625189\tT\n",
            "4\t-1.203972804\t3.282789\t58\t-1.38629436\t0\t-1.38629436\t6\t  0\t-0.1625189\tT\n"
          ],
          "name": "stdout"
        }
      ]
    },
    {
      "cell_type": "code",
      "metadata": {
        "id": "cYQucj3mD576",
        "colab_type": "code",
        "colab": {
          "base_uri": "https://localhost:8080/",
          "height": 197
        },
        "outputId": "edd6b561-678b-440a-adf8-85dd755ea7a6"
      },
      "source": [
        "#reading the data into a numpy array of floats\n",
        "df_prostate = pd.read_csv('prostate.data',\n",
        "                 delimiter='\\t',\n",
        "                 index_col = 0,\n",
        "                 usecols=list(np.arange(0,10)))\n",
        "#df_prostate.insert(8, 'intercept', 1)\n",
        "prostate_data = df_prostate.to_numpy().astype('float')\n",
        "df_prostate.head()"
      ],
      "execution_count": 277,
      "outputs": [
        {
          "output_type": "execute_result",
          "data": {
            "text/html": [
              "<div>\n",
              "<style scoped>\n",
              "    .dataframe tbody tr th:only-of-type {\n",
              "        vertical-align: middle;\n",
              "    }\n",
              "\n",
              "    .dataframe tbody tr th {\n",
              "        vertical-align: top;\n",
              "    }\n",
              "\n",
              "    .dataframe thead th {\n",
              "        text-align: right;\n",
              "    }\n",
              "</style>\n",
              "<table border=\"1\" class=\"dataframe\">\n",
              "  <thead>\n",
              "    <tr style=\"text-align: right;\">\n",
              "      <th></th>\n",
              "      <th>lcavol</th>\n",
              "      <th>lweight</th>\n",
              "      <th>age</th>\n",
              "      <th>lbph</th>\n",
              "      <th>svi</th>\n",
              "      <th>lcp</th>\n",
              "      <th>gleason</th>\n",
              "      <th>pgg45</th>\n",
              "      <th>lpsa</th>\n",
              "    </tr>\n",
              "  </thead>\n",
              "  <tbody>\n",
              "    <tr>\n",
              "      <th>1</th>\n",
              "      <td>-0.579818</td>\n",
              "      <td>2.769459</td>\n",
              "      <td>50</td>\n",
              "      <td>-1.386294</td>\n",
              "      <td>0</td>\n",
              "      <td>-1.386294</td>\n",
              "      <td>6</td>\n",
              "      <td>0</td>\n",
              "      <td>-0.430783</td>\n",
              "    </tr>\n",
              "    <tr>\n",
              "      <th>2</th>\n",
              "      <td>-0.994252</td>\n",
              "      <td>3.319626</td>\n",
              "      <td>58</td>\n",
              "      <td>-1.386294</td>\n",
              "      <td>0</td>\n",
              "      <td>-1.386294</td>\n",
              "      <td>6</td>\n",
              "      <td>0</td>\n",
              "      <td>-0.162519</td>\n",
              "    </tr>\n",
              "    <tr>\n",
              "      <th>3</th>\n",
              "      <td>-0.510826</td>\n",
              "      <td>2.691243</td>\n",
              "      <td>74</td>\n",
              "      <td>-1.386294</td>\n",
              "      <td>0</td>\n",
              "      <td>-1.386294</td>\n",
              "      <td>7</td>\n",
              "      <td>20</td>\n",
              "      <td>-0.162519</td>\n",
              "    </tr>\n",
              "    <tr>\n",
              "      <th>4</th>\n",
              "      <td>-1.203973</td>\n",
              "      <td>3.282789</td>\n",
              "      <td>58</td>\n",
              "      <td>-1.386294</td>\n",
              "      <td>0</td>\n",
              "      <td>-1.386294</td>\n",
              "      <td>6</td>\n",
              "      <td>0</td>\n",
              "      <td>-0.162519</td>\n",
              "    </tr>\n",
              "    <tr>\n",
              "      <th>5</th>\n",
              "      <td>0.751416</td>\n",
              "      <td>3.432373</td>\n",
              "      <td>62</td>\n",
              "      <td>-1.386294</td>\n",
              "      <td>0</td>\n",
              "      <td>-1.386294</td>\n",
              "      <td>6</td>\n",
              "      <td>0</td>\n",
              "      <td>0.371564</td>\n",
              "    </tr>\n",
              "  </tbody>\n",
              "</table>\n",
              "</div>"
            ],
            "text/plain": [
              "     lcavol   lweight  age      lbph  svi       lcp  gleason  pgg45      lpsa\n",
              "1 -0.579818  2.769459   50 -1.386294    0 -1.386294        6      0 -0.430783\n",
              "2 -0.994252  3.319626   58 -1.386294    0 -1.386294        6      0 -0.162519\n",
              "3 -0.510826  2.691243   74 -1.386294    0 -1.386294        7     20 -0.162519\n",
              "4 -1.203973  3.282789   58 -1.386294    0 -1.386294        6      0 -0.162519\n",
              "5  0.751416  3.432373   62 -1.386294    0 -1.386294        6      0  0.371564"
            ]
          },
          "metadata": {
            "tags": []
          },
          "execution_count": 277
        }
      ]
    },
    {
      "cell_type": "markdown",
      "metadata": {
        "id": "GrQC3x2IDVbO",
        "colab_type": "text"
      },
      "source": [
        "##Splitting data into training, validation and testing"
      ]
    },
    {
      "cell_type": "markdown",
      "metadata": {
        "id": "KaWy6mSrDkll",
        "colab_type": "text"
      },
      "source": [
        "###Parameters"
      ]
    },
    {
      "cell_type": "code",
      "metadata": {
        "id": "x0G9gULm0rvs",
        "colab_type": "code",
        "colab": {}
      },
      "source": [
        "#data splitting conditions\n",
        "PERCENT_VAL = 0.10\n",
        "PERCENT_TEST = 0.10\n",
        "random_state = 25  #for reproducibility"
      ],
      "execution_count": 278,
      "outputs": []
    },
    {
      "cell_type": "markdown",
      "metadata": {
        "id": "PEjMHZkcDAWv",
        "colab_type": "text"
      },
      "source": [
        "I felt like we would be splitting the data into 3 quite often, and decided to make a function to handle that (current functions I saw only handled train-test splits). \n",
        "\n",
        "*Note:* This is done a bit naively to match a very specific use case."
      ]
    },
    {
      "cell_type": "code",
      "metadata": {
        "id": "gH5bUNVNB8ER",
        "colab_type": "code",
        "colab": {}
      },
      "source": [
        "def train_val_test_split(X,y, test_size, val_size, random_state = None):\n",
        "  '''Simplistically extended train_test_split to also provide a validation set'''\n",
        "\n",
        "  #We want to split the data in 3, but the train_test_split only splits in 2. \n",
        "  #This means we need to split once to get a testing set and an intermediate set \n",
        "  #which we split again to get the validation and training sets. because \n",
        "  #train_test_split takes a percentage to determine the split, we first determine \n",
        "  #the relative percentage of the intermediate set needed to generate the \n",
        "  #necessary number of samples in the validation set:\n",
        "  rel_val_percent = np.round((val_size)/(1-test_size), 2)\n",
        "\n",
        "  #splitting the data\n",
        "  X_inter, X_test, y_inter, y_test = train_test_split(X,\n",
        "                                                      y,\n",
        "                                                      test_size = test_size,\n",
        "                                                      random_state = random_state\n",
        "                                                      )\n",
        "  X_train, X_val, y_train, y_val = train_test_split(X_inter,\n",
        "                                                      y_inter,\n",
        "                                                      test_size = rel_val_percent,\n",
        "                                                      random_state = random_state\n",
        "                                                      )\n",
        "  \n",
        "  return X_train, X_val, X_test, y_train, y_val, y_test"
      ],
      "execution_count": 279,
      "outputs": []
    },
    {
      "cell_type": "code",
      "metadata": {
        "id": "tYGyYZGcFdS8",
        "colab_type": "code",
        "colab": {
          "base_uri": "https://localhost:8080/",
          "height": 87
        },
        "outputId": "265f6406-d3d4-4125-b705-683bbb403f6c"
      },
      "source": [
        "split_data = train_val_test_split(prostate_data[:,:-1],\n",
        "                                  prostate_data[:,-1],\n",
        "                                  PERCENT_TEST,\n",
        "                                  PERCENT_VAL,\n",
        "                                  random_state)\n",
        "#unpacking\n",
        "X_train, X_val, X_test, y_train, y_val, y_test = split_data\n",
        "\n",
        "print('Input length:', len(prostate_data))\n",
        "print('Number of training samples:', len(X_train))\n",
        "print('Number of validation samples:', len(X_val))\n",
        "print('Number of testing samples:', len(X_test))"
      ],
      "execution_count": 280,
      "outputs": [
        {
          "output_type": "stream",
          "text": [
            "Input length: 97\n",
            "Number of training samples: 77\n",
            "Number of validation samples: 10\n",
            "Number of testing samples: 10\n"
          ],
          "name": "stdout"
        }
      ]
    },
    {
      "cell_type": "markdown",
      "metadata": {
        "id": "losiF_Vy26oU",
        "colab_type": "text"
      },
      "source": [
        "###Data Preprocessing"
      ]
    },
    {
      "cell_type": "code",
      "metadata": {
        "id": "ygTG8SPNIfUg",
        "colab_type": "code",
        "colab": {}
      },
      "source": [
        "#normalize data:\n",
        "transformer = prep.MaxAbsScaler().fit(X_train)\n",
        "X_train = transformer.transform(X_train)\n",
        "X_val = transformer.transform(X_val)\n",
        "X_test = transformer.transform(X_test)\n",
        "\n",
        "trans_y = prep.MaxAbsScaler().fit(y_train.reshape(-1, 1))\n",
        "y_train = trans_y.transform(y_train.reshape(-1, 1)).reshape(-1)\n",
        "y_val = trans_y.transform(y_val.reshape(-1, 1)).reshape(-1)\n",
        "y_test = trans_y.transform(y_test.reshape(-1, 1)).reshape(-1)\n"
      ],
      "execution_count": 281,
      "outputs": []
    },
    {
      "cell_type": "markdown",
      "metadata": {
        "id": "RpFq2f5sGlC3",
        "colab_type": "text"
      },
      "source": [
        "##Models"
      ]
    },
    {
      "cell_type": "markdown",
      "metadata": {
        "id": "6rKgWPnXbJhb",
        "colab_type": "text"
      },
      "source": [
        "### Linear Regression\n",
        "\n",
        "Here I create a class to handle linear regression with the following methods:\n",
        "\n",
        "*   fit: takes X and y inputs and generates a weight vector using equation 3.6 for linear regression. \n",
        "*   predict: takes an X input and uses the weights previously fitted to generate a y^ prediction. \n",
        "\n",
        "I also made a function to calculate the mean squared error. \n",
        "\n"
      ]
    },
    {
      "cell_type": "code",
      "metadata": {
        "id": "U-NVkkiqFByV",
        "colab_type": "code",
        "colab": {}
      },
      "source": [
        "# A class to handle the common uses of linear regression\n",
        "class LinModel:\n",
        "  def __init__(self):\n",
        "    self.beta = None\n",
        "\n",
        "  def fit(self, x,y):\n",
        "    '''Linearly fit X data to y output'''\n",
        "    #add a row of ones for intercept\n",
        "    X = np.concatenate((np.ones((x.shape[0], 1)),x), axis = 1)\n",
        "    #implementing eq 3.6\n",
        "    self.beta = np.linalg.solve((X.T @ X),X.T@y)\n",
        "    return self.beta\n",
        "\n",
        "  def predict(self,x, with_intercept = True):\n",
        "    ''' Using stored coefficients, predict output based on data x'''\n",
        "    if with_intercept:\n",
        "      #add a row of ones for intercept\n",
        "      X = np.concatenate((np.ones((x.shape[0], 1)),x), axis = 1)\n",
        "      y_hat = X@self.beta\n",
        "    else:\n",
        "      y_hat = x@self.beta[1:]\n",
        "    return y_hat\n",
        "\n",
        "#function to calculate Mean square error\n",
        "def mean_square_error(y, y_hat):\n",
        "  ''' Calculate mean square error'''\n",
        "  diff = np.array(y-y_hat)\n",
        "  return np.matmul(diff.T, diff)"
      ],
      "execution_count": 282,
      "outputs": []
    },
    {
      "cell_type": "markdown",
      "metadata": {
        "id": "wConxFGlZ-T_",
        "colab_type": "text"
      },
      "source": [
        "Generating and fitting model"
      ]
    },
    {
      "cell_type": "code",
      "metadata": {
        "id": "o3atjtzOaB2k",
        "colab_type": "code",
        "colab": {
          "base_uri": "https://localhost:8080/",
          "height": 34
        },
        "outputId": "38bb1e5d-2fea-47d3-94d0-60188981715d"
      },
      "source": [
        "linmodel = LinModel()\n",
        "beta_lin = linmodel.fit(X_train,y_train)\n",
        "\n",
        "#Test MSE\n",
        "testMSE_lin = mean_square_error(y_test, linmodel.predict(X_test))\n",
        "print(\"Test MSE:\", testMSE_lin)"
      ],
      "execution_count": 283,
      "outputs": [
        {
          "output_type": "stream",
          "text": [
            "Test MSE: 0.23678710056793545\n"
          ],
          "name": "stdout"
        }
      ]
    },
    {
      "cell_type": "markdown",
      "metadata": {
        "id": "vNS44SLcaLWL",
        "colab_type": "text"
      },
      "source": [
        "####Recreating Table 3.1:\n",
        "Correlation Table"
      ]
    },
    {
      "cell_type": "code",
      "metadata": {
        "id": "I372V4NEGK2a",
        "colab_type": "code",
        "colab": {}
      },
      "source": [
        "def format_corr_table(corr_mat, coeff_names):\n",
        "  '''Function to format the data into a correlation table'''\n",
        "\n",
        "  corr_table = []\n",
        "  #generate a list of lists, where the inner lists are rows\n",
        "  for row_num in range(corr_mat.shape[0]):\n",
        "    #get corr coefficients for the row\n",
        "    vals = list(corr_mat[row_num, :])\n",
        "    #make into strings\n",
        "    vals = [str(round(val,3)) for val in vals]\n",
        "    #prepend the coefficient name\n",
        "    vals.insert(0,coeff_names[row_num])\n",
        "    #remove redundant values\n",
        "    vals = vals [:row_num+1]\n",
        "    #uppend to table_mat\n",
        "    corr_table.append(vals)\n",
        "\n",
        "  return corr_table"
      ],
      "execution_count": 284,
      "outputs": []
    },
    {
      "cell_type": "code",
      "metadata": {
        "id": "O7OlrGxRFseM",
        "colab_type": "code",
        "colab": {
          "base_uri": "https://localhost:8080/",
          "height": 230
        },
        "outputId": "fce6a853-94fe-4ca2-e605-84353da4df41"
      },
      "source": [
        "#Calculate the correlation coefficients\n",
        "corr_mat = np.corrcoef(X_train.T)\n",
        "\n",
        "#formatting the correlation table \n",
        "coeff_names = list(df_prostate.columns.values[:-1])\n",
        "corr_table = format_corr_table(corr_mat, coeff_names)\n",
        "\n",
        "#Fixing title\n",
        "coeff_names.insert(0,'Coefficients')\n",
        "\n",
        "#generate and pring correlation table\n",
        "corr = tabulate(corr_table[1:], headers = (coeff_names), tablefmt='pretty')\n",
        "print('     Table 1: Correlations of predictors in the prostate cancer data.')\n",
        "print(corr)"
      ],
      "execution_count": 285,
      "outputs": [
        {
          "output_type": "stream",
          "text": [
            "     Table 1: Correlations of predictors in the prostate cancer data.\n",
            "+--------------+--------+---------+-------+-------+-------+-------+---------+\n",
            "| Coefficients | lcavol | lweight |  age  | lbph  |  svi  |  lcp  | gleason |\n",
            "+--------------+--------+---------+-------+-------+-------+-------+---------+\n",
            "|   lweight    | 0.275  |         |       |       |       |       |         |\n",
            "|     age      | 0.156  |  0.41   |       |       |       |       |         |\n",
            "|     lbph     | 0.029  |  0.45   | 0.44  |       |       |       |         |\n",
            "|     svi      | 0.481  |  0.149  | 0.001 | -0.1  |       |       |         |\n",
            "|     lcp      | 0.698  |  0.16   | 0.026 | 0.059 | 0.676 |       |         |\n",
            "|   gleason    | 0.447  | -0.006  | 0.22  | 0.067 | 0.319 | 0.492 |         |\n",
            "|    pgg45     | 0.443  |  0.11   | 0.226 | 0.067 | 0.421 | 0.621 |   0.8   |\n",
            "+--------------+--------+---------+-------+-------+-------+-------+---------+\n"
          ],
          "name": "stdout"
        }
      ]
    },
    {
      "cell_type": "markdown",
      "metadata": {
        "id": "bnXSxaAiaRiX",
        "colab_type": "text"
      },
      "source": [
        "####Recreating Table 3.2:\n",
        "Linear model fit summary table"
      ]
    },
    {
      "cell_type": "code",
      "metadata": {
        "id": "Fpgk-i_oLuU0",
        "colab_type": "code",
        "colab": {}
      },
      "source": [
        "def z_scorer(model, X, y):\n",
        "  '''Returns standard error and z-score'''\n",
        "  #extract metrics from x\n",
        "  N = len(X_train)\n",
        "  p = X.shape[1]\n",
        "\n",
        "  #Using 3.8b to get the stdv\n",
        "  sigma =  np.sqrt(np.sum((y -model.predict(X))**2)/(N-p-1))\n",
        "\n",
        "  #since predict automatically adds the one collumn, we add it after here\n",
        "  X = np.concatenate((np.ones((N, 1)),X), axis = 1)\n",
        "  \n",
        "  #implement equation 3.12 to get the z score\n",
        "  sqrt_v = np.sqrt(np.diagonal(np.linalg.inv(np.matmul(X.T, X))))\n",
        "  standard_error = sigma*sqrt_v\n",
        "  z_score = model.beta/standard_error\n",
        "\n",
        "  return standard_error,z_score"
      ],
      "execution_count": 286,
      "outputs": []
    },
    {
      "cell_type": "code",
      "metadata": {
        "id": "RmalG3NlHpw4",
        "colab_type": "code",
        "colab": {}
      },
      "source": [
        "def format_summary_table(term, beta, s_e, z_scr, round_decimal = 2):\n",
        "  '''Function to format the data into a summary table'''\n",
        "  summary_mat = []\n",
        "  #generate a list of lists, where the inner lists are rows\n",
        "  for coeff_num in range(len(term)):\n",
        "    row = list([term[coeff_num],\n",
        "              round(beta[coeff_num], round_decimal),\n",
        "              round(s_e[coeff_num], round_decimal),\n",
        "              round(z_scr[coeff_num], round_decimal)])\n",
        "    summary_mat.append(row)\n",
        "\n",
        "  return summary_mat"
      ],
      "execution_count": 287,
      "outputs": []
    },
    {
      "cell_type": "code",
      "metadata": {
        "id": "vewtbhbVaY7s",
        "colab_type": "code",
        "colab": {
          "base_uri": "https://localhost:8080/",
          "height": 265
        },
        "outputId": "f28c03d6-fb4b-4614-c92f-86e9e3852ff2"
      },
      "source": [
        "#coefficient analysis table\n",
        "standard_error, Z_score = z_scorer(linmodel, X_train, y_train)\n",
        "\n",
        "term = list(df_prostate.columns.values[:-1])\n",
        "term.insert(0, 'intercept')\n",
        "summary_lst = format_summary_table(term, beta_lin, standard_error, Z_score)\n",
        "\n",
        "summary_header = ['Term', 'Coefficeint', 'Std. Error', 'Z Score']\n",
        "summary = tabulate(summary_lst, headers = summary_header, tablefmt='pretty')\n",
        "print('Table 2: Linear model fit to the prostate cancer data.')\n",
        "print(summary)"
      ],
      "execution_count": 288,
      "outputs": [
        {
          "output_type": "stream",
          "text": [
            "Table 2: Linear model fit to the prostate cancer data.\n",
            "+-----------+-------------+------------+---------+\n",
            "|   Term    | Coefficeint | Std. Error | Z Score |\n",
            "+-----------+-------------+------------+---------+\n",
            "| intercept |    -0.08    |    0.29    |  -0.29  |\n",
            "|  lcavol   |    0.35     |    0.07    |  4.98   |\n",
            "|  lweight  |    0.57     |    0.2     |   2.9   |\n",
            "|    age    |    -0.32    |    0.19    |  -1.67  |\n",
            "|   lbph    |    0.02     |    0.03    |  0.73   |\n",
            "|    svi    |    0.11     |    0.05    |  2.01   |\n",
            "|    lcp    |    -0.01    |    0.06    |  -0.21  |\n",
            "|  gleason  |    0.28     |    0.31    |   0.9   |\n",
            "|   pgg45   |    -0.02    |    0.1     |  -0.18  |\n",
            "+-----------+-------------+------------+---------+\n"
          ],
          "name": "stdout"
        }
      ]
    },
    {
      "cell_type": "markdown",
      "metadata": {
        "id": "PfGOWQXZbRqZ",
        "colab_type": "text"
      },
      "source": [
        "### Ridge Regression\n",
        "Similar thing to linear regression, except here we want to minimize the validation MSE by changing lambda. I do this through a sweep over lambda. "
      ]
    },
    {
      "cell_type": "code",
      "metadata": {
        "id": "U8B6EcNeG2m-",
        "colab_type": "code",
        "colab": {}
      },
      "source": [
        "#class to handle ridge regression\n",
        "#inherits the predict function from the linear model earlier\n",
        "class RidgeModel(LinModel):\n",
        "  def __init__(self, lambd):\n",
        "    #ridge requires an additional parameter lambda\n",
        "    self.lambd = lambd\n",
        "    self.beta = None\n",
        "\n",
        "  def fit(self, x,y):\n",
        "    '''Linearly fit X data to y output with L2 regularization'''\n",
        "    #implementing eq 3.44\n",
        "    X = np.concatenate((np.ones((x.shape[0], 1)),x), axis = 1)\n",
        "    self.beta  = np.linalg.solve(X.T @ X + self.lambd*np.eye(X.shape[1]),X.T@y)\n",
        "    return self.beta\n"
      ],
      "execution_count": 289,
      "outputs": []
    },
    {
      "cell_type": "code",
      "metadata": {
        "id": "Rp-rrYSoyu2X",
        "colab_type": "code",
        "colab": {}
      },
      "source": [
        "def weighted_error(lam, y, y_hat, beta, norm = 2):\n",
        "  return mean_square_error(y, y_hat) + lam*np.sum(np.array(beta[1:])**norm)"
      ],
      "execution_count": 290,
      "outputs": []
    },
    {
      "cell_type": "code",
      "metadata": {
        "id": "6-Ukh_R8OMXc",
        "colab_type": "code",
        "colab": {}
      },
      "source": [
        "def get_weights(Lassomodel):\n",
        "  ''' Outputs formatted weight list:[intercept, coefficients] for a given model'''\n",
        "  wght = np.zeros((len(Lassomodel.coef_)+1))\n",
        "  wght[0] = Lassomodel.intercept_\n",
        "  wght[1:] = Lassomodel.coef_\n",
        "  return list(wght)"
      ],
      "execution_count": 291,
      "outputs": []
    },
    {
      "cell_type": "code",
      "metadata": {
        "id": "Qwszzm9N7njH",
        "colab_type": "code",
        "colab": {}
      },
      "source": [
        "def optimize_parameter(model, param_range, X_train, y_train, X_val, y_val):\n",
        "  #initialize loss to be inf and optimum paramater to None\n",
        "  best_val_err = float('inf')\n",
        "  opt_param = None\n",
        "  weights = {}\n",
        "\n",
        "  #check the MSE for a model with each of the parameters in the param_range\n",
        "  #and find the parameter yielding the lowest validation MSE\n",
        "  for param in param_range:\n",
        "    newmodel = model(param)\n",
        "    newmodel.fit(X_train,y_train)\n",
        "    try: \n",
        "      weights[param] = list(newmodel.beta)\n",
        "    except: \n",
        "      newmodel.fit(X_train,y_train)\n",
        "      weights[param] = get_weights(newmodel)\n",
        "\n",
        "    #MSE from validation:\n",
        "    err_val = weighted_error(param, y_val, newmodel.predict(X_val), weights[param])\n",
        "    #If we are at a new minimum MSE, update the MSE and the optimal parameter\n",
        "    if err_val < best_val_err: \n",
        "      best_val_err = err_val\n",
        "      opt_param = param\n",
        "\n",
        "  return opt_param, best_val_err, weights"
      ],
      "execution_count": 292,
      "outputs": []
    },
    {
      "cell_type": "code",
      "metadata": {
        "id": "2lsMrWMn8mti",
        "colab_type": "code",
        "colab": {
          "base_uri": "https://localhost:8080/",
          "height": 34
        },
        "outputId": "e27cc867-1172-49ba-9162-38a941e9bf20"
      },
      "source": [
        "Num_samples = 1000\n",
        "lamrange = np.logspace(-9, 4, Num_samples)\n",
        "\n",
        "\n",
        "opt_lambda_ridge, valMSE_ridge, weights = optimize_parameter(RidgeModel,\n",
        "                                                             lamrange,\n",
        "                                                             X_train,\n",
        "                                                             y_train,\n",
        "                                                             X_val,\n",
        "                                                             y_val)\n",
        "\n",
        "#creating a model using the optimal lambda\n",
        "opt_ridgemodel = RidgeModel(opt_lambda_ridge)\n",
        "opt_beta_ridge = opt_ridgemodel.fit(X_train, y_train)\n",
        "\n",
        "#Test MSEs\n",
        "testMSE_ridge= mean_square_error(y_test, opt_ridgemodel.predict(X_test))\n",
        "\n",
        "\n",
        "#printing MSEs and lambda (latter to show we reached the min)\n",
        "#print('Optimal Lambda:',opt_lambda_ridge)\n",
        "#print('Optimal Ridge weights: ', opt_beta_ridge)\n",
        "print('MSE from test data:',testMSE_ridge)"
      ],
      "execution_count": 293,
      "outputs": [
        {
          "output_type": "stream",
          "text": [
            "MSE from test data: 0.23678710023560282\n"
          ],
          "name": "stdout"
        }
      ]
    },
    {
      "cell_type": "markdown",
      "metadata": {
        "id": "PceLtqNhyAIY",
        "colab_type": "text"
      },
      "source": [
        "#### Recreating Figure 3.8 (but with $\\lambda$ rather than df($\\lambda$))\n"
      ]
    },
    {
      "cell_type": "code",
      "metadata": {
        "id": "iH32oi3etfTU",
        "colab_type": "code",
        "colab": {
          "base_uri": "https://localhost:8080/",
          "height": 508
        },
        "outputId": "b3df2358-009f-4416-d4e6-cf4db400a230"
      },
      "source": [
        "#initialize \n",
        "p = len(weights[lamrange[0]])\n",
        "coeffs = np.zeros((Num_samples,p))\n",
        "\n",
        "# coeff for each lambda\n",
        "for i in range(len(lamrange)):\n",
        "    coeffs[i,:] = weights[lamrange[i]]\n",
        "\n",
        "# Plotting\n",
        "plt.figure\n",
        "plt.figure(figsize=(15,7.5),) \n",
        "ax = plt.gca()\n",
        "for i in range(0,p):\n",
        "  ax.plot(lamrange,coeffs[:,i])\n",
        "  \n",
        "ax.set_xscale('log')\n",
        "ax.set_xlim(ax.get_xlim()[::-1])  # reverse axis\n",
        "\n",
        "plt.title('Figure 1: Profiles of ridge coefficients for the prostate cancer example, as the tuning parameter λ is varied')\n",
        "plt.ylabel('Coefficients')\n",
        "plt.xlabel('$\\lambda$')\n",
        "ymin, ymax = plt.ylim()\n",
        "plt.legend(term, bbox_to_anchor=(1.05, 1), loc='upper left',)\n",
        "plt.ylim([ymin,ymax])\n",
        "\n",
        "#adding a line for the best lambda value\n",
        "plt.vlines(opt_lambda_ridge, ymin, ymax, linestyle='dashed', colors='red')\n",
        "\n",
        "plt.show()\n",
        "\n",
        "#print the best lambda value\n",
        "print('Best lambda found:', opt_lambda_ridge)\n"
      ],
      "execution_count": 294,
      "outputs": [
        {
          "output_type": "display_data",
          "data": {
            "image/png": "[encoded data removed]",
            "text/plain": [
              "<Figure size 1080x540 with 1 Axes>"
            ]
          },
          "metadata": {
            "tags": [],
            "needs_background": "light"
          }
        },
        {
          "output_type": "stream",
          "text": [
            "Best lambda found: 1e-09\n"
          ],
          "name": "stdout"
        }
      ]
    },
    {
      "cell_type": "markdown",
      "metadata": {
        "id": "xdcsBIqAlA8i",
        "colab_type": "text"
      },
      "source": [
        "### Lasso Regression"
      ]
    },
    {
      "cell_type": "code",
      "metadata": {
        "id": "Z5phF0p_Ej5s",
        "colab_type": "code",
        "colab": {
          "base_uri": "https://localhost:8080/",
          "height": 34
        },
        "outputId": "872895f1-d4f2-46bf-e783-4251aed3173f"
      },
      "source": [
        "# This time we don't need to implement the regression model, but get to use one \n",
        "# of the sklearn functions\n",
        "\n",
        "alpharange = np.logspace(-9, 2, Num_samples)\n",
        "\n",
        "opt_alpha_lasso, valMSE_lasso,weights_lasso = optimize_parameter(lm.Lasso,\n",
        "                                                                 alpharange,\n",
        "                                                                 X_train,\n",
        "                                                                 y_train,\n",
        "                                                                 X_val,\n",
        "                                                                 y_val)\n",
        "#generating a model using the optimal alpha\n",
        "opt_lassomodel = lm.Lasso(alpha = opt_alpha_lasso)\n",
        "opt_lassomodel.fit(X_train,y_train)\n",
        "\n",
        "#Other MSEs\n",
        "testMSE_lasso= mean_square_error(y_test, opt_lassomodel.predict(X_test))\n",
        "\n",
        "#printing MSEs alnd alpha/lambda found\n",
        "#print('Optimal alpha:' ,opt_alpha_lasso)\n",
        "print('MSE from test data:', testMSE_lasso)"
      ],
      "execution_count": 295,
      "outputs": [
        {
          "output_type": "stream",
          "text": [
            "MSE from test data: 0.2291312552538344\n"
          ],
          "name": "stdout"
        }
      ]
    },
    {
      "cell_type": "markdown",
      "metadata": {
        "id": "BTuaks-XRbJE",
        "colab_type": "text"
      },
      "source": [
        "#### Recreating Figure 3.10 (but with lambda rather than s)"
      ]
    },
    {
      "cell_type": "code",
      "metadata": {
        "id": "PKcYtxfSGIOf",
        "colab_type": "code",
        "colab": {
          "base_uri": "https://localhost:8080/",
          "height": 505
        },
        "outputId": "47760ee5-7270-4af6-a8dd-a43eb6af329f"
      },
      "source": [
        "#initialize \n",
        "coeffs = np.zeros((Num_samples,p))\n",
        "\n",
        "# coeff for each df\n",
        "for i in range(len(alpharange)):\n",
        "  coeffs[i,:] = weights_lasso[alpharange[i]]\n",
        "\n",
        "# Plotting\n",
        "plt.figure\n",
        "plt.figure(figsize=(15,7.5)) \n",
        "for i in range(0,p):\n",
        "  plt.plot(alpharange,coeffs[:,i])\n",
        "  \n",
        "plt.title('Figure 2: Profiles of lasso coefficients.')\n",
        "plt.ylabel('Coefficients')\n",
        "plt.xlabel('$\\lambda$')\n",
        "ymin, ymax = plt.ylim()\n",
        "plt.legend(term, bbox_to_anchor=(1.05, 1), loc='upper left',)\n",
        "plt.xlim([0,.01])\n",
        "plt.ylim([ymin,ymax])\n",
        "\n",
        "\n",
        "#adding a line for the best lambda value\n",
        "plt.vlines(opt_alpha_lasso, ymin, ymax, linestyle='dashed', colors='red')\n",
        "\n",
        "plt.show()\n",
        "\n",
        "#print the best lambda value\n",
        "print('Best alpha found:', opt_alpha_lasso)\n"
      ],
      "execution_count": 296,
      "outputs": [
        {
          "output_type": "display_data",
          "data": {
            "image/png": "[encoded data removed]",
            "text/plain": [
              "<Figure size 1080x540 with 1 Axes>"
            ]
          },
          "metadata": {
            "tags": [],
            "needs_background": "light"
          }
        },
        {
          "output_type": "stream",
          "text": [
            "Best alpha found: 0.0001352480870417874\n"
          ],
          "name": "stdout"
        }
      ]
    },
    {
      "cell_type": "markdown",
      "metadata": {
        "id": "IoRTHZngQdW6",
        "colab_type": "text"
      },
      "source": [
        "###Prostate Cancer Model Summary"
      ]
    },
    {
      "cell_type": "code",
      "metadata": {
        "id": "UROJ8mKu4UaP",
        "colab_type": "code",
        "colab": {
          "base_uri": "https://localhost:8080/",
          "height": 336
        },
        "outputId": "20541cf1-7591-464c-ef6e-a181ecaf879f"
      },
      "source": [
        "#Generating a summmary table\n",
        "\n",
        "test_MSE = list([[testMSE_lin, testMSE_ridge, testMSE_lasso]])\n",
        "table = tabulate(test_MSE, headers=['Linear Regression (MSE)', 'Ridge Regression (MSE)', 'Lasso Regression (MSE)'], tablefmt='orgtbl')\n",
        "print('\\tTable 3: Summary of MSE for Linear Models for Prostate Cancer Data')\n",
        "print(table)\n",
        "\n",
        "\n",
        "#formatting lasso weights\n",
        "lasso_beta = get_weights(opt_lassomodel)\n",
        "#generate a list of lists, where the inner lists are rows\n",
        "re_sum = []\n",
        "for coeff_num in range(len(beta_lin)):\n",
        "  row = list([term[coeff_num],\n",
        "              round(beta_lin[coeff_num],round_decimal),\n",
        "              round(opt_beta_ridge[coeff_num],round_decimal),\n",
        "              round(lasso_beta[coeff_num],round_decimal)\n",
        "              ])\n",
        "  re_sum.append(row)\n",
        "\n",
        "table = tabulate(re_sum, headers=['Coefficient name',\n",
        "                                  'Linear Regression',\n",
        "                                  'Ridge Regression',\n",
        "                                  'Lasso Regression '],\n",
        "                  tablefmt='orgtbl')\n",
        "\n",
        "print('\\n\\n\\t\\t\\tTable 4: Coefficient Summary for Prostate Cancer Data')\n",
        "print(table)\n"
      ],
      "execution_count": 297,
      "outputs": [
        {
          "output_type": "stream",
          "text": [
            "\tTable 3: Summary of MSE for Linear Models for Prostate Cancer Data\n",
            "|   Linear Regression (MSE) |   Ridge Regression (MSE) |   Lasso Regression (MSE) |\n",
            "|---------------------------+--------------------------+--------------------------|\n",
            "|                  0.236787 |                 0.236787 |                 0.229131 |\n",
            "\n",
            "\n",
            "\t\t\tTable 4: Coefficient Summary for Prostate Cancer Data\n",
            "| Coefficient name   |   Linear Regression |   Ridge Regression |   Lasso Regression  |\n",
            "|--------------------+---------------------+--------------------+---------------------|\n",
            "| intercept          |               -0.08 |              -0.08 |               -0.02 |\n",
            "| lcavol             |                0.35 |               0.35 |                0.35 |\n",
            "| lweight            |                0.57 |               0.57 |                0.53 |\n",
            "| age                |               -0.32 |              -0.32 |               -0.28 |\n",
            "| lbph               |                0.02 |               0.02 |                0.02 |\n",
            "| svi                |                0.11 |               0.11 |                0.1  |\n",
            "| lcp                |               -0.01 |              -0.01 |               -0.01 |\n",
            "| gleason            |                0.28 |               0.28 |                0.19 |\n",
            "| pgg45              |               -0.02 |              -0.02 |               -0    |\n"
          ],
          "name": "stdout"
        }
      ]
    },
    {
      "cell_type": "markdown",
      "metadata": {
        "id": "4ubHp3goMPWk",
        "colab_type": "text"
      },
      "source": [
        "#Picked Dataset"
      ]
    },
    {
      "cell_type": "markdown",
      "metadata": {
        "id": "YbGZTeF6FhgY",
        "colab_type": "text"
      },
      "source": [
        "## Importing the Real Estate Data "
      ]
    },
    {
      "cell_type": "code",
      "metadata": {
        "id": "aPYTyiz6DWL6",
        "colab_type": "code",
        "colab": {
          "base_uri": "https://localhost:8080/",
          "height": 212
        },
        "outputId": "80e08210-5375-4161-cd0c-9a01a7327fc2"
      },
      "source": [
        "!wget -O real_estate.xlsx http://archive.ics.uci.edu/ml/machine-learning-databases/00477/Real%20estate%20valuation%20data%20set.xlsx"
      ],
      "execution_count": 298,
      "outputs": [
        {
          "output_type": "stream",
          "text": [
            "--2020-09-04 01:39:28--  http://archive.ics.uci.edu/ml/machine-learning-databases/00477/Real%20estate%20valuation%20data%20set.xlsx\n",
            "Resolving archive.ics.uci.edu (archive.ics.uci.edu)... 128.195.10.252\n",
            "Connecting to archive.ics.uci.edu (archive.ics.uci.edu)|128.195.10.252|:80... connected.\n",
            "HTTP request sent, awaiting response... 200 OK\n",
            "Length: 32717 (32K) [application/x-httpd-php]\n",
            "Saving to: ‘real_estate.xlsx’\n",
            "\n",
            "real_estate.xlsx    100%[===================>]  31.95K  --.-KB/s    in 0.1s    \n",
            "\n",
            "2020-09-04 01:39:29 (237 KB/s) - ‘real_estate.xlsx’ saved [32717/32717]\n",
            "\n"
          ],
          "name": "stdout"
        }
      ]
    },
    {
      "cell_type": "code",
      "metadata": {
        "id": "xlD9yInhEwSx",
        "colab_type": "code",
        "colab": {
          "base_uri": "https://localhost:8080/",
          "height": 227
        },
        "outputId": "3a4be4f3-5bdf-43ba-8201-6c957fa7ed91"
      },
      "source": [
        "real_estate = pd.read_excel('real_estate.xlsx', index_col=0)\n",
        "re_data = real_estate.to_numpy().astype(np.float)\n",
        "\n",
        "real_estate.head()\n"
      ],
      "execution_count": 299,
      "outputs": [
        {
          "output_type": "execute_result",
          "data": {
            "text/html": [
              "<div>\n",
              "<style scoped>\n",
              "    .dataframe tbody tr th:only-of-type {\n",
              "        vertical-align: middle;\n",
              "    }\n",
              "\n",
              "    .dataframe tbody tr th {\n",
              "        vertical-align: top;\n",
              "    }\n",
              "\n",
              "    .dataframe thead th {\n",
              "        text-align: right;\n",
              "    }\n",
              "</style>\n",
              "<table border=\"1\" class=\"dataframe\">\n",
              "  <thead>\n",
              "    <tr style=\"text-align: right;\">\n",
              "      <th></th>\n",
              "      <th>X1 transaction date</th>\n",
              "      <th>X2 house age</th>\n",
              "      <th>X3 distance to the nearest MRT station</th>\n",
              "      <th>X4 number of convenience stores</th>\n",
              "      <th>X5 latitude</th>\n",
              "      <th>X6 longitude</th>\n",
              "      <th>Y house price of unit area</th>\n",
              "    </tr>\n",
              "    <tr>\n",
              "      <th>No</th>\n",
              "      <th></th>\n",
              "      <th></th>\n",
              "      <th></th>\n",
              "      <th></th>\n",
              "      <th></th>\n",
              "      <th></th>\n",
              "      <th></th>\n",
              "    </tr>\n",
              "  </thead>\n",
              "  <tbody>\n",
              "    <tr>\n",
              "      <th>1</th>\n",
              "      <td>2012.916667</td>\n",
              "      <td>32.0</td>\n",
              "      <td>84.87882</td>\n",
              "      <td>10</td>\n",
              "      <td>24.98298</td>\n",
              "      <td>121.54024</td>\n",
              "      <td>37.9</td>\n",
              "    </tr>\n",
              "    <tr>\n",
              "      <th>2</th>\n",
              "      <td>2012.916667</td>\n",
              "      <td>19.5</td>\n",
              "      <td>306.59470</td>\n",
              "      <td>9</td>\n",
              "      <td>24.98034</td>\n",
              "      <td>121.53951</td>\n",
              "      <td>42.2</td>\n",
              "    </tr>\n",
              "    <tr>\n",
              "      <th>3</th>\n",
              "      <td>2013.583333</td>\n",
              "      <td>13.3</td>\n",
              "      <td>561.98450</td>\n",
              "      <td>5</td>\n",
              "      <td>24.98746</td>\n",
              "      <td>121.54391</td>\n",
              "      <td>47.3</td>\n",
              "    </tr>\n",
              "    <tr>\n",
              "      <th>4</th>\n",
              "      <td>2013.500000</td>\n",
              "      <td>13.3</td>\n",
              "      <td>561.98450</td>\n",
              "      <td>5</td>\n",
              "      <td>24.98746</td>\n",
              "      <td>121.54391</td>\n",
              "      <td>54.8</td>\n",
              "    </tr>\n",
              "    <tr>\n",
              "      <th>5</th>\n",
              "      <td>2012.833333</td>\n",
              "      <td>5.0</td>\n",
              "      <td>390.56840</td>\n",
              "      <td>5</td>\n",
              "      <td>24.97937</td>\n",
              "      <td>121.54245</td>\n",
              "      <td>43.1</td>\n",
              "    </tr>\n",
              "  </tbody>\n",
              "</table>\n",
              "</div>"
            ],
            "text/plain": [
              "    X1 transaction date  X2 house age  ...  X6 longitude  Y house price of unit area\n",
              "No                                     ...                                          \n",
              "1           2012.916667          32.0  ...     121.54024                        37.9\n",
              "2           2012.916667          19.5  ...     121.53951                        42.2\n",
              "3           2013.583333          13.3  ...     121.54391                        47.3\n",
              "4           2013.500000          13.3  ...     121.54391                        54.8\n",
              "5           2012.833333           5.0  ...     121.54245                        43.1\n",
              "\n",
              "[5 rows x 7 columns]"
            ]
          },
          "metadata": {
            "tags": []
          },
          "execution_count": 299
        }
      ]
    },
    {
      "cell_type": "markdown",
      "metadata": {
        "id": "3Fr8x1jNFnhy",
        "colab_type": "text"
      },
      "source": [
        "##Splitting data into training, validation and testing"
      ]
    },
    {
      "cell_type": "code",
      "metadata": {
        "id": "wfq4Ll5LFOGE",
        "colab_type": "code",
        "colab": {
          "base_uri": "https://localhost:8080/",
          "height": 87
        },
        "outputId": "19d46d63-90ae-4f11-b444-957160d0291e"
      },
      "source": [
        "#Based on the problem chosen\n",
        "#X = data[:,:-1] \n",
        "#y = data[:,-1]\n",
        "\n",
        "\n",
        "split_data = train_val_test_split(re_data[:,:-1],\n",
        "                                  re_data[:,-1],\n",
        "                                  PERCENT_TEST,\n",
        "                                  PERCENT_VAL,\n",
        "                                  random_state)\n",
        "#unpacking\n",
        "X_train, X_val, X_test, y_train, y_val, y_test = split_data\n",
        "\n",
        "print('Input length:', len(re_data))\n",
        "print('Number of training samples:', len(X_train))\n",
        "print('Number of validation samples:', len(X_val))\n",
        "print('Number of testing samples:', len(X_test))"
      ],
      "execution_count": 300,
      "outputs": [
        {
          "output_type": "stream",
          "text": [
            "Input length: 414\n",
            "Number of training samples: 331\n",
            "Number of validation samples: 41\n",
            "Number of testing samples: 42\n"
          ],
          "name": "stdout"
        }
      ]
    },
    {
      "cell_type": "markdown",
      "metadata": {
        "id": "ZmzhCoRmFtf0",
        "colab_type": "text"
      },
      "source": [
        "##Data Prprocessing"
      ]
    },
    {
      "cell_type": "code",
      "metadata": {
        "id": "2-CvjGDxMiXA",
        "colab_type": "code",
        "colab": {}
      },
      "source": [
        "#normalize data:\n",
        "transformer = prep.MaxAbsScaler().fit(X_train)\n",
        "X_train = transformer.fit_transform(X_train)\n",
        "X_val = transformer.transform(X_val)\n",
        "X_test = transformer.transform(X_test)\n",
        "\n",
        "trans_y = prep.MaxAbsScaler().fit(y_train.reshape(-1, 1))\n",
        "y_train = trans_y.transform(y_train.reshape(-1, 1)).reshape(-1)\n",
        "y_val = trans_y.transform(y_val.reshape(-1, 1)).reshape(-1)\n",
        "y_test = trans_y.transform(y_test.reshape(-1, 1)).reshape(-1)"
      ],
      "execution_count": 301,
      "outputs": []
    },
    {
      "cell_type": "code",
      "metadata": {
        "id": "-LMHOHeyFa9Q",
        "colab_type": "code",
        "colab": {}
      },
      "source": [
        "#Getting a prodile of the dataset\n",
        "#real_estate_profile = ProfileReport(real_estate, title=\"Pandas Profiling Report\")\n",
        "#real_estate_profile"
      ],
      "execution_count": 302,
      "outputs": []
    },
    {
      "cell_type": "markdown",
      "metadata": {
        "id": "7GJwgVltF5Va",
        "colab_type": "text"
      },
      "source": [
        "##Models"
      ]
    },
    {
      "cell_type": "markdown",
      "metadata": {
        "id": "cEUZ0snGF_4P",
        "colab_type": "text"
      },
      "source": [
        "### Linear Regression\n"
      ]
    },
    {
      "cell_type": "code",
      "metadata": {
        "id": "uoLeMYlwFa6c",
        "colab_type": "code",
        "colab": {
          "base_uri": "https://localhost:8080/",
          "height": 425
        },
        "outputId": "a50e3272-f073-4c69-f032-5868a9e40a21"
      },
      "source": [
        "linmodel = LinModel()\n",
        "beta_lin = linmodel.fit(X_train,y_train)\n",
        "testMSE_lin = mean_square_error(y_test, linmodel.predict(X_test))\n",
        "print(\"Test MSE:\", testMSE_lin)\n",
        "#Calculate the correlation coefficients\n",
        "corr_mat = np.corrcoef(X_train.T)\n",
        "#formatting the correlation table \n",
        "coeff_names = list(real_estate.columns.values[:-1])\n",
        "coeff_names = [coef[3:] for coef in coeff_names]  #removing the X# label\n",
        "corr_table = format_corr_table(corr_mat, coeff_names)\n",
        "\n",
        "#Fixing title\n",
        "coeff_names.insert(0,'Coefficients')\n",
        "\n",
        "#generate and pring correlation table\n",
        "corr = tabulate(corr_table[1:], headers = (coeff_names), tablefmt='pretty')\n",
        "print('\\t\\t\\t     Table 5: Correlations of predictors in the real estate data.')\n",
        "print(corr)\n",
        "\n",
        "#the value of the variance approximation is VERY close to the MSE, but with a\n",
        "# different dividing factor (MSE is N while here it is N-p-1)\n",
        "p = len(coeff_names)-1\n",
        "\n",
        "standard_error, Z_score = z_scorer(linmodel, X_train, y_train)\n",
        "\n",
        "term = coeff_names[1:]\n",
        "term.insert(0, 'intercept')\n",
        "summary_mat = format_summary_table(term, beta_lin, standard_error, Z_score)\n",
        "\n",
        "summary_header = ['Term', 'Coefficeint', 'Std. Error', 'Z Score']\n",
        "summary = tabulate(summary_mat, headers = summary_header, tablefmt='pretty')\n",
        "print('\\t\\tTable 6: Linear model fit to the real estate data.')\n",
        "print(summary)"
      ],
      "execution_count": 303,
      "outputs": [
        {
          "output_type": "stream",
          "text": [
            "Test MSE: 0.13473072271372172\n",
            "\t\t\t     Table 5: Correlations of predictors in the real estate data.\n",
            "+-------------------------------------+------------------+-----------+-------------------------------------+------------------------------+----------+\n",
            "|            Coefficients             | transaction date | house age | distance to the nearest MRT station | number of convenience stores | latitude |\n",
            "+-------------------------------------+------------------+-----------+-------------------------------------+------------------------------+----------+\n",
            "|              house age              |      0.006       |           |                                     |                              |          |\n",
            "| distance to the nearest MRT station |       0.1        |   0.002   |                                     |                              |          |\n",
            "|    number of convenience stores     |       0.0        |   0.065   |               -0.584                |                              |          |\n",
            "|              latitude               |      0.023       |   0.018   |               -0.579                |            0.444             |          |\n",
            "|              longitude              |      -0.085      |  -0.017   |               -0.816                |             0.46             |  0.403   |\n",
            "+-------------------------------------+------------------+-----------+-------------------------------------+------------------------------+----------+\n",
            "\t\tTable 6: Linear model fit to the real estate data.\n",
            "+-------------------------------------+-------------+------------+---------+\n",
            "|                Term                 | Coefficeint | Std. Error | Z Score |\n",
            "+-------------------------------------+-------------+------------+---------+\n",
            "|              intercept              |   -166.12   |    70.1    |  -2.37  |\n",
            "|          transaction date           |    96.35    |   30.98    |  3.11   |\n",
            "|              house age              |    -0.09    |    0.02    |  -5.84  |\n",
            "| distance to the nearest MRT station |    -0.23    |    0.05    |  -4.88  |\n",
            "|    number of convenience stores     |    0.09     |    0.02    |  5.29   |\n",
            "|              latitude               |    58.09    |   10.96    |   5.3   |\n",
            "|              longitude              |    12.17    |   61.15    |   0.2   |\n",
            "+-------------------------------------+-------------+------------+---------+\n"
          ],
          "name": "stdout"
        }
      ]
    },
    {
      "cell_type": "markdown",
      "metadata": {
        "id": "8nE-kiL6RK2m",
        "colab_type": "text"
      },
      "source": [
        "###Ridge Regression"
      ]
    },
    {
      "cell_type": "code",
      "metadata": {
        "id": "Y6UuRthMGDZ_",
        "colab_type": "code",
        "colab": {
          "base_uri": "https://localhost:8080/",
          "height": 526
        },
        "outputId": "8c09be36-ee59-4274-f266-6d501b76cd5d"
      },
      "source": [
        "Num_samples = 1000\n",
        "lamrange = np.logspace(-9, 1, Num_samples)\n",
        "\n",
        "opt_lambda_ridge, valMSE_ridge, weights = optimize_parameter(RidgeModel,\n",
        "                                                             lamrange,\n",
        "                                                             X_train,\n",
        "                                                             y_train,\n",
        "                                                             X_val,\n",
        "                                                             y_val)\n",
        "\n",
        "#creating a model using the optimal lambda\n",
        "opt_ridgemodel = RidgeModel(opt_lambda_ridge)\n",
        "opt_beta_ridge = opt_ridgemodel.fit(X_train, y_train)\n",
        "\n",
        "#Test MSEs\n",
        "testMSE_ridge= mean_square_error(y_test, opt_ridgemodel.predict(X_test))\n",
        "print('MSE from test data:',testMSE_ridge)\n",
        "\n",
        "\n",
        "#initialize \n",
        "p = len(weights[lamrange[0]])\n",
        "coeffs = np.zeros((Num_samples,p))\n",
        "\n",
        "# coeff for each lambda\n",
        "for i in range(len(lamrange)):\n",
        "    coeffs[i,:] = weights[lamrange[i]]\n",
        "\n",
        "# Plotting\n",
        "plt.figure\n",
        "plt.figure(figsize=(15,7.5),) \n",
        "ax = plt.gca()\n",
        "for i in range(0,p):\n",
        "  ax.plot(lamrange,coeffs[:,i])\n",
        "  \n",
        "ax.set_xscale('log')\n",
        "ax.set_xlim(ax.get_xlim()[::-1])  # reverse axis\n",
        "\n",
        "plt.title('Figure 3: Profiles of ridge coefficients for the real estate example, as the tuning parameter λ is varied')\n",
        "plt.ylabel('Coefficients')\n",
        "plt.xlabel('$\\lambda$')\n",
        "ymin, ymax = plt.ylim()\n",
        "plt.legend(term, bbox_to_anchor=(1.05, 1), loc='upper left',)\n",
        "plt.ylim([ymin,ymax])\n",
        "\n",
        "#adding a line for the best lambda value\n",
        "plt.vlines(opt_lambda_ridge, ymin, ymax, linestyle='dashed', colors='red')\n",
        "\n",
        "plt.show()\n",
        "\n",
        "#print the best lambda value\n",
        "print('Best lambda found:', opt_lambda_ridge)"
      ],
      "execution_count": 304,
      "outputs": [
        {
          "output_type": "stream",
          "text": [
            "MSE from test data: 0.11649475184020813\n"
          ],
          "name": "stdout"
        },
        {
          "output_type": "display_data",
          "data": {
            "image/png": "[encoded data removed]",
            "text/plain": [
              "<Figure size 1080x540 with 1 Axes>"
            ]
          },
          "metadata": {
            "tags": [],
            "needs_background": "light"
          }
        },
        {
          "output_type": "stream",
          "text": [
            "Best lambda found: 0.0065586856595714355\n"
          ],
          "name": "stdout"
        }
      ]
    },
    {
      "cell_type": "markdown",
      "metadata": {
        "id": "NbNmeQnKRWty",
        "colab_type": "text"
      },
      "source": [
        "###Lasso Regression"
      ]
    },
    {
      "cell_type": "code",
      "metadata": {
        "id": "sJLy8TkBGDiH",
        "colab_type": "code",
        "colab": {
          "base_uri": "https://localhost:8080/",
          "height": 523
        },
        "outputId": "1b76711a-b719-496e-de29-76f3c4be54f5"
      },
      "source": [
        "alpharange = np.logspace(-9, 2, Num_samples)\n",
        "\n",
        "opt_alpha_lasso, valMSE_lasso,weights_lasso = optimize_parameter(lm.Lasso,\n",
        "                                                                 alpharange,\n",
        "                                                                 X_train,\n",
        "                                                                 y_train,\n",
        "                                                                 X_val,\n",
        "                                                                 y_val)\n",
        "#generating a model using the optimal alpha\n",
        "opt_lassomodel = lm.Lasso(alpha = opt_alpha_lasso)\n",
        "opt_lassomodel.fit(X_train,y_train)\n",
        "\n",
        "#Other MSEs\n",
        "testMSE_lasso= mean_square_error(y_test, opt_lassomodel.predict(X_test))\n",
        "\n",
        "#printing MSEs alnd alpha/lambda found\n",
        "#print('Optimal alpha:' ,opt_alpha_lasso)\n",
        "print('MSE from test data:', testMSE_lasso)\n",
        "\n",
        "#initialize \n",
        "coeffs = np.zeros((Num_samples,p))\n",
        "\n",
        "# coeff for each df\n",
        "for i in range(len(alpharange)):\n",
        "  coeffs[i,:] = weights_lasso[alpharange[i]]\n",
        "\n",
        "# Plotting\n",
        "plt.figure\n",
        "plt.figure(figsize=(15,7.5)) \n",
        "for i in range(0,p):\n",
        "  plt.plot(alpharange,coeffs[:,i])\n",
        "  \n",
        "plt.title('Figure 4: Profiles of lasso coefficients.')\n",
        "plt.ylabel('Coefficients')\n",
        "plt.xlabel('$\\lambda$')\n",
        "ymin, ymax = plt.ylim()\n",
        "plt.legend(term, bbox_to_anchor=(1.05, 1), loc='upper left',)\n",
        "plt.xlim([0,.05])\n",
        "plt.ylim([-0.5, 0.5])\n",
        "\n",
        "\n",
        "#adding a line for the best lambda value\n",
        "plt.vlines(opt_alpha_lasso, ymin, ymax, linestyle='dashed', colors='red')\n",
        "\n",
        "plt.show()\n",
        "\n",
        "#print the best lambda value\n",
        "print('Best alpha found:', opt_alpha_lasso)\n"
      ],
      "execution_count": 305,
      "outputs": [
        {
          "output_type": "stream",
          "text": [
            "MSE from test data: 0.13130671650966722\n"
          ],
          "name": "stdout"
        },
        {
          "output_type": "display_data",
          "data": {
            "image/png": "[encoded data removed]",
            "text/plain": [
              "<Figure size 1080x540 with 1 Axes>"
            ]
          },
          "metadata": {
            "tags": [],
            "needs_background": "light"
          }
        },
        {
          "output_type": "stream",
          "text": [
            "Best alpha found: 0.0017957846470020968\n"
          ],
          "name": "stdout"
        }
      ]
    },
    {
      "cell_type": "markdown",
      "metadata": {
        "id": "ASPqvNzfR-Zz",
        "colab_type": "text"
      },
      "source": [
        "###Real Estate Model Summary"
      ]
    },
    {
      "cell_type": "code",
      "metadata": {
        "id": "ZOE6_oPFGDQY",
        "colab_type": "code",
        "colab": {
          "base_uri": "https://localhost:8080/",
          "height": 301
        },
        "outputId": "3ebe8dbf-3e82-4e25-9f48-ae5df26bc9bf"
      },
      "source": [
        "round_decimal = 2\n",
        "\n",
        "#Generating MSE summmary table\n",
        "test_MSE = list([[testMSE_lin, testMSE_ridge, testMSE_lasso]])\n",
        "table = tabulate(test_MSE, headers=['Linear Regression (MSE)', 'Ridge Regression (MSE)', 'Lasso Regression (MSE)'], tablefmt='orgtbl')\n",
        "\n",
        "print('\\t  Table 7: Summary of MSE for Linear Models for Real Estate Data')\n",
        "print(table)\n",
        "\n",
        "\n",
        "\n",
        "#formatting lasso weights\n",
        "lasso_beta = get_weights(opt_lassomodel)\n",
        "#generate a list of lists, where the inner lists are rows\n",
        "re_sum = []\n",
        "for coeff_num in range(len(beta_lin)):\n",
        "  row = list([term[coeff_num],\n",
        "              round(beta_lin[coeff_num],round_decimal),\n",
        "              round(opt_beta_ridge[coeff_num],round_decimal),\n",
        "              round(lasso_beta[coeff_num],round_decimal)\n",
        "              ])\n",
        "  re_sum.append(row)\n",
        "\n",
        "table = tabulate(re_sum, headers=['Coefficient name',\n",
        "                                  'Linear Regression',\n",
        "                                  'Ridge Regression',\n",
        "                                  'Lasso Regression '],\n",
        "                  tablefmt='orgtbl')\n",
        "\n",
        "print('\\n\\n\\t\\t\\t   Table 8: Coefficient Summary for Real Estate Data\\n'+table)\n"
      ],
      "execution_count": 306,
      "outputs": [
        {
          "output_type": "stream",
          "text": [
            "\t  Table 7: Summary of MSE for Linear Models for Real Estate Data\n",
            "|   Linear Regression (MSE) |   Ridge Regression (MSE) |   Lasso Regression (MSE) |\n",
            "|---------------------------+--------------------------+--------------------------|\n",
            "|                  0.134731 |                 0.116495 |                 0.131307 |\n",
            "\n",
            "\n",
            "\t\t\t   Table 8: Coefficient Summary for Real Estate Data\n",
            "| Coefficient name                    |   Linear Regression |   Ridge Regression |   Lasso Regression  |\n",
            "|-------------------------------------+---------------------+--------------------+---------------------|\n",
            "| intercept                           |             -166.12 |              -0.05 |                0.35 |\n",
            "| transaction date                    |               96.35 |               0.05 |                0    |\n",
            "| house age                           |               -0.09 |              -0.09 |               -0.07 |\n",
            "| distance to the nearest MRT station |               -0.23 |              -0.3  |               -0.25 |\n",
            "| number of convenience stores        |                0.09 |               0.11 |                0.11 |\n",
            "| latitude                            |               58.09 |               0.43 |                0    |\n",
            "| longitude                           |               12.17 |              -0.06 |                0    |\n"
          ],
          "name": "stdout"
        }
      ]
    },
    {
      "cell_type": "markdown",
      "metadata": {
        "id": "KwQjorln6H-u",
        "colab_type": "text"
      },
      "source": [
        "# Overall Conclusions\n",
        "Comparing the test MSE "
      ]
    }
  ]
}