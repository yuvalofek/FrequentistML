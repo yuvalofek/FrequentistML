{
  "nbformat": 4,
  "nbformat_minor": 0,
  "metadata": {
    "colab": {
      "name": "FreqML1_Linear_Regression.ipynb",
      "provenance": [],
      "collapsed_sections": [],
      "toc_visible": true,
      "authorship_tag": "ABX9TyPy1LNvDGdbGdvQYGH123to",
      "include_colab_link": true
    },
    "kernelspec": {
      "name": "python3",
      "display_name": "Python 3"
    }
  },
  "cells": [
    {
      "cell_type": "markdown",
      "metadata": {
        "id": "view-in-github",
        "colab_type": "text"
      },
      "source": [
        "<a href=\"https://colab.research.google.com/github/yuvalofek/FrequentistML/blob/master/FreqML1_Linear_Regression.ipynb\" target=\"_parent\"><img src=\"https://colab.research.google.com/assets/colab-badge.svg\" alt=\"Open In Colab\"/></a>"
      ]
    },
    {
      "cell_type": "markdown",
      "metadata": {
        "id": "buXNIqVMdYdd",
        "colab_type": "text"
      },
      "source": [
        "\n",
        "# **Frequentist ML Assignment 1 - Linear Regression** (Using the Iris dataset)\n",
        "Yuval Epstain Ofek\n",
        "---\n",
        "\n",
        "Note: I have been trying to teach myself python, so I would love comments and tips \n",
        "\n",
        "---\n",
        "\n"
      ]
    },
    {
      "cell_type": "markdown",
      "metadata": {
        "id": "zqmMNB7feFtn",
        "colab_type": "text"
      },
      "source": [
        "# **The provided Prompt:**\n",
        "\n",
        "Download the prostate cancer dataset from the books resources:\n",
        "\n",
        "https://web.stanford.edu/~hastie/ElemStatLearn/data.html\n",
        "\n",
        "Replicate the analysis from chapter 3 of this dataset. Divide your data into roughly 80% train, 10% validation, 10% test. You must keep this split for all 3 parts of this assignment in order to compare the methods fairly. Replicate the textbooks analysis of this dataset. by doing the following\n",
        "\n",
        "**a)** Plain old linear regression, with no regularization. You must code this one by hand (i.e use equation 3.6 to find the betas).  Report the mean squared error on the test dataset. Replicate tables 3.1 and 3.2. You will not need the validation set for this part of the assigment.\n",
        "\n",
        "**b)** Ridge regression. You must also code this one by hand(eq 3.44 to find the betas). Select the optimal value of Lambda by cross-validation using the validation dataset. Report the mean squared error on the test dataset, using the best lambda you found on the validation set. DO NOT USE THE TEST DATASET TO CHOOSE LAMBDA. Plot a ridge plot similar to figure 3.8, but you can just sweep the lambda parameter (you don't have to scale it to degrees of freedom).\n",
        "\n",
        "**c)** Lasso regression: Use  the built in packages in sci-kit learn or MATLAB to do a Lasso regression. Select the optimal value of lambda as in part b) and also display a Lasso plot similar to figure 3.10, but again you can just sweep the lambda parameter. \n",
        "\n",
        "Next, download a dataset suitable for linear regression from UCI or another repository. For now, this should be a dataset that only has numerical features, with no missing values. Repeat the analysis above on this dataset.\n",
        "\n",
        "Which features did the Lasso select for you to include in your model? Do these features make sense?\n",
        "Compute the MSE on the training dataset and the test dataset for all methods and comment on the results.  Compare this MSE to a baseline MSE.\n",
        "\n",
        "**Stretch goal** (2 points): Add nonlinear and interaction terms to your dataset and try to improve the performance. Are you able to do so? \n",
        "\n"
      ]
    },
    {
      "cell_type": "markdown",
      "metadata": {
        "id": "lNixKobnCpqu",
        "colab_type": "text"
      },
      "source": [
        "#Imports"
      ]
    },
    {
      "cell_type": "code",
      "metadata": {
        "id": "XnqxNan_CpL4",
        "colab_type": "code",
        "colab": {
          "base_uri": "https://localhost:8080/",
          "height": 1000
        },
        "outputId": "93c188ef-d19f-4647-97e8-84b938f692c2"
      },
      "source": [
        "#Install Pandas profiling\n",
        "!pip install https://github.com/pandas-profiling/pandas-profiling/archive/master.zip\n",
        "\n",
        "#import stuff\n",
        "from sklearn import linear_model as lm  #linear model for Lasso\n",
        "from sklearn.model_selection import train_test_split  #for spliting data\n",
        "import matplotlib.pyplot as plt #plotting\n",
        "import numpy as np  #lin alg \n",
        "import pandas as pd #data extraction from website\n",
        "\n",
        "from pandas_profiling import ProfileReport  #profiling function\n",
        "from tabulate import tabulate   #tables"
      ],
      "execution_count": 1,
      "outputs": [
        {
          "output_type": "stream",
          "text": [
            "Collecting https://github.com/pandas-profiling/pandas-profiling/archive/master.zip\n",
            "  Using cached https://github.com/pandas-profiling/pandas-profiling/archive/master.zip\n",
            "Requirement already satisfied (use --upgrade to upgrade): pandas-profiling==2.9.0rc1 from https://github.com/pandas-profiling/pandas-profiling/archive/master.zip in /usr/local/lib/python3.6/dist-packages\n",
            "Requirement already satisfied: joblib in /usr/local/lib/python3.6/dist-packages (from pandas-profiling==2.9.0rc1) (0.16.0)\n",
            "Requirement already satisfied: scipy>=1.4.1 in /usr/local/lib/python3.6/dist-packages (from pandas-profiling==2.9.0rc1) (1.4.1)\n",
            "Requirement already satisfied: pandas!=1.0.0,!=1.0.1,!=1.0.2,>=0.25.3 in /usr/local/lib/python3.6/dist-packages (from pandas-profiling==2.9.0rc1) (1.0.5)\n",
            "Requirement already satisfied: matplotlib>=3.2.0 in /usr/local/lib/python3.6/dist-packages (from pandas-profiling==2.9.0rc1) (3.2.2)\n",
            "Requirement already satisfied: confuse>=1.0.0 in /usr/local/lib/python3.6/dist-packages (from pandas-profiling==2.9.0rc1) (1.3.0)\n",
            "Requirement already satisfied: jinja2>=2.11.1 in /usr/local/lib/python3.6/dist-packages (from pandas-profiling==2.9.0rc1) (2.11.2)\n",
            "Requirement already satisfied: visions[type_image_path]==0.4.4 in /usr/local/lib/python3.6/dist-packages (from pandas-profiling==2.9.0rc1) (0.4.4)\n",
            "Requirement already satisfied: numpy>=1.16.0 in /usr/local/lib/python3.6/dist-packages (from pandas-profiling==2.9.0rc1) (1.18.5)\n",
            "Requirement already satisfied: attrs>=19.3.0 in /usr/local/lib/python3.6/dist-packages (from pandas-profiling==2.9.0rc1) (20.1.0)\n",
            "Requirement already satisfied: htmlmin>=0.1.12 in /usr/local/lib/python3.6/dist-packages (from pandas-profiling==2.9.0rc1) (0.1.12)\n",
            "Requirement already satisfied: missingno>=0.4.2 in /usr/local/lib/python3.6/dist-packages (from pandas-profiling==2.9.0rc1) (0.4.2)\n",
            "Requirement already satisfied: phik>=0.9.10 in /usr/local/lib/python3.6/dist-packages (from pandas-profiling==2.9.0rc1) (0.10.0)\n",
            "Requirement already satisfied: tangled-up-in-unicode>=0.0.6 in /usr/local/lib/python3.6/dist-packages (from pandas-profiling==2.9.0rc1) (0.0.6)\n",
            "Requirement already satisfied: requests>=2.23.0 in /usr/local/lib/python3.6/dist-packages (from pandas-profiling==2.9.0rc1) (2.23.0)\n",
            "Requirement already satisfied: tqdm>=4.43.0 in /usr/local/lib/python3.6/dist-packages (from pandas-profiling==2.9.0rc1) (4.48.2)\n",
            "Requirement already satisfied: ipywidgets>=7.5.1 in /usr/local/lib/python3.6/dist-packages (from pandas-profiling==2.9.0rc1) (7.5.1)\n",
            "Requirement already satisfied: seaborn>=0.10.1 in /usr/local/lib/python3.6/dist-packages (from pandas-profiling==2.9.0rc1) (0.10.1)\n",
            "Requirement already satisfied: python-dateutil>=2.6.1 in /usr/local/lib/python3.6/dist-packages (from pandas!=1.0.0,!=1.0.1,!=1.0.2,>=0.25.3->pandas-profiling==2.9.0rc1) (2.8.1)\n",
            "Requirement already satisfied: pytz>=2017.2 in /usr/local/lib/python3.6/dist-packages (from pandas!=1.0.0,!=1.0.1,!=1.0.2,>=0.25.3->pandas-profiling==2.9.0rc1) (2018.9)\n",
            "Requirement already satisfied: kiwisolver>=1.0.1 in /usr/local/lib/python3.6/dist-packages (from matplotlib>=3.2.0->pandas-profiling==2.9.0rc1) (1.2.0)\n",
            "Requirement already satisfied: cycler>=0.10 in /usr/local/lib/python3.6/dist-packages (from matplotlib>=3.2.0->pandas-profiling==2.9.0rc1) (0.10.0)\n",
            "Requirement already satisfied: pyparsing!=2.0.4,!=2.1.2,!=2.1.6,>=2.0.1 in /usr/local/lib/python3.6/dist-packages (from matplotlib>=3.2.0->pandas-profiling==2.9.0rc1) (2.4.7)\n",
            "Requirement already satisfied: pyyaml in /usr/local/lib/python3.6/dist-packages (from confuse>=1.0.0->pandas-profiling==2.9.0rc1) (3.13)\n",
            "Requirement already satisfied: MarkupSafe>=0.23 in /usr/local/lib/python3.6/dist-packages (from jinja2>=2.11.1->pandas-profiling==2.9.0rc1) (1.1.1)\n",
            "Requirement already satisfied: networkx>=2.4 in /usr/local/lib/python3.6/dist-packages (from visions[type_image_path]==0.4.4->pandas-profiling==2.9.0rc1) (2.5)\n",
            "Requirement already satisfied: Pillow; extra == \"type_image_path\" in /usr/local/lib/python3.6/dist-packages (from visions[type_image_path]==0.4.4->pandas-profiling==2.9.0rc1) (7.0.0)\n",
            "Requirement already satisfied: imagehash; extra == \"type_image_path\" in /usr/local/lib/python3.6/dist-packages (from visions[type_image_path]==0.4.4->pandas-profiling==2.9.0rc1) (4.1.0)\n",
            "Requirement already satisfied: numba>=0.38.1 in /usr/local/lib/python3.6/dist-packages (from phik>=0.9.10->pandas-profiling==2.9.0rc1) (0.48.0)\n",
            "Requirement already satisfied: chardet<4,>=3.0.2 in /usr/local/lib/python3.6/dist-packages (from requests>=2.23.0->pandas-profiling==2.9.0rc1) (3.0.4)\n",
            "Requirement already satisfied: urllib3!=1.25.0,!=1.25.1,<1.26,>=1.21.1 in /usr/local/lib/python3.6/dist-packages (from requests>=2.23.0->pandas-profiling==2.9.0rc1) (1.24.3)\n",
            "Requirement already satisfied: certifi>=2017.4.17 in /usr/local/lib/python3.6/dist-packages (from requests>=2.23.0->pandas-profiling==2.9.0rc1) (2020.6.20)\n",
            "Requirement already satisfied: idna<3,>=2.5 in /usr/local/lib/python3.6/dist-packages (from requests>=2.23.0->pandas-profiling==2.9.0rc1) (2.10)\n",
            "Requirement already satisfied: widgetsnbextension~=3.5.0 in /usr/local/lib/python3.6/dist-packages (from ipywidgets>=7.5.1->pandas-profiling==2.9.0rc1) (3.5.1)\n",
            "Requirement already satisfied: traitlets>=4.3.1 in /usr/local/lib/python3.6/dist-packages (from ipywidgets>=7.5.1->pandas-profiling==2.9.0rc1) (4.3.3)\n",
            "Requirement already satisfied: ipython>=4.0.0; python_version >= \"3.3\" in /usr/local/lib/python3.6/dist-packages (from ipywidgets>=7.5.1->pandas-profiling==2.9.0rc1) (5.5.0)\n",
            "Requirement already satisfied: ipykernel>=4.5.1 in /usr/local/lib/python3.6/dist-packages (from ipywidgets>=7.5.1->pandas-profiling==2.9.0rc1) (4.10.1)\n",
            "Requirement already satisfied: nbformat>=4.2.0 in /usr/local/lib/python3.6/dist-packages (from ipywidgets>=7.5.1->pandas-profiling==2.9.0rc1) (5.0.7)\n",
            "Requirement already satisfied: six>=1.5 in /usr/local/lib/python3.6/dist-packages (from python-dateutil>=2.6.1->pandas!=1.0.0,!=1.0.1,!=1.0.2,>=0.25.3->pandas-profiling==2.9.0rc1) (1.15.0)\n",
            "Requirement already satisfied: decorator>=4.3.0 in /usr/local/lib/python3.6/dist-packages (from networkx>=2.4->visions[type_image_path]==0.4.4->pandas-profiling==2.9.0rc1) (4.4.2)\n",
            "Requirement already satisfied: PyWavelets in /usr/local/lib/python3.6/dist-packages (from imagehash; extra == \"type_image_path\"->visions[type_image_path]==0.4.4->pandas-profiling==2.9.0rc1) (1.1.1)\n",
            "Requirement already satisfied: llvmlite<0.32.0,>=0.31.0dev0 in /usr/local/lib/python3.6/dist-packages (from numba>=0.38.1->phik>=0.9.10->pandas-profiling==2.9.0rc1) (0.31.0)\n",
            "Requirement already satisfied: setuptools in /usr/local/lib/python3.6/dist-packages (from numba>=0.38.1->phik>=0.9.10->pandas-profiling==2.9.0rc1) (49.6.0)\n",
            "Requirement already satisfied: notebook>=4.4.1 in /usr/local/lib/python3.6/dist-packages (from widgetsnbextension~=3.5.0->ipywidgets>=7.5.1->pandas-profiling==2.9.0rc1) (5.3.1)\n",
            "Requirement already satisfied: ipython-genutils in /usr/local/lib/python3.6/dist-packages (from traitlets>=4.3.1->ipywidgets>=7.5.1->pandas-profiling==2.9.0rc1) (0.2.0)\n",
            "Requirement already satisfied: pygments in /usr/local/lib/python3.6/dist-packages (from ipython>=4.0.0; python_version >= \"3.3\"->ipywidgets>=7.5.1->pandas-profiling==2.9.0rc1) (2.1.3)\n",
            "Requirement already satisfied: pickleshare in /usr/local/lib/python3.6/dist-packages (from ipython>=4.0.0; python_version >= \"3.3\"->ipywidgets>=7.5.1->pandas-profiling==2.9.0rc1) (0.7.5)\n",
            "Requirement already satisfied: prompt-toolkit<2.0.0,>=1.0.4 in /usr/local/lib/python3.6/dist-packages (from ipython>=4.0.0; python_version >= \"3.3\"->ipywidgets>=7.5.1->pandas-profiling==2.9.0rc1) (1.0.18)\n",
            "Requirement already satisfied: pexpect; sys_platform != \"win32\" in /usr/local/lib/python3.6/dist-packages (from ipython>=4.0.0; python_version >= \"3.3\"->ipywidgets>=7.5.1->pandas-profiling==2.9.0rc1) (4.8.0)\n",
            "Requirement already satisfied: simplegeneric>0.8 in /usr/local/lib/python3.6/dist-packages (from ipython>=4.0.0; python_version >= \"3.3\"->ipywidgets>=7.5.1->pandas-profiling==2.9.0rc1) (0.8.1)\n",
            "Requirement already satisfied: jupyter-client in /usr/local/lib/python3.6/dist-packages (from ipykernel>=4.5.1->ipywidgets>=7.5.1->pandas-profiling==2.9.0rc1) (5.3.5)\n",
            "Requirement already satisfied: tornado>=4.0 in /usr/local/lib/python3.6/dist-packages (from ipykernel>=4.5.1->ipywidgets>=7.5.1->pandas-profiling==2.9.0rc1) (5.1.1)\n",
            "Requirement already satisfied: jupyter-core in /usr/local/lib/python3.6/dist-packages (from nbformat>=4.2.0->ipywidgets>=7.5.1->pandas-profiling==2.9.0rc1) (4.6.3)\n",
            "Requirement already satisfied: jsonschema!=2.5.0,>=2.4 in /usr/local/lib/python3.6/dist-packages (from nbformat>=4.2.0->ipywidgets>=7.5.1->pandas-profiling==2.9.0rc1) (2.6.0)\n",
            "Requirement already satisfied: Send2Trash in /usr/local/lib/python3.6/dist-packages (from notebook>=4.4.1->widgetsnbextension~=3.5.0->ipywidgets>=7.5.1->pandas-profiling==2.9.0rc1) (1.5.0)\n",
            "Requirement already satisfied: nbconvert in /usr/local/lib/python3.6/dist-packages (from notebook>=4.4.1->widgetsnbextension~=3.5.0->ipywidgets>=7.5.1->pandas-profiling==2.9.0rc1) (5.6.1)\n",
            "Requirement already satisfied: terminado>=0.8.1 in /usr/local/lib/python3.6/dist-packages (from notebook>=4.4.1->widgetsnbextension~=3.5.0->ipywidgets>=7.5.1->pandas-profiling==2.9.0rc1) (0.8.3)\n",
            "Requirement already satisfied: wcwidth in /usr/local/lib/python3.6/dist-packages (from prompt-toolkit<2.0.0,>=1.0.4->ipython>=4.0.0; python_version >= \"3.3\"->ipywidgets>=7.5.1->pandas-profiling==2.9.0rc1) (0.2.5)\n",
            "Requirement already satisfied: ptyprocess>=0.5 in /usr/local/lib/python3.6/dist-packages (from pexpect; sys_platform != \"win32\"->ipython>=4.0.0; python_version >= \"3.3\"->ipywidgets>=7.5.1->pandas-profiling==2.9.0rc1) (0.6.0)\n",
            "Requirement already satisfied: pyzmq>=13 in /usr/local/lib/python3.6/dist-packages (from jupyter-client->ipykernel>=4.5.1->ipywidgets>=7.5.1->pandas-profiling==2.9.0rc1) (19.0.2)\n",
            "Requirement already satisfied: defusedxml in /usr/local/lib/python3.6/dist-packages (from nbconvert->notebook>=4.4.1->widgetsnbextension~=3.5.0->ipywidgets>=7.5.1->pandas-profiling==2.9.0rc1) (0.6.0)\n",
            "Requirement already satisfied: bleach in /usr/local/lib/python3.6/dist-packages (from nbconvert->notebook>=4.4.1->widgetsnbextension~=3.5.0->ipywidgets>=7.5.1->pandas-profiling==2.9.0rc1) (3.1.5)\n",
            "Requirement already satisfied: pandocfilters>=1.4.1 in /usr/local/lib/python3.6/dist-packages (from nbconvert->notebook>=4.4.1->widgetsnbextension~=3.5.0->ipywidgets>=7.5.1->pandas-profiling==2.9.0rc1) (1.4.2)\n",
            "Requirement already satisfied: mistune<2,>=0.8.1 in /usr/local/lib/python3.6/dist-packages (from nbconvert->notebook>=4.4.1->widgetsnbextension~=3.5.0->ipywidgets>=7.5.1->pandas-profiling==2.9.0rc1) (0.8.4)\n",
            "Requirement already satisfied: testpath in /usr/local/lib/python3.6/dist-packages (from nbconvert->notebook>=4.4.1->widgetsnbextension~=3.5.0->ipywidgets>=7.5.1->pandas-profiling==2.9.0rc1) (0.4.4)\n",
            "Requirement already satisfied: entrypoints>=0.2.2 in /usr/local/lib/python3.6/dist-packages (from nbconvert->notebook>=4.4.1->widgetsnbextension~=3.5.0->ipywidgets>=7.5.1->pandas-profiling==2.9.0rc1) (0.3)\n",
            "Requirement already satisfied: webencodings in /usr/local/lib/python3.6/dist-packages (from bleach->nbconvert->notebook>=4.4.1->widgetsnbextension~=3.5.0->ipywidgets>=7.5.1->pandas-profiling==2.9.0rc1) (0.5.1)\n",
            "Requirement already satisfied: packaging in /usr/local/lib/python3.6/dist-packages (from bleach->nbconvert->notebook>=4.4.1->widgetsnbextension~=3.5.0->ipywidgets>=7.5.1->pandas-profiling==2.9.0rc1) (20.4)\n",
            "Building wheels for collected packages: pandas-profiling\n",
            "  Building wheel for pandas-profiling (setup.py) ... \u001b[?25l\u001b[?25hdone\n",
            "  Created wheel for pandas-profiling: filename=pandas_profiling-2.9.0rc1-py2.py3-none-any.whl size=258106 sha256=72a79df9f5948faa94e447f1edba142c51e385888b567b20e3e3fc4961f02e8c\n",
            "  Stored in directory: /tmp/pip-ephem-wheel-cache-7p3mevwm/wheels/56/c2/dd/8d945b0443c35df7d5f62fa9e9ae105a2d8b286302b92e0109\n",
            "Successfully built pandas-profiling\n"
          ],
          "name": "stdout"
        },
        {
          "output_type": "stream",
          "text": [
            "/usr/local/lib/python3.6/dist-packages/statsmodels/tools/_testing.py:19: FutureWarning: pandas.util.testing is deprecated. Use the functions in the public API at pandas.testing instead.\n",
            "  import pandas.util.testing as tm\n"
          ],
          "name": "stderr"
        }
      ]
    },
    {
      "cell_type": "markdown",
      "metadata": {
        "id": "6_kLYd4YB1jB",
        "colab_type": "text"
      },
      "source": [
        "# Importing the Prostate Data "
      ]
    },
    {
      "cell_type": "code",
      "metadata": {
        "id": "UTHWWYqSB8XA",
        "colab_type": "code",
        "colab": {
          "base_uri": "https://localhost:8080/",
          "height": 286
        },
        "outputId": "36eb324b-cb67-4d55-ce71-1d08bd77cffe"
      },
      "source": [
        "#import prostate.data\n",
        "!wget https://web.stanford.edu/~hastie/ElemStatLearn/datasets/prostate.data\n",
        "\n",
        "#looking at prostate.data to verify formatting\n",
        "!cat prostate.data | head -5"
      ],
      "execution_count": 2,
      "outputs": [
        {
          "output_type": "stream",
          "text": [
            "--2020-09-02 23:10:04--  https://web.stanford.edu/~hastie/ElemStatLearn/datasets/prostate.data\n",
            "Resolving web.stanford.edu (web.stanford.edu)... 171.67.215.200\n",
            "Connecting to web.stanford.edu (web.stanford.edu)|171.67.215.200|:443... connected.\n",
            "HTTP request sent, awaiting response... 200 OK\n",
            "Length: 7130 (7.0K)\n",
            "Saving to: ‘prostate.data.11’\n",
            "\n",
            "\rprostate.data.11      0%[                    ]       0  --.-KB/s               \rprostate.data.11    100%[===================>]   6.96K  --.-KB/s    in 0s      \n",
            "\n",
            "2020-09-02 23:10:04 (215 MB/s) - ‘prostate.data.11’ saved [7130/7130]\n",
            "\n",
            "\tlcavol\tlweight\tage\tlbph\tsvi\tlcp\tgleason\tpgg45\tlpsa\ttrain\n",
            "1\t-0.579818495\t2.769459\t50\t-1.38629436\t0\t-1.38629436\t6\t  0\t-0.4307829\tT\n",
            "2\t-0.994252273\t3.319626\t58\t-1.38629436\t0\t-1.38629436\t6\t  0\t-0.1625189\tT\n",
            "3\t-0.510825624\t2.691243\t74\t-1.38629436\t0\t-1.38629436\t7\t 20\t-0.1625189\tT\n",
            "4\t-1.203972804\t3.282789\t58\t-1.38629436\t0\t-1.38629436\t6\t  0\t-0.1625189\tT\n"
          ],
          "name": "stdout"
        }
      ]
    },
    {
      "cell_type": "code",
      "metadata": {
        "id": "cYQucj3mD576",
        "colab_type": "code",
        "colab": {
          "base_uri": "https://localhost:8080/",
          "height": 195
        },
        "outputId": "83fc3a8c-04bb-4727-90f3-931663679aa3"
      },
      "source": [
        "#reading the data into a numpy array of floats\n",
        "df_prostate = pd.read_csv('prostate.data',\n",
        "                 delimiter='\\t',\n",
        "                 index_col = 0,\n",
        "                 usecols=list(np.arange(0,10)))\n",
        "df_prostate.insert(8, 'intercept', 1)\n",
        "prostate_data = df_prostate.to_numpy().astype('float')\n",
        "df_prostate.head()"
      ],
      "execution_count": 3,
      "outputs": [
        {
          "output_type": "execute_result",
          "data": {
            "text/html": [
              "<div>\n",
              "<style scoped>\n",
              "    .dataframe tbody tr th:only-of-type {\n",
              "        vertical-align: middle;\n",
              "    }\n",
              "\n",
              "    .dataframe tbody tr th {\n",
              "        vertical-align: top;\n",
              "    }\n",
              "\n",
              "    .dataframe thead th {\n",
              "        text-align: right;\n",
              "    }\n",
              "</style>\n",
              "<table border=\"1\" class=\"dataframe\">\n",
              "  <thead>\n",
              "    <tr style=\"text-align: right;\">\n",
              "      <th></th>\n",
              "      <th>lcavol</th>\n",
              "      <th>lweight</th>\n",
              "      <th>age</th>\n",
              "      <th>lbph</th>\n",
              "      <th>svi</th>\n",
              "      <th>lcp</th>\n",
              "      <th>gleason</th>\n",
              "      <th>pgg45</th>\n",
              "      <th>intercept</th>\n",
              "      <th>lpsa</th>\n",
              "    </tr>\n",
              "  </thead>\n",
              "  <tbody>\n",
              "    <tr>\n",
              "      <th>1</th>\n",
              "      <td>-0.579818</td>\n",
              "      <td>2.769459</td>\n",
              "      <td>50</td>\n",
              "      <td>-1.386294</td>\n",
              "      <td>0</td>\n",
              "      <td>-1.386294</td>\n",
              "      <td>6</td>\n",
              "      <td>0</td>\n",
              "      <td>1</td>\n",
              "      <td>-0.430783</td>\n",
              "    </tr>\n",
              "    <tr>\n",
              "      <th>2</th>\n",
              "      <td>-0.994252</td>\n",
              "      <td>3.319626</td>\n",
              "      <td>58</td>\n",
              "      <td>-1.386294</td>\n",
              "      <td>0</td>\n",
              "      <td>-1.386294</td>\n",
              "      <td>6</td>\n",
              "      <td>0</td>\n",
              "      <td>1</td>\n",
              "      <td>-0.162519</td>\n",
              "    </tr>\n",
              "    <tr>\n",
              "      <th>3</th>\n",
              "      <td>-0.510826</td>\n",
              "      <td>2.691243</td>\n",
              "      <td>74</td>\n",
              "      <td>-1.386294</td>\n",
              "      <td>0</td>\n",
              "      <td>-1.386294</td>\n",
              "      <td>7</td>\n",
              "      <td>20</td>\n",
              "      <td>1</td>\n",
              "      <td>-0.162519</td>\n",
              "    </tr>\n",
              "    <tr>\n",
              "      <th>4</th>\n",
              "      <td>-1.203973</td>\n",
              "      <td>3.282789</td>\n",
              "      <td>58</td>\n",
              "      <td>-1.386294</td>\n",
              "      <td>0</td>\n",
              "      <td>-1.386294</td>\n",
              "      <td>6</td>\n",
              "      <td>0</td>\n",
              "      <td>1</td>\n",
              "      <td>-0.162519</td>\n",
              "    </tr>\n",
              "    <tr>\n",
              "      <th>5</th>\n",
              "      <td>0.751416</td>\n",
              "      <td>3.432373</td>\n",
              "      <td>62</td>\n",
              "      <td>-1.386294</td>\n",
              "      <td>0</td>\n",
              "      <td>-1.386294</td>\n",
              "      <td>6</td>\n",
              "      <td>0</td>\n",
              "      <td>1</td>\n",
              "      <td>0.371564</td>\n",
              "    </tr>\n",
              "  </tbody>\n",
              "</table>\n",
              "</div>"
            ],
            "text/plain": [
              "     lcavol   lweight  age      lbph  ...  gleason  pgg45  intercept      lpsa\n",
              "1 -0.579818  2.769459   50 -1.386294  ...        6      0          1 -0.430783\n",
              "2 -0.994252  3.319626   58 -1.386294  ...        6      0          1 -0.162519\n",
              "3 -0.510826  2.691243   74 -1.386294  ...        7     20          1 -0.162519\n",
              "4 -1.203973  3.282789   58 -1.386294  ...        6      0          1 -0.162519\n",
              "5  0.751416  3.432373   62 -1.386294  ...        6      0          1  0.371564\n",
              "\n",
              "[5 rows x 10 columns]"
            ]
          },
          "metadata": {
            "tags": []
          },
          "execution_count": 3
        }
      ]
    },
    {
      "cell_type": "markdown",
      "metadata": {
        "id": "GrQC3x2IDVbO",
        "colab_type": "text"
      },
      "source": [
        "#Splitting data into training, validation and testing"
      ]
    },
    {
      "cell_type": "markdown",
      "metadata": {
        "id": "KaWy6mSrDkll",
        "colab_type": "text"
      },
      "source": [
        "##Parameters"
      ]
    },
    {
      "cell_type": "code",
      "metadata": {
        "id": "x0G9gULm0rvs",
        "colab_type": "code",
        "colab": {}
      },
      "source": [
        "#data splitting conditions\n",
        "PERCENT_VAL = 0.10\n",
        "PERCENT_TEST = 0.10\n",
        "random_state = 21  #for reproducibility"
      ],
      "execution_count": 4,
      "outputs": []
    },
    {
      "cell_type": "markdown",
      "metadata": {
        "id": "PEjMHZkcDAWv",
        "colab_type": "text"
      },
      "source": [
        "I felt like we would be splitting the data into 3 quite often, and decided to make a function to handle that (current functions I saw only handled train-test splits). \n",
        "\n",
        "*Note:* This is done a bit naively to match a very specific use case."
      ]
    },
    {
      "cell_type": "code",
      "metadata": {
        "id": "gH5bUNVNB8ER",
        "colab_type": "code",
        "colab": {}
      },
      "source": [
        "def train_val_test_split(X,y, test_size, val_size, random_state = None):\n",
        "  '''Simplistically extended train_test_split to also provide a validation set'''\n",
        "\n",
        "  #We want to split the data in 3, but the train_test_split only splits in 2. \n",
        "  #This means we need to split once to get a testing set and an intermediate set \n",
        "  #which we split again to get the validation and training sets. because \n",
        "  #train_test_split takes a percentage to determine the split, we first determine \n",
        "  #the relative percentage of the intermediate set needed to generate the \n",
        "  #necessary number of samples in the validation set:\n",
        "  rel_val_percent = np.round((val_size)/(1-test_size), 2)\n",
        "\n",
        "  #splitting the data\n",
        "  X_inter, X_test, y_inter, y_test = train_test_split(X,\n",
        "                                                      y,\n",
        "                                                      test_size = test_size,\n",
        "                                                      random_state = random_state\n",
        "                                                      )\n",
        "  X_train, X_val, y_train, y_val = train_test_split(X_inter,\n",
        "                                                      y_inter,\n",
        "                                                      test_size = rel_val_percent,\n",
        "                                                      random_state = random_state\n",
        "                                                      )\n",
        "  \n",
        "  return X_train, X_val, X_test, y_train, y_val, y_test"
      ],
      "execution_count": 5,
      "outputs": []
    },
    {
      "cell_type": "code",
      "metadata": {
        "id": "tYGyYZGcFdS8",
        "colab_type": "code",
        "colab": {
          "base_uri": "https://localhost:8080/",
          "height": 84
        },
        "outputId": "acf64c37-986f-44ed-8e51-2271f2f13db6"
      },
      "source": [
        "\n",
        "\n",
        "split_data = train_val_test_split(prostate_data[:,:-1],\n",
        "                                  prostate_data[:,-1],\n",
        "                                  PERCENT_TEST,\n",
        "                                  PERCENT_VAL,\n",
        "                                  random_state)\n",
        "#unpacking\n",
        "X_train, X_val, X_test, y_train, y_val, y_test = split_data\n",
        "\n",
        "print('Input length:', len(prostate_data))\n",
        "print('Number of training samples:', len(X_train))\n",
        "print('Number of validation samples:', len(X_val))\n",
        "print('Number of testing samples:', len(X_test))"
      ],
      "execution_count": 6,
      "outputs": [
        {
          "output_type": "stream",
          "text": [
            "Input length: 97\n",
            "Number of training samples: 77\n",
            "Number of validation samples: 10\n",
            "Number of testing samples: 10\n"
          ],
          "name": "stdout"
        }
      ]
    },
    {
      "cell_type": "markdown",
      "metadata": {
        "id": "losiF_Vy26oU",
        "colab_type": "text"
      },
      "source": [
        "#Data Overlook"
      ]
    },
    {
      "cell_type": "markdown",
      "metadata": {
        "id": "rIwoXrMjvCpf",
        "colab_type": "text"
      },
      "source": [
        "I found that the easiest start is to use pandas profiling, so I generate a profile for the input:"
      ]
    },
    {
      "cell_type": "code",
      "metadata": {
        "id": "yByuM146toat",
        "colab_type": "code",
        "colab": {}
      },
      "source": [
        "#Getting a prodile of the dataset\n",
        "#prostate_profile = ProfileReport(df_prostate, title=\"Pandas Profiling Report\")\n",
        "#prostate_profile"
      ],
      "execution_count": 7,
      "outputs": []
    },
    {
      "cell_type": "markdown",
      "metadata": {
        "id": "StRlRkElGAsz",
        "colab_type": "text"
      },
      "source": [
        "## Prostate Profile Comments:\n",
        "The profile shows that there are no missing values. Given the size and nature of the data, I feel like there is no need for any changes so I proceed to the following steps. \n",
        "\n",
        "*Note:*\n",
        "One part to note specifically is the correlations panel. This can give us a hint at how coefficients will relate to each other."
      ]
    },
    {
      "cell_type": "markdown",
      "metadata": {
        "id": "RpFq2f5sGlC3",
        "colab_type": "text"
      },
      "source": [
        "#Models"
      ]
    },
    {
      "cell_type": "markdown",
      "metadata": {
        "id": "6rKgWPnXbJhb",
        "colab_type": "text"
      },
      "source": [
        "## Linear Regression\n",
        "\n",
        "Here I create a class to handle linear regression with the following methods:\n",
        "\n",
        "*   fit: takes X and y inputs and generates a weight vector using equation 3.6 for linear regression. \n",
        "*   predict: takes an X input and uses the weights previously fitted to generate a y^ prediction. \n",
        "\n",
        "I also made a function to calculate the mean squared error. \n",
        "\n"
      ]
    },
    {
      "cell_type": "code",
      "metadata": {
        "id": "U-NVkkiqFByV",
        "colab_type": "code",
        "colab": {}
      },
      "source": [
        "# A class to handle the common uses of linear regression\n",
        "class LinModel:\n",
        "  def __init__(self):\n",
        "    self.beta = None\n",
        "\n",
        "  def fit(self, x,y):\n",
        "    #implementing eq 3.6\n",
        "    self.beta = np.linalg.solve((x.T @ x),x.T@y)\n",
        "    return self.beta\n",
        "\n",
        "  def predict(self,x):\n",
        "    return x@self.beta\n",
        "\n",
        "#function to calculate Mean square error\n",
        "def mean_square_error(y, y_hat):\n",
        "  return np.mean((y-y_hat)**2)"
      ],
      "execution_count": 8,
      "outputs": []
    },
    {
      "cell_type": "markdown",
      "metadata": {
        "id": "wConxFGlZ-T_",
        "colab_type": "text"
      },
      "source": [
        "Generating and fitting model"
      ]
    },
    {
      "cell_type": "code",
      "metadata": {
        "id": "o3atjtzOaB2k",
        "colab_type": "code",
        "colab": {}
      },
      "source": [
        "linmodel = LinModel()\n",
        "beta_lin = linmodel.fit(X_train,y_train)"
      ],
      "execution_count": 9,
      "outputs": []
    },
    {
      "cell_type": "markdown",
      "metadata": {
        "id": "WnjcWzzyaDwi",
        "colab_type": "text"
      },
      "source": [
        "Test set MSE"
      ]
    },
    {
      "cell_type": "code",
      "metadata": {
        "id": "SjXPrdw4aG5_",
        "colab_type": "code",
        "colab": {
          "base_uri": "https://localhost:8080/",
          "height": 34
        },
        "outputId": "bc7c962b-4a00-4775-cb16-3a09bdc7aa0f"
      },
      "source": [
        "testMSE_lin = mean_square_error(y_test, linmodel.predict(X_test))\n",
        "print(\"Test MSE:\", testMSE_lin)"
      ],
      "execution_count": 10,
      "outputs": [
        {
          "output_type": "stream",
          "text": [
            "Test MSE: 0.5196643403667369\n"
          ],
          "name": "stdout"
        }
      ]
    },
    {
      "cell_type": "markdown",
      "metadata": {
        "id": "vNS44SLcaLWL",
        "colab_type": "text"
      },
      "source": [
        "###Recreating Table 3.1:\n",
        "Correlation Table"
      ]
    },
    {
      "cell_type": "code",
      "metadata": {
        "id": "O7OlrGxRFseM",
        "colab_type": "code",
        "colab": {
          "base_uri": "https://localhost:8080/",
          "height": 202
        },
        "outputId": "3e395a06-66e3-4193-88fe-e3ee80bdc3f6"
      },
      "source": [
        "#Calculate the correlation coefficients\n",
        "corr_mat = np.corrcoef(X_train[:,:-1].T)\n",
        "\n",
        "#formatting the correlation table \n",
        "coeff_names = list(df_prostate.columns.values[:-1])\n",
        "corr_table = []\n",
        "for row_num in range(corr_mat.shape[0]-1):\n",
        "  #get corr coefficients for the row\n",
        "  vals = list(corr_mat[row_num, :])\n",
        "  #make into strings\n",
        "  vals = [str(round(val,3)) for val in vals]\n",
        "  #prepend the coefficient name\n",
        "  vals.insert(0,coeff_names[row_num])\n",
        "  #remove redundant values\n",
        "  vals = vals [:row_num+1]\n",
        "  #uppend to table_mat\n",
        "  corr_table.append(vals)\n",
        "\n",
        "#Fixing title\n",
        "coeff_names.insert(0,'Coefficients')\n",
        "\n",
        "#generate and pring correlation table\n",
        "corr = tabulate(corr_table[1:], headers = (coeff_names), tablefmt='pretty')\n",
        "print('     Table 1: Correlations of predictors in the prostate cancer data.')\n",
        "print(corr)"
      ],
      "execution_count": 11,
      "outputs": [
        {
          "output_type": "stream",
          "text": [
            "     Table 1: Correlations of predictors in the prostate cancer data.\n",
            "+--------------+--------+---------+-------+--------+-------+-------+\n",
            "| Coefficients | lcavol | lweight |  age  |  lbph  |  svi  |  lcp  |\n",
            "+--------------+--------+---------+-------+--------+-------+-------+\n",
            "|   lweight    | 0.238  |         |       |        |       |       |\n",
            "|     age      | 0.148  |  0.363  |       |        |       |       |\n",
            "|     lbph     |  0.0   |  0.465  | 0.393 |        |       |       |\n",
            "|     svi      | 0.516  |  0.065  | 0.004 | -0.167 |       |       |\n",
            "|     lcp      | 0.649  |  0.08   | 0.002 | -0.055 | 0.662 |       |\n",
            "|   gleason    | 0.483  |  0.081  | 0.208 | 0.086  | 0.324 | 0.559 |\n",
            "+--------------+--------+---------+-------+--------+-------+-------+\n"
          ],
          "name": "stdout"
        }
      ]
    },
    {
      "cell_type": "markdown",
      "metadata": {
        "id": "bnXSxaAiaRiX",
        "colab_type": "text"
      },
      "source": [
        "###Recreating Table 3.2:\n",
        "Linear model fit summary table"
      ]
    },
    {
      "cell_type": "code",
      "metadata": {
        "id": "vewtbhbVaY7s",
        "colab_type": "code",
        "colab": {
          "base_uri": "https://localhost:8080/",
          "height": 252
        },
        "outputId": "de645b12-78c0-4670-f314-ec5e04f68a07"
      },
      "source": [
        "round_decimal = 2\n",
        "\n",
        "#the value of the variance approximation is VERY close to the MSE, but with a\n",
        "# different dividing factor (MSE is N while here it is N-p-1)\n",
        "N = len(X_train)\n",
        "p = len(coeff_names)-1\n",
        "\n",
        "sigma =  np.sqrt(mean_square_error(y_train, linmodel.predict(X_train))*N/(N-p-1))\n",
        "sqrt_v = np.sqrt(np.diagonal(np.linalg.inv(np.matmul(X_train.T, X_train))))\n",
        "standard_error = (sigma*sqrt_v)\n",
        "Z_score = beta_lin/standard_error\n",
        "\n",
        "term = coeff_names[1:]\n",
        "summary_mat = []\n",
        "for coeff_num in range(len(term)):\n",
        "  row = list([term[coeff_num],\n",
        "             round(beta_lin[coeff_num],round_decimal),\n",
        "             round(standard_error[coeff_num],round_decimal),\n",
        "             round(Z_score[coeff_num],round_decimal)])\n",
        "  summary_mat.append(row)\n",
        "\n",
        "summary_header = ['Term', 'Coefficeint', 'Std. Error', 'Z Score']\n",
        "summary = tabulate(summary_mat, headers = summary_header, tablefmt='pretty')\n",
        "print('Table 2: Linear model fit to the prostate cancer data.')\n",
        "print(summary)"
      ],
      "execution_count": 12,
      "outputs": [
        {
          "output_type": "stream",
          "text": [
            "Table 2: Linear model fit to the prostate cancer data.\n",
            "+-----------+-------------+------------+---------+\n",
            "|   Term    | Coefficeint | Std. Error | Z Score |\n",
            "+-----------+-------------+------------+---------+\n",
            "|  lcavol   |    0.55     |    0.1     |  5.71   |\n",
            "|  lweight  |    0.73     |    0.24    |  2.98   |\n",
            "|    age    |    -0.02    |    0.01    |  -1.55  |\n",
            "|   lbph    |    0.07     |    0.07    |  1.08   |\n",
            "|    svi    |    0.68     |    0.27    |  2.53   |\n",
            "|    lcp    |    -0.04    |    0.11    |  -0.36  |\n",
            "|  gleason  |    0.06     |    0.19    |   0.3   |\n",
            "|   pgg45   |     0.0     |    0.01    |  0.89   |\n",
            "| intercept |    -0.3     |    1.57    |  -0.19  |\n",
            "+-----------+-------------+------------+---------+\n"
          ],
          "name": "stdout"
        }
      ]
    },
    {
      "cell_type": "markdown",
      "metadata": {
        "id": "PfGOWQXZbRqZ",
        "colab_type": "text"
      },
      "source": [
        "## Ridge Regression\n",
        "Similar thing to linear regression, except here we want to minimize the validation MSE by changing lambda. I do this through a sweep over lambda. "
      ]
    },
    {
      "cell_type": "code",
      "metadata": {
        "id": "U8B6EcNeG2m-",
        "colab_type": "code",
        "colab": {}
      },
      "source": [
        "#class to handle ridge regression (inheriting the fit function from the linear \n",
        "#model)\n",
        "class RidgeModel(LinModel):\n",
        "  def __init__(self, lambd):\n",
        "    #ridge requires an additional parameter lambda\n",
        "    self.lambd = lambd\n",
        "    self.beta = None\n",
        "\n",
        "  def fit(self, x,y):\n",
        "    #implementing eq 3.44\n",
        "    self.beta  = np.linalg.solve(x.T @ x + self.lambd*np.eye(x.shape[1]),x.T@y)\n",
        "    return self.beta"
      ],
      "execution_count": 13,
      "outputs": []
    },
    {
      "cell_type": "code",
      "metadata": {
        "id": "Qwszzm9N7njH",
        "colab_type": "code",
        "colab": {}
      },
      "source": [
        "def optimize_parameter(model, param_range, X_train, y_train, X_val, y_val):\n",
        "  #initialize loss to be inf and optimum paramater to None\n",
        "  best_val_MSE = float('inf')\n",
        "  opt_param = None\n",
        "  weights = {}\n",
        "\n",
        "  #check the MSE for a model with each of the parameters in the param_range\n",
        "  #and find the parameter yielding the lowest validation MSE\n",
        "  for param in param_range:\n",
        "    newmodel = model(param)\n",
        "    try: weights[param] = list(newmodel.fit(X_train,y_train))\n",
        "    except: \n",
        "      newmodel.fit(X_train,y_train)\n",
        "      weights[param] = newmodel.coef_\n",
        "    #MSE from validation:\n",
        "    MSE_val = mean_square_error(y_val, newmodel.predict(X_val))\n",
        "    #If we are at a new minimum MSE, update the MSE and the optimal parameter\n",
        "    if MSE_val < best_val_MSE: \n",
        "      best_val_MSE = MSE_val\n",
        "      opt_param = param\n",
        "\n",
        "  return opt_param, best_val_MSE, weights"
      ],
      "execution_count": 14,
      "outputs": []
    },
    {
      "cell_type": "code",
      "metadata": {
        "id": "2lsMrWMn8mti",
        "colab_type": "code",
        "colab": {
          "base_uri": "https://localhost:8080/",
          "height": 34
        },
        "outputId": "1cf398d5-0eb9-4219-cf79-f316cc2f1015"
      },
      "source": [
        "Num_samples = 1000\n",
        "lamrange = np.linspace(0, 8, Num_samples)\n",
        "\n",
        "\n",
        "opt_lambda_ridge, valMSE_ridge, weights = optimize_parameter(RidgeModel,\n",
        "                                                             lamrange,\n",
        "                                                             X_train,\n",
        "                                                             y_train,\n",
        "                                                             X_val,\n",
        "                                                             y_val)\n",
        "\n",
        "#creating a model using the optimal lambda\n",
        "opt_ridgemodel = RidgeModel(opt_lambda_ridge)\n",
        "opt_beta_ridge = opt_ridgemodel.fit(X_train, y_train)\n",
        "\n",
        "#Test MSEs\n",
        "testMSE_ridge= mean_square_error(y_test, opt_ridgemodel.predict(X_test))\n",
        "\n",
        "\n",
        "#printing MSEs and lambda (latter to show we reached the min)\n",
        "#print('Optimal Lambda:',opt_lambda_ridge)\n",
        "#print('Optimal Ridge weights: ', opt_beta_ridge)\n",
        "print('MSE from test data:',testMSE_ridge)\n"
      ],
      "execution_count": 27,
      "outputs": [
        {
          "output_type": "stream",
          "text": [
            "MSE from test data: 0.5664402273796125\n"
          ],
          "name": "stdout"
        }
      ]
    },
    {
      "cell_type": "markdown",
      "metadata": {
        "id": "PceLtqNhyAIY",
        "colab_type": "text"
      },
      "source": [
        "### Recreating Figure 3.8"
      ]
    },
    {
      "cell_type": "code",
      "metadata": {
        "id": "iH32oi3etfTU",
        "colab_type": "code",
        "colab": {
          "base_uri": "https://localhost:8080/",
          "height": 506
        },
        "outputId": "6c8f1a9d-27f2-44d9-a36e-6c37a1d93706"
      },
      "source": [
        "#initialize \n",
        "coeffs = np.zeros((Num_samples,p))\n",
        "\n",
        "# coeff for each df\n",
        "for i in range(len(lamrange)):\n",
        "    coeffs[i,:] = weights[lamrange[i]] - beta_lin\n",
        "\n",
        "# Plotting\n",
        "plt.figure\n",
        "plt.figure(figsize=(15,7.5)) \n",
        "for i in range(0,p):\n",
        "  plt.plot(lamrange,coeffs[:,i])\n",
        "  \n",
        "plt.title('Figure 1: Profiles of ridge coefficients for the prostate cancer example, as the tuning parameter λ is varied')\n",
        "plt.ylabel('Coefficients')\n",
        "plt.xlabel('df($\\lambda$)')\n",
        "ymin, ymax = plt.ylim()\n",
        "plt.legend(term, bbox_to_anchor=(1.05, 1), loc='upper left',)\n",
        "plt.xlim([-0.5,8.5])\n",
        "plt.ylim([ymin,ymax])\n",
        "\n",
        "#adding a line for the best lambda value\n",
        "plt.vlines(opt_lambda_ridge, ymin, ymax, linestyle='dashed', colors='red')\n",
        "\n",
        "plt.show()\n",
        "\n",
        "#print the best lambda value\n",
        "print('Best lambda found:', round(opt_lambda_ridge,3))\n"
      ],
      "execution_count": 31,
      "outputs": [
        {
          "output_type": "display_data",
          "data": {
            "image/png": "[encoded data removed]",
            "text/plain": [
              "<Figure size 1080x540 with 1 Axes>"
            ]
          },
          "metadata": {
            "tags": [],
            "needs_background": "light"
          }
        },
        {
          "output_type": "stream",
          "text": [
            "Best lambda found: 4.076\n"
          ],
          "name": "stdout"
        }
      ]
    },
    {
      "cell_type": "markdown",
      "metadata": {
        "id": "xdcsBIqAlA8i",
        "colab_type": "text"
      },
      "source": [
        "## Lasso Regression"
      ]
    },
    {
      "cell_type": "code",
      "metadata": {
        "id": "Z5phF0p_Ej5s",
        "colab_type": "code",
        "colab": {
          "base_uri": "https://localhost:8080/",
          "height": 34
        },
        "outputId": "de5d1820-7bf4-41c8-84a4-58bbb32db035"
      },
      "source": [
        "# This time we don't need to implement the regression model, but get to use one \n",
        "# of the sklearn functions\n",
        "\n",
        "alpharange = np.logspace(-6, 6, Num_samples)\n",
        "\n",
        "opt_alpha_lasso, valMSE_lasso,weights_lasso = optimize_parameter(lm.Lasso,\n",
        "                                                                 alpharange,\n",
        "                                                                 X_train,\n",
        "                                                                 y_train,\n",
        "                                                                 X_val,\n",
        "                                                                 y_val)\n",
        "#generating a model using the optimal alpha\n",
        "opt_lassomodel = lm.Lasso(alpha = opt_alpha_lasso)\n",
        "opt_lassomodel.fit(X_train,y_train)\n",
        "\n",
        "#Other MSEs\n",
        "testMSE_lasso= mean_square_error(y_test, opt_lassomodel.predict(X_test))\n",
        "\n",
        "#printing MSEs alnd alpha/lambda found\n",
        "#print('Optimal alpha:' ,opt_alpha_lasso)\n",
        "print('MSE from test data:', testMSE_lasso)"
      ],
      "execution_count": 33,
      "outputs": [
        {
          "output_type": "stream",
          "text": [
            "MSE from test data: 0.5463948826402224\n"
          ],
          "name": "stdout"
        }
      ]
    },
    {
      "cell_type": "code",
      "metadata": {
        "id": "JwQilZH-JIQB",
        "colab_type": "code",
        "colab": {
          "base_uri": "https://localhost:8080/",
          "height": 34
        },
        "outputId": "c1b21ecc-fe86-4738-e0ac-e8ac8317597f"
      },
      "source": [
        "%xmode Verbose"
      ],
      "execution_count": 43,
      "outputs": [
        {
          "output_type": "stream",
          "text": [
            "Exception reporting mode: Verbose\n"
          ],
          "name": "stdout"
        }
      ]
    },
    {
      "cell_type": "code",
      "metadata": {
        "id": "PKcYtxfSGIOf",
        "colab_type": "code",
        "colab": {
          "base_uri": "https://localhost:8080/",
          "height": 554
        },
        "outputId": "72a906c0-d2ef-40fa-bc8b-f6e6622ff4e1"
      },
      "source": [
        "#initialize \n",
        "coeffs = np.zeros((Num_samples,p))\n",
        "s = np.zeros((Num_samples,1))\n",
        "s_picked = opt_alpha_lasso/np.linalg.norm(weights_lasso[opt_alpha_lasso],1)\n",
        "\n",
        "# coeff for each df\n",
        "for i in range(len(alpharange)):\n",
        "    coeffs[i,:] = weights_lasso[alpharange[i]]\n",
        "    s[i] = alpharange[i]/np.linalg.norm(weights_lasso[alpharange[i]])\n",
        "\n",
        "# Plotting\n",
        "plt.figure\n",
        "plt.figure(figsize=(15,7.5)) \n",
        "for i in range(0,p):\n",
        "  plt.plot(s,coeffs[:,i])\n",
        "  \n",
        "plt.title('Figure 2: Profiles of lasso coefficients.')\n",
        "plt.ylabel('Coefficients')\n",
        "plt.xlabel('s - Shrinking Factor')\n",
        "ymin, ymax = plt.ylim()\n",
        "plt.legend(term, bbox_to_anchor=(1.05, 1), loc='upper left',)\n",
        "plt.xlim([-0,.5])\n",
        "plt.ylim([ymin,ymax])\n",
        "\n",
        "\n",
        "#adding a line for the best lambda value\n",
        "plt.vlines(s_picked, ymin, ymax, linestyle='dashed', colors='red')\n",
        "\n",
        "plt.show()\n",
        "\n",
        "#print the best lambda value\n",
        "print('Best alpha found:', round(opt_alpha_lasso,3))\n",
        "print('This corresponds to a shrinkage factor of:', round(s_picked,3))\n"
      ],
      "execution_count": 58,
      "outputs": [
        {
          "output_type": "stream",
          "text": [
            "/usr/local/lib/python3.6/dist-packages/ipykernel_launcher.py:9: RuntimeWarning: divide by zero encountered in double_scalars\n",
            "  if __name__ == '__main__':\n"
          ],
          "name": "stderr"
        },
        {
          "output_type": "display_data",
          "data": {
            "image/png": "[encoded data removed]",
            "text/plain": [
              "<Figure size 1080x540 with 1 Axes>"
            ]
          },
          "metadata": {
            "tags": [],
            "needs_background": "light"
          }
        },
        {
          "output_type": "stream",
          "text": [
            "Best alpha found: 0.038\n",
            "This corresponds to a shrinkage factor of: 0.026\n"
          ],
          "name": "stdout"
        }
      ]
    },
    {
      "cell_type": "code",
      "metadata": {
        "id": "jrmtOJ0eAThN",
        "colab_type": "code",
        "colab": {
          "base_uri": "https://localhost:8080/",
          "height": 503
        },
        "outputId": "46ab4327-db8a-483e-ed87-39eaa7693729"
      },
      "source": [
        "#Lasso Plot\n",
        "_, _, coefs = lm.lars_path(X_test, y_test, method='lasso', verbose=True)\n",
        "\n",
        "xx = np.sum(np.abs(coefs.T), axis=1)\n",
        "xx /= xx[-1]\n",
        "plt.figure(figsize=(10,7.5)) \n",
        "plt.plot(xx, coefs.T)\n",
        "ymin, ymax = plt.ylim()\n",
        "plt.xlabel('|coef| / max|coef|')\n",
        "plt.ylabel('Coefficients')\n",
        "plt.title('LASSO Path')\n",
        "plt.axis('tight')\n",
        "plt.vlines(opt_alpha_lasso, ymin, ymax, linestyle='dashed', colors= 'red')\n",
        "plt.show()"
      ],
      "execution_count": 66,
      "outputs": [
        {
          "output_type": "stream",
          "text": [
            "."
          ],
          "name": "stdout"
        },
        {
          "output_type": "display_data",
          "data": {
            "image/png": "[encoded data removed]",
            "text/plain": [
              "<Figure size 720x540 with 1 Axes>"
            ]
          },
          "metadata": {
            "tags": [],
            "needs_background": "light"
          }
        }
      ]
    },
    {
      "cell_type": "code",
      "metadata": {
        "id": "UROJ8mKu4UaP",
        "colab_type": "code",
        "colab": {
          "base_uri": "https://localhost:8080/",
          "height": 67
        },
        "outputId": "155a1b4d-36ad-4543-e4fd-93d22c97f502"
      },
      "source": [
        "#Generating a summmary table\n",
        "\n",
        "test_MSE = list([[testMSE_lin, testMSE_ridge, testMSE_lasso]])\n",
        "table = tabulate(test_MSE, headers=['Linear Regression (MSE)', 'Ridge Regression (MSE)', 'Lasso Regression (MSE)'], tablefmt='orgtbl')\n",
        "\n",
        "print(table)"
      ],
      "execution_count": 25,
      "outputs": [
        {
          "output_type": "stream",
          "text": [
            "|   Linear Regression (MSE) |   Ridge Regression (MSE) |   Lasso Regression (MSE) |\n",
            "|---------------------------+--------------------------+--------------------------|\n",
            "|                  0.519664 |                  0.56644 |                 0.546395 |\n"
          ],
          "name": "stdout"
        }
      ]
    },
    {
      "cell_type": "markdown",
      "metadata": {
        "id": "4ubHp3goMPWk",
        "colab_type": "text"
      },
      "source": [
        "#Picked Dataset"
      ]
    },
    {
      "cell_type": "markdown",
      "metadata": {
        "id": "RKZISK7kdE0H",
        "colab_type": "text"
      },
      "source": [
        "## **Iris Data Set**\n",
        "\n",
        "[UCI page found here](https://archive.ics.uci.edu/ml/datasets/Iris)\n",
        "\n",
        "From UCI, the attributes are: \n",
        "1. sepal length in cm\n",
        "2. sepal width in cm\n",
        "3. petal length in cm\n",
        "4. petal width in cm\n",
        "5. class:\n",
        "* Iris Setosa\n",
        "* Iris Versicolour\n",
        "* Iris Virginica\n",
        "\n",
        "We want only numerical data, so I omit the last attribute when I import the data. \n",
        "\n",
        "\n",
        "\n",
        "## The problem:\n",
        "Predict the petal width of the an iris given it's petal length, sepal length, and sepal width.\n"
      ]
    },
    {
      "cell_type": "code",
      "metadata": {
        "id": "n1WMGJC8Q8qV",
        "colab_type": "code",
        "colab": {}
      },
      "source": [
        "# Get the iris dataset\n",
        "# Only need to do this once, so I commented it out for debugging\n",
        "#This is not a regression dataset persay (noticed this after the fact), but it seemed to have worked nonetheless\n",
        "!wget https://archive.ics.uci.edu/ml/machine-learning-databases/iris/iris.data\n",
        "\n",
        "#looking at iris.data to verify formatting\n",
        "!cat iris.data | head -5"
      ],
      "execution_count": null,
      "outputs": []
    },
    {
      "cell_type": "markdown",
      "metadata": {
        "id": "dyWNeiFGvIDX",
        "colab_type": "text"
      },
      "source": [
        "## Comments:\n",
        "The profile shows that there are no missing values and that there are a couple of duplicates (which I leave). Given the size and nature of the data, I feel like there is no need for any changes so I proceed to the following steps. \n",
        "\n",
        "*Note:*\n",
        "One part to note specifically is the correlations panel, which lets us know that petal width is highly correlated with petal length, followed by sepal length and lastly petal width. Since we plan to use linear regression, this gives us an idea of the relationships between the weights we expect to see. \n"
      ]
    },
    {
      "cell_type": "code",
      "metadata": {
        "id": "2leVNopivSWD",
        "colab_type": "code",
        "colab": {}
      },
      "source": [
        "#reading the data from a csv into a numpy array as floats\n",
        "colnames = ['sepal length', 'sepal width', 'petal length']\n",
        "df = pd.read_csv('iris.data', header = None, usecols=[0,1,2,3])\n",
        "data = df.to_numpy().astype(np.float)\n",
        "\n",
        "#Based on the problem chosen\n",
        "#X = data[:,:-1] \n",
        "#y = data[:,-1]\n",
        "\n",
        "\n",
        "split_data = train_val_test_split(data[:,:-1],\n",
        "                                  data[:,-1],\n",
        "                                  PERCENT_TEST,\n",
        "                                  PERCENT_VAL,\n",
        "                                  random_state)\n",
        "#unpacking\n",
        "X_train, X_val, X_test, y_train, y_val, y_test = split_data\n",
        "\n",
        "print('Input length:', len(data))\n",
        "print('Number of training samples:', len(X_train))\n",
        "print('Number of validation samples:', len(X_val))\n",
        "print('Number of testing samples:', len(X_test))\n"
      ],
      "execution_count": null,
      "outputs": []
    },
    {
      "cell_type": "markdown",
      "metadata": {
        "id": "fEkYH9jVx1Q9",
        "colab_type": "text"
      },
      "source": [
        "# Importing the data and data splitting"
      ]
    },
    {
      "cell_type": "markdown",
      "metadata": {
        "id": "KwQjorln6H-u",
        "colab_type": "text"
      },
      "source": [
        "# Overall Conclusions\n",
        "Comparing the test MSE "
      ]
    }
  ]
}