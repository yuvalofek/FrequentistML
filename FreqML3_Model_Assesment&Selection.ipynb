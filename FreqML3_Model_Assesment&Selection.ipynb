{
  "nbformat": 4,
  "nbformat_minor": 0,
  "metadata": {
    "colab": {
      "name": "FreqML3_Model_Assesment&Selection.ipynb",
      "provenance": [],
      "collapsed_sections": [],
      "include_colab_link": true
    },
    "kernelspec": {
      "name": "python3",
      "display_name": "Python 3"
    }
  },
  "cells": [
    {
      "cell_type": "markdown",
      "metadata": {
        "id": "view-in-github",
        "colab_type": "text"
      },
      "source": [
        "<a href=\"https://colab.research.google.com/github/yuvalofek/FrequentistML/blob/master/FreqML3_Model_Assesment%26Selection.ipynb\" target=\"_parent\"><img src=\"https://colab.research.google.com/assets/colab-badge.svg\" alt=\"Open In Colab\"/></a>"
      ]
    },
    {
      "cell_type": "markdown",
      "metadata": {
        "id": "ZzQ4rxmlec2T"
      },
      "source": [
        "# **Model Assesment and Selection**\n",
        "\n",
        "Yuval Epstain Ofek\n",
        "\n",
        "\n",
        "---\n",
        "\n"
      ]
    },
    {
      "cell_type": "markdown",
      "metadata": {
        "id": "mKx2tOtzek-v"
      },
      "source": [
        "\n",
        "**The Prompt:**\n",
        "Re-implement the example in section 7.10.2 using any simple, out of the box classifier (like K nearest neighbors from sci-kit). Reproduce the results for the incorrect and correct way of doing cross-validation."
      ]
    },
    {
      "cell_type": "code",
      "metadata": {
        "id": "HQnJkKo3eVNP"
      },
      "source": [
        "from sklearn.neighbors import KNeighborsClassifier as nearNC\n",
        "import numpy as np\n",
        "import matplotlib.pyplot as plt"
      ],
      "execution_count": null,
      "outputs": []
    },
    {
      "cell_type": "code",
      "metadata": {
        "id": "bMScM6XpfxfH",
        "colab": {
          "base_uri": "https://localhost:8080/",
          "height": 33
        },
        "outputId": "101d09ae-c55a-498e-cb82-05527810b6ad"
      },
      "source": [
        "#parameters\n",
        "N = 50\n",
        "p = 5000\n",
        "K = 5\n",
        "Highest_N = 100\n",
        "\n",
        "#create dataset \n",
        "np.random.seed(1)\n",
        "y = 1*(np.random.rand(1,N)>0.5)\n",
        "x = np.random.randn(p,N)\n",
        "\n",
        "Num_samp = int(N/K)\n",
        "y_rav = np.ravel(y) #needed to call the k-nearest neighbors classifier\n",
        "\n",
        "#checking sizes\n",
        "print(y.shape, x.shape)"
      ],
      "execution_count": null,
      "outputs": [
        {
          "output_type": "stream",
          "text": [
            "(1, 50) (5000, 50)\n"
          ],
          "name": "stdout"
        }
      ]
    },
    {
      "cell_type": "markdown",
      "metadata": {
        "id": "_-ma-Wwlrwu5"
      },
      "source": [
        "**The Wrong Way...**"
      ]
    },
    {
      "cell_type": "code",
      "metadata": {
        "id": "mBMBOYL2gWj_",
        "colab": {
          "base_uri": "https://localhost:8080/",
          "height": 33
        },
        "outputId": "67b5da9d-9cdd-41d1-edef-13459aa8cb16"
      },
      "source": [
        "#cross correlation:\n",
        "corr_xy = np.ravel(x@y.T)\n",
        "#Use indices of the x values with the highest correlation\n",
        "mx_i = corr_xy.argsort()[-Highest_N:][::-1]\n",
        "X_new = x[mx_i,:].T\n",
        "\n",
        "correct = []\n",
        "for i in range(K):\n",
        "  #split up the X input into training and validation sets, based on the current k\n",
        "  val = X_new[i*Num_samp:(i+1)*Num_samp,:]\n",
        "  y_val = y_rav[i*Num_samp:(i+1)*Num_samp]\n",
        "  tr = np.concatenate([X_new[:i*Num_samp,:],X_new[(i+1)*Num_samp:,:]])\n",
        "  y_tr = np.concatenate([y_rav[:i*Num_samp],y_rav[(i+1)*Num_samp:]])\n",
        "  #Train the 1-nearest neighbors classifier\n",
        "  neigh = nearNC(n_neighbors=1)\n",
        "  neigh.fit(tr,np.ravel(y_tr))\n",
        "  # check how many of the validation set we got right\n",
        "  correct.append(neigh.predict(val) == y_val)\n",
        "print(\"percent error: \" + str(round((1-np.mean(correct))*100)))"
      ],
      "execution_count": null,
      "outputs": [
        {
          "output_type": "stream",
          "text": [
            "percent error: 14.0\n"
          ],
          "name": "stdout"
        }
      ]
    },
    {
      "cell_type": "markdown",
      "metadata": {
        "id": "eN83Bv3zISnJ"
      },
      "source": [
        "**The Correct Way**"
      ]
    },
    {
      "cell_type": "code",
      "metadata": {
        "id": "I68bnYyBvhwz",
        "colab": {
          "base_uri": "https://localhost:8080/",
          "height": 33
        },
        "outputId": "20060165-cb06-4044-a26d-f42c27fcc006"
      },
      "source": [
        "correct_ = []\n",
        "for i in range(K):\n",
        "  #spllit up the X input into training and validation sets, based on the current k\n",
        "  val = x.T[i*Num_samp:(i+1)*Num_samp,:]\n",
        "  y_val = y_rav[i*Num_samp:(i+1)*Num_samp]\n",
        "  tr = np.concatenate([x.T[:i*Num_samp,:],x.T[(i+1)*Num_samp:,:]])\n",
        "  y_tr = np.concatenate([y_rav[:i*Num_samp],y_rav[(i+1)*Num_samp:]])\n",
        "\n",
        "  #correlation coefficients:\n",
        "  corr_xy  = np.ravel(tr.T@y_tr.reshape((1,-1)).T)\n",
        "\n",
        "  #get indices of the highest correlated predictors\n",
        "  mx_i = corr_xy.argsort()[-Highest_N:][::-1]\n",
        "  tr_mx = tr[:,mx_i]\n",
        "  val_mx = val[:,mx_i]\n",
        "  \n",
        "\n",
        "  #Train the 1-nearest neighbors classifier\n",
        "  neigh = nearNC(n_neighbors=1)\n",
        "  neigh.fit(tr_mx,np.ravel(y_tr))\n",
        "  # check how many of the validation set we got right\n",
        "  correct_.append(neigh.predict(val_mx) == y_val)\n",
        "print('percent error: ' + str((1-np.mean(correct_))*100))"
      ],
      "execution_count": null,
      "outputs": [
        {
          "output_type": "stream",
          "text": [
            "percent error: 46.0\n"
          ],
          "name": "stdout"
        }
      ]
    },
    {
      "cell_type": "markdown",
      "metadata": {
        "id": "38VTZwefmRDT"
      },
      "source": [
        "We see results similar to the example in section 7.10.2, the error for the incorrect way is extremely small, more so than it should be. Once we correct our mistakes, we reach a value much closer to 0.5, the predicted value. "
      ]
    }
  ]
}