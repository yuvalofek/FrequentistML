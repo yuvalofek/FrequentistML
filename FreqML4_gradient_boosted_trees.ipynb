{
  "nbformat": 4,
  "nbformat_minor": 0,
  "metadata": {
    "colab": {
      "name": "FreqML4_gradient_boosted_trees.ipynb",
      "provenance": [],
      "collapsed_sections": [],
      "toc_visible": true,
      "include_colab_link": true
    },
    "kernelspec": {
      "name": "python3",
      "display_name": "Python 3"
    }
  },
  "cells": [
    {
      "cell_type": "markdown",
      "metadata": {
        "id": "view-in-github",
        "colab_type": "text"
      },
      "source": [
        "<a href=\"https://colab.research.google.com/github/yuvalofek/FrequentistML/blob/master/FreqML4_gradient_boosted_trees.ipynb\" target=\"_parent\"><img src=\"https://colab.research.google.com/assets/colab-badge.svg\" alt=\"Open In Colab\"/></a>"
      ]
    },
    {
      "cell_type": "markdown",
      "metadata": {
        "id": "x6a1z_OvNQxX"
      },
      "source": [
        "# **Frequentist ML Assignment 4 - Gradient Boosted Trees**\n",
        "\n",
        "Yuval Epstain Ofek & Theo Jaquenoud\n",
        "\n",
        "\n",
        "---\n",
        "\n"
      ]
    },
    {
      "cell_type": "markdown",
      "metadata": {
        "id": "NvpEJOynNbn4"
      },
      "source": [
        "**The Prompt:**\n",
        "For this assignment, you will learn how to use and tune a common gradient boosted tree package XGBoost:\n",
        "\n",
        "https://xgboost.readthedocs.io/en/latest/\n",
        "\n",
        "1. First, select one of the datasets from section 10.14 of the test(either California Housing or New Zealand Fish) and replicate the analysis, including the plots. You don't have to do the maps. \n",
        "\n",
        "2. Next, select a dataset of your choice and perform a similar analysis. You can perform classification or regresssion, your choice. This should be a more complicated, and if you want, messier, dataset than the ones we've looked at so far. Use the built-in functions that come with the xgboost package to tune the model and optimize your performance, and determine the feature importance.  As this assignment is more focused on using a library, I will be expecting a more thoughtful analysis of the results.\n",
        "\n",
        "For some more details on XGBoost, you can have a look at : https://arxiv.org/pdf/1603.02754v3.pdf and https://medium.com/@gabrieltseng/gradient-boosting-and-xgboost-c306c1bcfaf5\n",
        "\n",
        "If you wish to get your hands a bit dirty on tree-related algorithms, there are 2 stretch goals available as well.\n",
        "\n",
        "* Stretch goal #1, 3 points: Implement a basic tree algorithm for both regression and classification. It must work for several loss functions: mean-squared error, misclassification, Gini index, and cross-entropy. You do not have to implement any pruning, but the # of nodes should be a parameter. Select a dataset to test your algorithm on, and tune it using cross-validation to select the optimal # of nodes. Compare against a baseline.\n",
        "\n",
        "* Stretch goal #2, 3 points: Use a simple tree method, (like your tree from stretch goal #1) and implement algorithm 10.3. Select a dataset, tune your algorithm and compare it against a baseline"
      ]
    },
    {
      "cell_type": "markdown",
      "metadata": {
        "id": "DKXRzqdSXm0l"
      },
      "source": [
        "Summary:\n",
        "* get dataset (either California Housing or New Zealand Fish)\n",
        "* Train gradient boost\n",
        "* Plot Absolute Error vs iteration for training and test\n",
        "* Bar plot relative importance of features\n",
        "* repeat above for a chosen dataset\n",
        "\n",
        "\n",
        "\n",
        "Stretch Goals:\n",
        "* Implement a basic tree algorithm that works with a bouple of losses \n",
        "* Select a dataset\n",
        "* Tune using cross validation to get # of nodes\n",
        "* Compare with baseline\n",
        "\n",
        "\n",
        "* Using a simple tree based methid implement 10.3\n",
        "* Select dataset\n",
        "* Tune algorithm\n",
        "* Compare with baseline"
      ]
    },
    {
      "cell_type": "markdown",
      "metadata": {
        "id": "nO46JpUiZnRp"
      },
      "source": [
        "##Imports"
      ]
    },
    {
      "cell_type": "code",
      "metadata": {
        "id": "PldljdzYONn-"
      },
      "source": [
        "#import stuff\n",
        "import xgboost as xgb\n",
        "import matplotlib.pyplot as plt\n",
        "import numpy as np\n",
        "import pandas as pd\n",
        "#from sklearn import *\n",
        "import sklearn\n",
        "\n",
        "from tabulate import tabulate\n",
        "from sklearn.model_selection import train_test_split  #for spliting data\n",
        "from sklearn.model_selection  import GridSearchCV, StratifiedKFold, RandomizedSearchCV\n",
        "\n",
        "SEED = 123\n",
        "np.random.seed(SEED)"
      ],
      "execution_count": null,
      "outputs": []
    },
    {
      "cell_type": "markdown",
      "metadata": {
        "id": "fvz4p5SZmqfS"
      },
      "source": [
        "## California Housing Dataset"
      ]
    },
    {
      "cell_type": "code",
      "metadata": {
        "id": "kTbNimbX0QjY",
        "colab": {
          "base_uri": "https://localhost:8080/",
          "height": 215
        },
        "outputId": "35845509-131f-40ef-db12-79ddd9ddcdb5"
      },
      "source": [
        "#sklearn has the california housing dataset already, lucky us\n",
        "sklearn_housing = sklearn.datasets.fetch_california_housing()\n",
        "cali = pd.DataFrame(sklearn_housing['data'],\n",
        "                    columns = sklearn_housing['feature_names'])\n",
        "cal = cali.to_numpy()\n",
        "cali.head()"
      ],
      "execution_count": null,
      "outputs": [
        {
          "output_type": "stream",
          "text": [
            "Downloading Cal. housing from https://ndownloader.figshare.com/files/5976036 to /root/scikit_learn_data\n"
          ],
          "name": "stderr"
        },
        {
          "output_type": "execute_result",
          "data": {
            "text/html": [
              "<div>\n",
              "<style scoped>\n",
              "    .dataframe tbody tr th:only-of-type {\n",
              "        vertical-align: middle;\n",
              "    }\n",
              "\n",
              "    .dataframe tbody tr th {\n",
              "        vertical-align: top;\n",
              "    }\n",
              "\n",
              "    .dataframe thead th {\n",
              "        text-align: right;\n",
              "    }\n",
              "</style>\n",
              "<table border=\"1\" class=\"dataframe\">\n",
              "  <thead>\n",
              "    <tr style=\"text-align: right;\">\n",
              "      <th></th>\n",
              "      <th>MedInc</th>\n",
              "      <th>HouseAge</th>\n",
              "      <th>AveRooms</th>\n",
              "      <th>AveBedrms</th>\n",
              "      <th>Population</th>\n",
              "      <th>AveOccup</th>\n",
              "      <th>Latitude</th>\n",
              "      <th>Longitude</th>\n",
              "    </tr>\n",
              "  </thead>\n",
              "  <tbody>\n",
              "    <tr>\n",
              "      <th>0</th>\n",
              "      <td>8.3252</td>\n",
              "      <td>41.0</td>\n",
              "      <td>6.984127</td>\n",
              "      <td>1.023810</td>\n",
              "      <td>322.0</td>\n",
              "      <td>2.555556</td>\n",
              "      <td>37.88</td>\n",
              "      <td>-122.23</td>\n",
              "    </tr>\n",
              "    <tr>\n",
              "      <th>1</th>\n",
              "      <td>8.3014</td>\n",
              "      <td>21.0</td>\n",
              "      <td>6.238137</td>\n",
              "      <td>0.971880</td>\n",
              "      <td>2401.0</td>\n",
              "      <td>2.109842</td>\n",
              "      <td>37.86</td>\n",
              "      <td>-122.22</td>\n",
              "    </tr>\n",
              "    <tr>\n",
              "      <th>2</th>\n",
              "      <td>7.2574</td>\n",
              "      <td>52.0</td>\n",
              "      <td>8.288136</td>\n",
              "      <td>1.073446</td>\n",
              "      <td>496.0</td>\n",
              "      <td>2.802260</td>\n",
              "      <td>37.85</td>\n",
              "      <td>-122.24</td>\n",
              "    </tr>\n",
              "    <tr>\n",
              "      <th>3</th>\n",
              "      <td>5.6431</td>\n",
              "      <td>52.0</td>\n",
              "      <td>5.817352</td>\n",
              "      <td>1.073059</td>\n",
              "      <td>558.0</td>\n",
              "      <td>2.547945</td>\n",
              "      <td>37.85</td>\n",
              "      <td>-122.25</td>\n",
              "    </tr>\n",
              "    <tr>\n",
              "      <th>4</th>\n",
              "      <td>3.8462</td>\n",
              "      <td>52.0</td>\n",
              "      <td>6.281853</td>\n",
              "      <td>1.081081</td>\n",
              "      <td>565.0</td>\n",
              "      <td>2.181467</td>\n",
              "      <td>37.85</td>\n",
              "      <td>-122.25</td>\n",
              "    </tr>\n",
              "  </tbody>\n",
              "</table>\n",
              "</div>"
            ],
            "text/plain": [
              "   MedInc  HouseAge  AveRooms  ...  AveOccup  Latitude  Longitude\n",
              "0  8.3252      41.0  6.984127  ...  2.555556     37.88    -122.23\n",
              "1  8.3014      21.0  6.238137  ...  2.109842     37.86    -122.22\n",
              "2  7.2574      52.0  8.288136  ...  2.802260     37.85    -122.24\n",
              "3  5.6431      52.0  5.817352  ...  2.547945     37.85    -122.25\n",
              "4  3.8462      52.0  6.281853  ...  2.181467     37.85    -122.25\n",
              "\n",
              "[5 rows x 8 columns]"
            ]
          },
          "metadata": {
            "tags": []
          },
          "execution_count": 12
        }
      ]
    },
    {
      "cell_type": "code",
      "metadata": {
        "id": "zr3MbCNfljpf"
      },
      "source": [
        "def train_val_test_split(X,y, test_size, val_size, random_state = None):\n",
        "  '''Extended train_test_split to also provide a validation set'''\n",
        "\n",
        "  #We want to split the data in 3, but the train_test_split only splits in 2. \n",
        "  #This means we need to split once to get a testing set and an intermediate set \n",
        "  #which we split again to get the validation and training sets. because \n",
        "  #train_test_split takes a percentage to determine the split, we first determine \n",
        "  #the relative percentage of the intermediate set needed to generate the \n",
        "  #necessary number of samples in the validation set:\n",
        "  rel_val_percent = np.round((val_size)/(1-test_size), 2)\n",
        "\n",
        "  #splitting the data\n",
        "  X_inter, X_test, y_inter, y_test = train_test_split(X,\n",
        "                                                      y,\n",
        "                                                      test_size = test_size,\n",
        "                                                      random_state = random_state\n",
        "                                                      )\n",
        "  X_train, X_val, y_train, y_val = train_test_split(X_inter,\n",
        "                                                      y_inter,\n",
        "                                                      test_size = rel_val_percent,\n",
        "                                                      random_state = random_state\n",
        "                                                      )\n",
        "  \n",
        "  return X_train, X_val, X_test, y_train, y_val, y_test"
      ],
      "execution_count": null,
      "outputs": []
    },
    {
      "cell_type": "code",
      "metadata": {
        "id": "IuuAp76Hlna8",
        "colab": {
          "base_uri": "https://localhost:8080/",
          "height": 87
        },
        "outputId": "932bd5e8-1ccb-4583-d60d-4eec302dc74e"
      },
      "source": [
        "#data splitting conditions\n",
        "PERCENT_VAL = 0.10\n",
        "PERCENT_TEST = 0.10\n",
        "random_state = 25  #for reproducibility\n",
        "\n",
        "#Median income is the 2nd column (column 1)\n",
        "split_data = train_val_test_split(cal[:,1:],\n",
        "                                  cal[:,0],\n",
        "                                  PERCENT_TEST,\n",
        "                                  PERCENT_VAL,\n",
        "                                  random_state)\n",
        "#unpacking\n",
        "X_train, X_val, X_test, y_train, y_val, y_test = split_data\n",
        "\n",
        "#printing sizes to check\n",
        "print('Input length:', len(cal))\n",
        "print('Number of training samples:', len(X_train))\n",
        "print('Number of validation samples:', len(X_val))\n",
        "print('Number of testing samples:', len(X_test))"
      ],
      "execution_count": null,
      "outputs": [
        {
          "output_type": "stream",
          "text": [
            "Input length: 20640\n",
            "Number of training samples: 16532\n",
            "Number of validation samples: 2044\n",
            "Number of testing samples: 2064\n"
          ],
          "name": "stdout"
        }
      ]
    },
    {
      "cell_type": "code",
      "metadata": {
        "id": "uEX7hlWHoFMM"
      },
      "source": [
        "params = {\n",
        "        'min_child_weight': [1, 5, 10],\n",
        "        'gamma': [0, 0.5, 1],\n",
        "        'colsample_bytree': [0.6, 0.8, 1.0],\n",
        "        'max_depth': [2, 4, 6]\n",
        "        }"
      ],
      "execution_count": null,
      "outputs": []
    },
    {
      "cell_type": "code",
      "metadata": {
        "id": "9l8mTapporM4"
      },
      "source": [
        "xgb1 = xgb.XGBRegressor(learning_rate=0.02,\n",
        "                        n_estimators=800,\n",
        "                        silent=True,\n",
        "                        nthread=1)"
      ],
      "execution_count": null,
      "outputs": []
    },
    {
      "cell_type": "code",
      "metadata": {
        "id": "O7Pk3jjrpBcl",
        "colab": {
          "base_uri": "https://localhost:8080/",
          "height": 478
        },
        "outputId": "005f7209-9902-4c55-ca42-ffc337d80b36"
      },
      "source": [
        "#This one takes a WHILE to run\n",
        "random_search = RandomizedSearchCV(xgb1,\n",
        "                                   param_distributions=params,\n",
        "                                   n_jobs = -1,\n",
        "                                   verbose=1,\n",
        "                                   random_state=SEED)\n",
        "random_search.fit(X_train, y_train)"
      ],
      "execution_count": null,
      "outputs": [
        {
          "output_type": "stream",
          "text": [
            "Fitting 5 folds for each of 10 candidates, totalling 50 fits\n"
          ],
          "name": "stdout"
        },
        {
          "output_type": "stream",
          "text": [
            "[Parallel(n_jobs=-1)]: Using backend LokyBackend with 2 concurrent workers.\n",
            "[Parallel(n_jobs=-1)]: Done  46 tasks      | elapsed:  4.2min\n",
            "[Parallel(n_jobs=-1)]: Done  50 out of  50 | elapsed:  4.5min finished\n"
          ],
          "name": "stderr"
        },
        {
          "output_type": "execute_result",
          "data": {
            "text/plain": [
              "RandomizedSearchCV(cv=None, error_score=nan,\n",
              "                   estimator=XGBRegressor(base_score=0.5, booster='gbtree',\n",
              "                                          colsample_bylevel=1,\n",
              "                                          colsample_bynode=1,\n",
              "                                          colsample_bytree=1, gamma=0,\n",
              "                                          importance_type='gain',\n",
              "                                          learning_rate=0.02, max_delta_step=0,\n",
              "                                          max_depth=3, min_child_weight=1,\n",
              "                                          missing=None, n_estimators=800,\n",
              "                                          n_jobs=1, nthread=1,\n",
              "                                          objective='reg:linear',\n",
              "                                          random_state=0, reg_alpha=0,\n",
              "                                          reg_lambda=1, scale_pos_weight=1,\n",
              "                                          seed=None, silent=True, subsample=1,\n",
              "                                          verbosity=1),\n",
              "                   iid='deprecated', n_iter=10, n_jobs=-1,\n",
              "                   param_distributions={'colsample_bytree': [0.6, 0.8, 1.0],\n",
              "                                        'gamma': [0, 0.5, 1],\n",
              "                                        'max_depth': [2, 4, 6],\n",
              "                                        'min_child_weight': [1, 5, 10]},\n",
              "                   pre_dispatch='2*n_jobs', random_state=123, refit=True,\n",
              "                   return_train_score=False, scoring=None, verbose=1)"
            ]
          },
          "metadata": {
            "tags": []
          },
          "execution_count": 17
        }
      ]
    },
    {
      "cell_type": "code",
      "metadata": {
        "id": "HwyLo_mZuQ-S",
        "colab": {
          "base_uri": "https://localhost:8080/",
          "height": 141
        },
        "outputId": "f2321b0a-4673-43ca-de30-73a6c0204996"
      },
      "source": [
        "best_xgb = random_search.best_estimator_\n",
        "eval_sets = [(X_train, y_train), (X_val, y_val)]\n",
        "best_xgb.fit(X_train, y_train,\n",
        "             eval_metric='mae',\n",
        "             eval_set=eval_sets,\n",
        "             verbose = False)"
      ],
      "execution_count": null,
      "outputs": [
        {
          "output_type": "execute_result",
          "data": {
            "text/plain": [
              "XGBRegressor(base_score=0.5, booster='gbtree', colsample_bylevel=1,\n",
              "             colsample_bynode=1, colsample_bytree=0.6, gamma=1,\n",
              "             importance_type='gain', learning_rate=0.02, max_delta_step=0,\n",
              "             max_depth=6, min_child_weight=1, missing=None, n_estimators=800,\n",
              "             n_jobs=1, nthread=1, objective='reg:linear', random_state=0,\n",
              "             reg_alpha=0, reg_lambda=1, scale_pos_weight=1, seed=None,\n",
              "             silent=True, subsample=1, verbosity=1)"
            ]
          },
          "metadata": {
            "tags": []
          },
          "execution_count": 18
        }
      ]
    },
    {
      "cell_type": "code",
      "metadata": {
        "id": "iOe1yTq9ullF",
        "colab": {
          "base_uri": "https://localhost:8080/",
          "height": 34
        },
        "outputId": "9f591b79-4531-426f-8248-98f1cf7613a4"
      },
      "source": [
        "baseline_abserr = np.mean( np.abs(y_val - y_train.mean()) )\n",
        "baseline_abserr"
      ],
      "execution_count": null,
      "outputs": [
        {
          "output_type": "execute_result",
          "data": {
            "text/plain": [
              "1.3795885236744205"
            ]
          },
          "metadata": {
            "tags": []
          },
          "execution_count": 19
        }
      ]
    },
    {
      "cell_type": "code",
      "metadata": {
        "id": "AiVJBZdKxaAK",
        "colab": {
          "base_uri": "https://localhost:8080/",
          "height": 730
        },
        "outputId": "a07da89f-03b5-4420-dc01-06d3c71c53e4"
      },
      "source": [
        "#Thanks to https://setscholars.net/wp-content/uploads/2019/02/visualise-XgBoost-model-with-learning-curves-in-Python.html\n",
        "\n",
        "results = best_xgb.evals_result()\n",
        "epochs = len(results['validation_0']['mae']) \n",
        "x_axis = range(0, epochs)\n",
        "\n",
        "\n",
        "fig, ax = plt.subplots(figsize=(12,12))\n",
        "ax.plot(x_axis, results['validation_0']['mae'], label='Training')\n",
        "ax.plot(x_axis, results['validation_1']['mae'], label='Validation')\n",
        "\n",
        "plt.hlines(baseline_abserr, 0, 800, colors='black', linestyles='dotted', label='Baseline')    \n",
        "ax.legend()\n",
        "    \n",
        "plt.ylabel('Mean Absolute Error')\n",
        "plt.xlabel('Iterations M')\n",
        "plt.title('Training and Validation Absolute Error')\n",
        "plt.show()\n"
      ],
      "execution_count": null,
      "outputs": [
        {
          "output_type": "display_data",
          "data": {
            "image/png": "[encoded data removed]",
            "text/plain": [
              "<Figure size 864x864 with 1 Axes>"
            ]
          },
          "metadata": {
            "tags": [],
            "needs_background": "light"
          }
        }
      ]
    },
    {
      "cell_type": "code",
      "metadata": {
        "id": "3urGBPpHzERV",
        "colab": {
          "base_uri": "https://localhost:8080/",
          "height": 605
        },
        "outputId": "238f06bf-f5b9-45b2-f450-732e729c7646"
      },
      "source": [
        "feat = best_xgb.feature_importances_\n",
        "names = sklearn_housing['feature_names'][1:]\n",
        "\n",
        "\n",
        "feat, names = zip(*sorted(zip(feat, names)))\n",
        "plt.figure(figsize=(10,10))\n",
        "plt.barh( names, feat)\n",
        "plt.xlabel('Relative Importance')\n",
        "plt.show()"
      ],
      "execution_count": null,
      "outputs": [
        {
          "output_type": "display_data",
          "data": {
            "image/png": "[encoded data removed]",
            "text/plain": [
              "<Figure size 720x720 with 1 Axes>"
            ]
          },
          "metadata": {
            "tags": [],
            "needs_background": "light"
          }
        }
      ]
    },
    {
      "cell_type": "markdown",
      "metadata": {
        "id": "sU_x5YDh8qih"
      },
      "source": [
        "##Second Dataset: "
      ]
    },
    {
      "cell_type": "code",
      "metadata": {
        "id": "M0zmcAVi8p-f",
        "colab": {
          "base_uri": "https://localhost:8080/",
          "height": 217
        },
        "outputId": "7ef74fc6-5f5a-419a-9180-24c53dadef88"
      },
      "source": [
        "#in this dataset, we want to try to predict the critical temperature of\n",
        "#a potential superconducter, using a variety of material properties relating\n",
        "#to mass, size, conductivity, entropy, thermal properties etc...\n",
        "\n",
        "df_super = pd.read_csv('train.csv')\n",
        "\n",
        "#The dataset has 81 features, the first time we trained the model it took over half an hour\n",
        "#and most of the variables were completely insignificant with a relative importance near 0.\n",
        "#So here we preselected the 10 variables with the highest relative importance.\n",
        "df_super = df_super[['range_ThermalConductivity', 'range_atomic_radius', 'wtd_std_ThermalConductivity',\n",
        "                  'wtd_gmean_ThermalConductivity', 'wtd_std_ElectronAffinity','std_atomic_mass',\n",
        "                  'wtd_range_ElectronAffinity', 'std_Density', 'gmean_ElectronAffinity','wtd_mean_Valence'\n",
        "                  ,'critical_temp']]\n",
        "\n",
        "super = df_super.to_numpy()\n",
        "df_super.head()"
      ],
      "execution_count": null,
      "outputs": [
        {
          "output_type": "execute_result",
          "data": {
            "text/html": [
              "<div>\n",
              "<style scoped>\n",
              "    .dataframe tbody tr th:only-of-type {\n",
              "        vertical-align: middle;\n",
              "    }\n",
              "\n",
              "    .dataframe tbody tr th {\n",
              "        vertical-align: top;\n",
              "    }\n",
              "\n",
              "    .dataframe thead th {\n",
              "        text-align: right;\n",
              "    }\n",
              "</style>\n",
              "<table border=\"1\" class=\"dataframe\">\n",
              "  <thead>\n",
              "    <tr style=\"text-align: right;\">\n",
              "      <th></th>\n",
              "      <th>range_ThermalConductivity</th>\n",
              "      <th>range_atomic_radius</th>\n",
              "      <th>wtd_std_ThermalConductivity</th>\n",
              "      <th>wtd_gmean_ThermalConductivity</th>\n",
              "      <th>wtd_std_ElectronAffinity</th>\n",
              "      <th>std_atomic_mass</th>\n",
              "      <th>wtd_range_ElectronAffinity</th>\n",
              "      <th>std_Density</th>\n",
              "      <th>gmean_ElectronAffinity</th>\n",
              "      <th>wtd_mean_Valence</th>\n",
              "      <th>critical_temp</th>\n",
              "    </tr>\n",
              "  </thead>\n",
              "  <tbody>\n",
              "    <tr>\n",
              "      <th>0</th>\n",
              "      <td>399.97342</td>\n",
              "      <td>205</td>\n",
              "      <td>138.517163</td>\n",
              "      <td>0.621979</td>\n",
              "      <td>42.558396</td>\n",
              "      <td>51.968828</td>\n",
              "      <td>80.987143</td>\n",
              "      <td>3306.162897</td>\n",
              "      <td>60.123179</td>\n",
              "      <td>2.257143</td>\n",
              "      <td>29.0</td>\n",
              "    </tr>\n",
              "    <tr>\n",
              "      <th>1</th>\n",
              "      <td>429.97342</td>\n",
              "      <td>205</td>\n",
              "      <td>139.630922</td>\n",
              "      <td>0.619735</td>\n",
              "      <td>41.667621</td>\n",
              "      <td>47.094633</td>\n",
              "      <td>81.207857</td>\n",
              "      <td>3767.403176</td>\n",
              "      <td>69.833315</td>\n",
              "      <td>2.257143</td>\n",
              "      <td>26.0</td>\n",
              "    </tr>\n",
              "    <tr>\n",
              "      <th>2</th>\n",
              "      <td>399.97342</td>\n",
              "      <td>205</td>\n",
              "      <td>138.540613</td>\n",
              "      <td>0.619095</td>\n",
              "      <td>41.639878</td>\n",
              "      <td>51.968828</td>\n",
              "      <td>81.207857</td>\n",
              "      <td>3306.162897</td>\n",
              "      <td>60.123179</td>\n",
              "      <td>2.271429</td>\n",
              "      <td>19.0</td>\n",
              "    </tr>\n",
              "    <tr>\n",
              "      <th>3</th>\n",
              "      <td>399.97342</td>\n",
              "      <td>205</td>\n",
              "      <td>138.528893</td>\n",
              "      <td>0.620535</td>\n",
              "      <td>42.102344</td>\n",
              "      <td>51.968828</td>\n",
              "      <td>81.097500</td>\n",
              "      <td>3306.162897</td>\n",
              "      <td>60.123179</td>\n",
              "      <td>2.264286</td>\n",
              "      <td>22.0</td>\n",
              "    </tr>\n",
              "    <tr>\n",
              "      <th>4</th>\n",
              "      <td>399.97342</td>\n",
              "      <td>205</td>\n",
              "      <td>138.493671</td>\n",
              "      <td>0.624878</td>\n",
              "      <td>43.452059</td>\n",
              "      <td>51.968828</td>\n",
              "      <td>80.766429</td>\n",
              "      <td>3306.162897</td>\n",
              "      <td>60.123179</td>\n",
              "      <td>2.242857</td>\n",
              "      <td>23.0</td>\n",
              "    </tr>\n",
              "  </tbody>\n",
              "</table>\n",
              "</div>"
            ],
            "text/plain": [
              "   range_ThermalConductivity  ...  critical_temp\n",
              "0                  399.97342  ...           29.0\n",
              "1                  429.97342  ...           26.0\n",
              "2                  399.97342  ...           19.0\n",
              "3                  399.97342  ...           22.0\n",
              "4                  399.97342  ...           23.0\n",
              "\n",
              "[5 rows x 11 columns]"
            ]
          },
          "metadata": {
            "tags": []
          },
          "execution_count": 22
        }
      ]
    },
    {
      "cell_type": "code",
      "metadata": {
        "id": "jYe6nM5_1hhz",
        "colab": {
          "base_uri": "https://localhost:8080/",
          "height": 87
        },
        "outputId": "f7223616-1c28-47f6-f3da-7cf9ca5bfdc1"
      },
      "source": [
        "#Critical Temperature is in the last column of the dataset\n",
        "split_data = train_val_test_split(super[:,:-1],\n",
        "                                  super[:,-1],\n",
        "                                  PERCENT_TEST,\n",
        "                                  PERCENT_VAL,\n",
        "                                  random_state)\n",
        "#unpacking\n",
        "X_train, X_val, X_test, y_train, y_val, y_test = split_data\n",
        "\n",
        "#printing sizes to check\n",
        "print('Input length:', len(super))\n",
        "print('Number of training samples:', len(X_train))\n",
        "print('Number of validation samples:', len(X_val))\n",
        "print('Number of testing samples:', len(X_test))"
      ],
      "execution_count": null,
      "outputs": [
        {
          "output_type": "stream",
          "text": [
            "Input length: 21263\n",
            "Number of training samples: 17031\n",
            "Number of validation samples: 2105\n",
            "Number of testing samples: 2127\n"
          ],
          "name": "stdout"
        }
      ]
    },
    {
      "cell_type": "code",
      "metadata": {
        "id": "jpIGGM5T3lAm",
        "colab": {
          "base_uri": "https://localhost:8080/",
          "height": 478
        },
        "outputId": "2a14d170-cc73-4203-ea59-b5762e0b6b61"
      },
      "source": [
        "random_search.fit(X_train, y_train)"
      ],
      "execution_count": null,
      "outputs": [
        {
          "output_type": "stream",
          "text": [
            "Fitting 5 folds for each of 10 candidates, totalling 50 fits\n"
          ],
          "name": "stdout"
        },
        {
          "output_type": "stream",
          "text": [
            "[Parallel(n_jobs=-1)]: Using backend LokyBackend with 2 concurrent workers.\n",
            "[Parallel(n_jobs=-1)]: Done  46 tasks      | elapsed:  5.2min\n",
            "[Parallel(n_jobs=-1)]: Done  50 out of  50 | elapsed:  5.6min finished\n"
          ],
          "name": "stderr"
        },
        {
          "output_type": "execute_result",
          "data": {
            "text/plain": [
              "RandomizedSearchCV(cv=None, error_score=nan,\n",
              "                   estimator=XGBRegressor(base_score=0.5, booster='gbtree',\n",
              "                                          colsample_bylevel=1,\n",
              "                                          colsample_bynode=1,\n",
              "                                          colsample_bytree=1, gamma=0,\n",
              "                                          importance_type='gain',\n",
              "                                          learning_rate=0.02, max_delta_step=0,\n",
              "                                          max_depth=3, min_child_weight=1,\n",
              "                                          missing=None, n_estimators=800,\n",
              "                                          n_jobs=1, nthread=1,\n",
              "                                          objective='reg:linear',\n",
              "                                          random_state=0, reg_alpha=0,\n",
              "                                          reg_lambda=1, scale_pos_weight=1,\n",
              "                                          seed=None, silent=True, subsample=1,\n",
              "                                          verbosity=1),\n",
              "                   iid='deprecated', n_iter=10, n_jobs=-1,\n",
              "                   param_distributions={'colsample_bytree': [0.6, 0.8, 1.0],\n",
              "                                        'gamma': [0, 0.5, 1],\n",
              "                                        'max_depth': [2, 4, 6],\n",
              "                                        'min_child_weight': [1, 5, 10]},\n",
              "                   pre_dispatch='2*n_jobs', random_state=123, refit=True,\n",
              "                   return_train_score=False, scoring=None, verbose=1)"
            ]
          },
          "metadata": {
            "tags": []
          },
          "execution_count": 24
        }
      ]
    },
    {
      "cell_type": "code",
      "metadata": {
        "id": "NjhXmnCe3pX1",
        "colab": {
          "base_uri": "https://localhost:8080/",
          "height": 141
        },
        "outputId": "36eaf8d6-2782-44a3-a5cb-93035c679673"
      },
      "source": [
        "best_xgb = random_search.best_estimator_\n",
        "eval_sets = [(X_train, y_train), (X_val, y_val)]\n",
        "best_xgb.fit(X_train, y_train,\n",
        "             eval_metric='mae',\n",
        "             eval_set=eval_sets,\n",
        "             verbose = False)"
      ],
      "execution_count": null,
      "outputs": [
        {
          "output_type": "execute_result",
          "data": {
            "text/plain": [
              "XGBRegressor(base_score=0.5, booster='gbtree', colsample_bylevel=1,\n",
              "             colsample_bynode=1, colsample_bytree=0.6, gamma=1,\n",
              "             importance_type='gain', learning_rate=0.02, max_delta_step=0,\n",
              "             max_depth=6, min_child_weight=1, missing=None, n_estimators=800,\n",
              "             n_jobs=1, nthread=1, objective='reg:linear', random_state=0,\n",
              "             reg_alpha=0, reg_lambda=1, scale_pos_weight=1, seed=None,\n",
              "             silent=True, subsample=1, verbosity=1)"
            ]
          },
          "metadata": {
            "tags": []
          },
          "execution_count": 25
        }
      ]
    },
    {
      "cell_type": "code",
      "metadata": {
        "id": "LBKc2MnH3uKY",
        "colab": {
          "base_uri": "https://localhost:8080/",
          "height": 34
        },
        "outputId": "b886e3f6-cf27-4d92-e8a2-8496ac387048"
      },
      "source": [
        "baseline_abserr = np.mean( np.abs(y_val - y_train.mean()) )\n",
        "baseline_abserr"
      ],
      "execution_count": null,
      "outputs": [
        {
          "output_type": "execute_result",
          "data": {
            "text/plain": [
              "29.792239293312555"
            ]
          },
          "metadata": {
            "tags": []
          },
          "execution_count": 26
        }
      ]
    },
    {
      "cell_type": "code",
      "metadata": {
        "id": "m-byZxTt3vMC",
        "colab": {
          "base_uri": "https://localhost:8080/",
          "height": 730
        },
        "outputId": "eeee333e-1b7e-4f35-ddab-28c3577767e5"
      },
      "source": [
        "results = best_xgb.evals_result()\n",
        "epochs = len(results['validation_0']['mae']) \n",
        "x_axis = range(0, epochs)\n",
        "\n",
        "\n",
        "fig, ax = plt.subplots(figsize=(12,12))\n",
        "ax.plot(x_axis, results['validation_0']['mae'], label='Training')\n",
        "ax.plot(x_axis, results['validation_1']['mae'], label='Validation')\n",
        "\n",
        "plt.hlines(baseline_abserr, 0, 800, colors='b', linestyles='dotted', label='Baseline')    \n",
        "ax.legend()\n",
        "\n",
        "plt.ylabel('Mean Absolute Error')\n",
        "plt.xlabel('Iterations M')\n",
        "plt.title('Training and Validation Absolute Error')\n",
        "plt.show()"
      ],
      "execution_count": null,
      "outputs": [
        {
          "output_type": "display_data",
          "data": {
            "image/png": "[encoded data removed]",
            "text/plain": [
              "<Figure size 864x864 with 1 Axes>"
            ]
          },
          "metadata": {
            "tags": [],
            "needs_background": "light"
          }
        }
      ]
    },
    {
      "cell_type": "code",
      "metadata": {
        "id": "vanlbsvk32xq",
        "colab": {
          "base_uri": "https://localhost:8080/",
          "height": 884
        },
        "outputId": "a5fa373c-4106-4a07-d83b-7880aed68c00"
      },
      "source": [
        "feat = best_xgb.feature_importances_\n",
        "names = list(df_super.columns)\n",
        "\n",
        "feat, names = zip(*sorted(zip(feat, names)))\n",
        "plt.figure(figsize=(20,20))\n",
        "plt.barh( names, feat)\n",
        "plt.xlabel('Relative Importance')\n",
        "plt.show()"
      ],
      "execution_count": null,
      "outputs": [
        {
          "output_type": "display_data",
          "data": {
            "image/png": "[encoded data removed]",
            "text/plain": [
              "<Figure size 1440x1440 with 1 Axes>"
            ]
          },
          "metadata": {
            "tags": [],
            "needs_background": "light"
          }
        }
      ]
    },
    {
      "cell_type": "markdown",
      "metadata": {
        "id": "yIIcSRZwRpu9"
      },
      "source": [
        "The first time we ran this on the entire dataset (with 81 features), the randomized search (grid search alternative) took over half an hour to run. In the end, the vast majority of features were completely irrelevant (some didn't even get splits in the tree) so we decided to take only the ten most important features to make future testing easier, and to improve the overall model."
      ]
    },
    {
      "cell_type": "markdown",
      "metadata": {
        "id": "CbjgK67Q8ypI"
      },
      "source": [
        "##Stretch Goals"
      ]
    },
    {
      "cell_type": "code",
      "metadata": {
        "id": "-IbWvh2-MpaY"
      },
      "source": [
        "import statistics as stat"
      ],
      "execution_count": null,
      "outputs": []
    },
    {
      "cell_type": "code",
      "metadata": {
        "id": "1JuTpH6p_Pnf"
      },
      "source": [
        "#Thanks to https://machinelearningmastery.com/implement-decision-tree-algorithm-scratch-python/\n",
        "def gini_index(groups, classes):\n",
        "\t# count all samples at split point\n",
        "\tn_instances = float(sum([len(group) for group in groups]))\n",
        "\t# sum weighted Gini index for each group\n",
        "\tgini = 0.0\n",
        "\tfor group in groups:\n",
        "\t\tsize = float(len(group))\n",
        "\t\t# avoid divide by zero\n",
        "\t\tif size == 0:\n",
        "\t\t\tcontinue\n",
        "\t\tscore = 0.0\n",
        "\t\t# score the group based on the score for each class\n",
        "\t\tfor class_val in classes:\n",
        "\t\t\tp = [row[-1] for row in group].count(class_val) / size\n",
        "\t\t\tscore += p * p\n",
        "\t\t# weight the group score by its relative size\n",
        "\t\tgini += (1.0 - score) * (size / n_instances)\n",
        "\treturn gini\n",
        "\n",
        "class tree():\n",
        "  def __init__(self, loss, max_depth, isreg  = True):\n",
        "    self.loss = loss\n",
        "    self.max_depth = max_depth\n",
        "    self.root = None\n",
        "    self.reg = isreg\n",
        "\n",
        "  # Split a dataset based on an attribute and an attribute value\n",
        "  def test_split(self, index, value, dataset):\n",
        "    left, right = list(), list()\n",
        "    for row in dataset:\n",
        "      if row[index] < value:\n",
        "        left.append(row)\n",
        "      else:\n",
        "        right.append(row)\n",
        "    return left, right\n",
        "\n",
        "  # Select the best split point for a dataset\n",
        "  def get_split(self, dataset):\n",
        "    class_values = list(set(row[-1] for row in dataset))\n",
        "    b_index, b_value, b_score, b_groups = 999, 999, 999, None\n",
        "    for index in range(len(dataset[0])-1):\n",
        "      for row in dataset:\n",
        "        groups = self.test_split(index, row[index], dataset)\n",
        "        score = self.loss(groups, class_values)\n",
        "        if score < b_score:\n",
        "          b_index, b_value, b_score, b_groups = index, row[index], score, groups\n",
        "    return {'index':b_index, 'value':b_value, 'groups':b_groups}\n",
        "\n",
        "  # Create a terminal node value\n",
        "  def to_terminal(self, group):\n",
        "    outcomes = [row[-1] for row in group]\n",
        "    if self.reg:\n",
        "      return sum(outcomes)/len(outcomes)\n",
        "    else:\n",
        "      return stat.mode(outcomes)\n",
        "\n",
        "  # Create child splits for a node or make terminal\n",
        "  def split(self, node, depth):\n",
        "    left, right = node['groups']\n",
        "    del(node['groups'])\n",
        "    # check for a no split\n",
        "    if not left or not right:\n",
        "      node['left'] = node['right'] = self.to_terminal(left + right)\n",
        "      return\n",
        "    # check for max depth\n",
        "    if depth >= self.max_depth:\n",
        "      node['left'], node['right'] = self.to_terminal(left), self.to_terminal(right)\n",
        "      return\n",
        "\n",
        "    node['left'] = self.get_split(left)\n",
        "    self.split(node['left'],  depth+1)\n",
        "    node['right'] = self.get_split(right)\n",
        "    self.split(node['right'], depth+1)\n",
        "    return \n",
        "\n",
        "\n",
        "  # Fit the data\n",
        "  def fit(self, X,y):\n",
        "    #numpy to formatted input\n",
        "    data = np.concatenate((X,y.reshape(-1,1)), axis = 1).tolist()   \n",
        "\n",
        "    self.root = self.get_split(data)\n",
        "    self.split(self.root, 1)\n",
        "    return self.root\n",
        "\n",
        "  # Make a prediction with a decision tree\n",
        "  def predict(self, X):\n",
        "    def predict_(node, X):\n",
        "        if row[node['index']] < node['value']:\n",
        "          if isinstance(node['left'], dict):\n",
        "            return (predict_(node['left'], row))\n",
        "          else:\n",
        "            return node['left']\n",
        "        else:\n",
        "          if isinstance(node['right'], dict):\n",
        "            return (predict_(node['right'], row))\n",
        "          else:\n",
        "            return node['right']\n",
        "    data = X.tolist()   \n",
        "    pred = []\n",
        "    for row in data:\n",
        "      pred.append(predict_(self.root, row))\n",
        "    return pred\n"
      ],
      "execution_count": null,
      "outputs": []
    },
    {
      "cell_type": "code",
      "metadata": {
        "id": "3EzJ74w-0AHo",
        "colab": {
          "base_uri": "https://localhost:8080/",
          "height": 212
        },
        "outputId": "93fdd470-bf64-4b3e-dadd-874b38c0e859"
      },
      "source": [
        "!wget -O iris.data https://archive.ics.uci.edu/ml/machine-learning-databases/iris/iris.data"
      ],
      "execution_count": null,
      "outputs": [
        {
          "output_type": "stream",
          "text": [
            "--2020-10-22 05:46:27--  https://archive.ics.uci.edu/ml/machine-learning-databases/iris/iris.data\n",
            "Resolving archive.ics.uci.edu (archive.ics.uci.edu)... 128.195.10.252\n",
            "Connecting to archive.ics.uci.edu (archive.ics.uci.edu)|128.195.10.252|:443... connected.\n",
            "HTTP request sent, awaiting response... 200 OK\n",
            "Length: 4551 (4.4K) [application/x-httpd-php]\n",
            "Saving to: ‘iris.data’\n",
            "\n",
            "iris.data           100%[===================>]   4.44K  --.-KB/s    in 0s      \n",
            "\n",
            "2020-10-22 05:46:28 (84.1 MB/s) - ‘iris.data’ saved [4551/4551]\n",
            "\n"
          ],
          "name": "stdout"
        }
      ]
    },
    {
      "cell_type": "code",
      "metadata": {
        "id": "eF4Noqb40ED6",
        "colab": {
          "base_uri": "https://localhost:8080/",
          "height": 306
        },
        "outputId": "0a71b9b0-373f-46cc-820d-a9370f96e372"
      },
      "source": [
        "#reading the data into a numpy array of floats\n",
        "header = ['sepal length','sepal width', 'petal length', 'petal width', 'classes']\n",
        "\n",
        "iris_df = pd.read_csv('iris.data', names = header)\n",
        "#text to numerical\n",
        "\n",
        "class_labels = iris_df.classes.unique()\n",
        "for i, label in enumerate(class_labels):\n",
        "  iris_df.classes[iris_df.classes == label] = i\n",
        "\n",
        "iris = iris_df.to_numpy().astype('float')\n",
        "iris_df.head()"
      ],
      "execution_count": null,
      "outputs": [
        {
          "output_type": "stream",
          "text": [
            "/usr/local/lib/python3.6/dist-packages/ipykernel_launcher.py:9: SettingWithCopyWarning: \n",
            "A value is trying to be set on a copy of a slice from a DataFrame\n",
            "\n",
            "See the caveats in the documentation: https://pandas.pydata.org/pandas-docs/stable/user_guide/indexing.html#returning-a-view-versus-a-copy\n",
            "  if __name__ == '__main__':\n"
          ],
          "name": "stderr"
        },
        {
          "output_type": "execute_result",
          "data": {
            "text/html": [
              "<div>\n",
              "<style scoped>\n",
              "    .dataframe tbody tr th:only-of-type {\n",
              "        vertical-align: middle;\n",
              "    }\n",
              "\n",
              "    .dataframe tbody tr th {\n",
              "        vertical-align: top;\n",
              "    }\n",
              "\n",
              "    .dataframe thead th {\n",
              "        text-align: right;\n",
              "    }\n",
              "</style>\n",
              "<table border=\"1\" class=\"dataframe\">\n",
              "  <thead>\n",
              "    <tr style=\"text-align: right;\">\n",
              "      <th></th>\n",
              "      <th>sepal length</th>\n",
              "      <th>sepal width</th>\n",
              "      <th>petal length</th>\n",
              "      <th>petal width</th>\n",
              "      <th>classes</th>\n",
              "    </tr>\n",
              "  </thead>\n",
              "  <tbody>\n",
              "    <tr>\n",
              "      <th>0</th>\n",
              "      <td>5.1</td>\n",
              "      <td>3.5</td>\n",
              "      <td>1.4</td>\n",
              "      <td>0.2</td>\n",
              "      <td>0</td>\n",
              "    </tr>\n",
              "    <tr>\n",
              "      <th>1</th>\n",
              "      <td>4.9</td>\n",
              "      <td>3.0</td>\n",
              "      <td>1.4</td>\n",
              "      <td>0.2</td>\n",
              "      <td>0</td>\n",
              "    </tr>\n",
              "    <tr>\n",
              "      <th>2</th>\n",
              "      <td>4.7</td>\n",
              "      <td>3.2</td>\n",
              "      <td>1.3</td>\n",
              "      <td>0.2</td>\n",
              "      <td>0</td>\n",
              "    </tr>\n",
              "    <tr>\n",
              "      <th>3</th>\n",
              "      <td>4.6</td>\n",
              "      <td>3.1</td>\n",
              "      <td>1.5</td>\n",
              "      <td>0.2</td>\n",
              "      <td>0</td>\n",
              "    </tr>\n",
              "    <tr>\n",
              "      <th>4</th>\n",
              "      <td>5.0</td>\n",
              "      <td>3.6</td>\n",
              "      <td>1.4</td>\n",
              "      <td>0.2</td>\n",
              "      <td>0</td>\n",
              "    </tr>\n",
              "  </tbody>\n",
              "</table>\n",
              "</div>"
            ],
            "text/plain": [
              "   sepal length  sepal width  petal length  petal width classes\n",
              "0           5.1          3.5           1.4          0.2       0\n",
              "1           4.9          3.0           1.4          0.2       0\n",
              "2           4.7          3.2           1.3          0.2       0\n",
              "3           4.6          3.1           1.5          0.2       0\n",
              "4           5.0          3.6           1.4          0.2       0"
            ]
          },
          "metadata": {
            "tags": []
          },
          "execution_count": 49
        }
      ]
    },
    {
      "cell_type": "code",
      "metadata": {
        "id": "lm5iZHji0RXn"
      },
      "source": [
        "X = iris[:,:-1]\n",
        "y = iris[:,-1]\n",
        "t = tree(gini_index, 5)\n",
        "tree = t.fit(X,y)"
      ],
      "execution_count": null,
      "outputs": []
    },
    {
      "cell_type": "code",
      "metadata": {
        "id": "5l0qFDM_1GGb",
        "colab": {
          "base_uri": "https://localhost:8080/",
          "height": 34
        },
        "outputId": "7bb8b545-9f3d-459d-ae16-17b37e373c0b"
      },
      "source": [
        "np.mean((np.round(t.predict(X))-y) != 0)"
      ],
      "execution_count": null,
      "outputs": [
        {
          "output_type": "execute_result",
          "data": {
            "text/plain": [
              "0.02666666666666667"
            ]
          },
          "metadata": {
            "tags": []
          },
          "execution_count": 66
        }
      ]
    },
    {
      "cell_type": "markdown",
      "metadata": {
        "id": "4I9WkbXj18PH"
      },
      "source": [
        "Classification error rate is 2.6% for a max depth of 3, 0.6% for a depth of 4, and goes to 0% for 5 and above."
      ]
    }
  ]
}